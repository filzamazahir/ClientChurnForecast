{
 "cells": [
  {
   "cell_type": "markdown",
   "metadata": {},
   "source": [
    "# Final Project - Interconnect (Forecast Churn of Clients)"
   ]
  },
  {
   "cell_type": "markdown",
   "metadata": {},
   "source": [
    "## Introduction"
   ]
  },
  {
   "cell_type": "markdown",
   "metadata": {},
   "source": [
    "Interconnect, a telecom operator would like to be able to forecast their churn of clients. If it’s discovered that a user is planning to leave, they will be offered promotional codes and special plan options. Interconnect’s marketing team has collected some of their clientele’s personal data, including information about their plans and contracts. These personal data, along with their plans and contracts is used to train a model that will predict whether a client will leave or not.\n",
    "\n",
    "To do this project, all data is combined together first, then preprocessed to ensure its valid and usable for training a model. Various classification algorithms such as Decision Tree Classifier, CatBoost Classifier, and LightGBM Classifier will be used. The criteria for a passing threshold is a AUC-ROC score of 0.75 or above."
   ]
  },
  {
   "cell_type": "markdown",
   "metadata": {},
   "source": [
    "## Preprocessing Data"
   ]
  },
  {
   "cell_type": "code",
   "execution_count": 112,
   "metadata": {},
   "outputs": [],
   "source": [
    "# Import libraries\n",
    "\n",
    "import pandas as pd\n",
    "import numpy as np\n",
    "from matplotlib import pyplot as plt\n",
    "\n",
    "from sklearn.preprocessing import OneHotEncoder\n",
    "from sklearn.preprocessing import StandardScaler\n",
    "from sklearn.model_selection import train_test_split\n",
    "\n",
    "from sklearn.tree import DecisionTreeClassifier\n",
    "from sklearn.ensemble import RandomForestClassifier\n",
    "from lightgbm import LGBMClassifier\n",
    "from catboost import CatBoostClassifier\n",
    "from sklearn.ensemble import GradientBoostingClassifier\n",
    "\n",
    "from sklearn.model_selection import RandomizedSearchCV\n",
    "from sklearn.metrics import roc_auc_score, roc_curve, accuracy_score\n"
   ]
  },
  {
   "cell_type": "code",
   "execution_count": 113,
   "metadata": {},
   "outputs": [],
   "source": [
    "# Load Data\n",
    "\n",
    "df_contract = pd.read_csv('/datasets/final_provider/contract.csv')\n",
    "df_personal = pd.read_csv('/datasets/final_provider/personal.csv')\n",
    "df_internet = pd.read_csv('/datasets/final_provider/internet.csv')\n",
    "df_phone = pd.read_csv('/datasets/final_provider/phone.csv')"
   ]
  },
  {
   "cell_type": "code",
   "execution_count": 114,
   "metadata": {},
   "outputs": [
    {
     "data": {
      "text/html": [
       "<div>\n",
       "<style scoped>\n",
       "    .dataframe tbody tr th:only-of-type {\n",
       "        vertical-align: middle;\n",
       "    }\n",
       "\n",
       "    .dataframe tbody tr th {\n",
       "        vertical-align: top;\n",
       "    }\n",
       "\n",
       "    .dataframe thead th {\n",
       "        text-align: right;\n",
       "    }\n",
       "</style>\n",
       "<table border=\"1\" class=\"dataframe\">\n",
       "  <thead>\n",
       "    <tr style=\"text-align: right;\">\n",
       "      <th></th>\n",
       "      <th>customerID</th>\n",
       "      <th>BeginDate</th>\n",
       "      <th>EndDate</th>\n",
       "      <th>Type</th>\n",
       "      <th>PaperlessBilling</th>\n",
       "      <th>PaymentMethod</th>\n",
       "      <th>MonthlyCharges</th>\n",
       "      <th>TotalCharges</th>\n",
       "    </tr>\n",
       "  </thead>\n",
       "  <tbody>\n",
       "    <tr>\n",
       "      <th>3931</th>\n",
       "      <td>8851-RAGOV</td>\n",
       "      <td>2018-01-01</td>\n",
       "      <td>No</td>\n",
       "      <td>Month-to-month</td>\n",
       "      <td>Yes</td>\n",
       "      <td>Mailed check</td>\n",
       "      <td>71.05</td>\n",
       "      <td>1837.7</td>\n",
       "    </tr>\n",
       "    <tr>\n",
       "      <th>2314</th>\n",
       "      <td>8197-BFWVU</td>\n",
       "      <td>2014-02-01</td>\n",
       "      <td>No</td>\n",
       "      <td>Two year</td>\n",
       "      <td>Yes</td>\n",
       "      <td>Bank transfer (automatic)</td>\n",
       "      <td>93.25</td>\n",
       "      <td>6688.95</td>\n",
       "    </tr>\n",
       "    <tr>\n",
       "      <th>5127</th>\n",
       "      <td>8199-ZLLSA</td>\n",
       "      <td>2014-03-01</td>\n",
       "      <td>2019-10-01 00:00:00</td>\n",
       "      <td>One year</td>\n",
       "      <td>Yes</td>\n",
       "      <td>Bank transfer (automatic)</td>\n",
       "      <td>118.35</td>\n",
       "      <td>7804.15</td>\n",
       "    </tr>\n",
       "    <tr>\n",
       "      <th>2731</th>\n",
       "      <td>1110-KYLGQ</td>\n",
       "      <td>2014-11-01</td>\n",
       "      <td>No</td>\n",
       "      <td>Month-to-month</td>\n",
       "      <td>No</td>\n",
       "      <td>Credit card (automatic)</td>\n",
       "      <td>108.25</td>\n",
       "      <td>6780.1</td>\n",
       "    </tr>\n",
       "    <tr>\n",
       "      <th>4163</th>\n",
       "      <td>9253-VIFJQ</td>\n",
       "      <td>2014-09-01</td>\n",
       "      <td>No</td>\n",
       "      <td>One year</td>\n",
       "      <td>No</td>\n",
       "      <td>Credit card (automatic)</td>\n",
       "      <td>67.05</td>\n",
       "      <td>4309.55</td>\n",
       "    </tr>\n",
       "    <tr>\n",
       "      <th>3940</th>\n",
       "      <td>1559-DTODC</td>\n",
       "      <td>2018-07-01</td>\n",
       "      <td>No</td>\n",
       "      <td>Month-to-month</td>\n",
       "      <td>Yes</td>\n",
       "      <td>Bank transfer (automatic)</td>\n",
       "      <td>25.15</td>\n",
       "      <td>468.35</td>\n",
       "    </tr>\n",
       "    <tr>\n",
       "      <th>6560</th>\n",
       "      <td>9801-NOSHQ</td>\n",
       "      <td>2018-03-01</td>\n",
       "      <td>No</td>\n",
       "      <td>One year</td>\n",
       "      <td>No</td>\n",
       "      <td>Mailed check</td>\n",
       "      <td>19.80</td>\n",
       "      <td>465.45</td>\n",
       "    </tr>\n",
       "    <tr>\n",
       "      <th>5863</th>\n",
       "      <td>7969-AULMZ</td>\n",
       "      <td>2018-03-01</td>\n",
       "      <td>2019-12-01 00:00:00</td>\n",
       "      <td>Month-to-month</td>\n",
       "      <td>Yes</td>\n",
       "      <td>Electronic check</td>\n",
       "      <td>97.35</td>\n",
       "      <td>2119.5</td>\n",
       "    </tr>\n",
       "    <tr>\n",
       "      <th>456</th>\n",
       "      <td>5149-CUZUJ</td>\n",
       "      <td>2017-10-01</td>\n",
       "      <td>No</td>\n",
       "      <td>One year</td>\n",
       "      <td>No</td>\n",
       "      <td>Bank transfer (automatic)</td>\n",
       "      <td>92.90</td>\n",
       "      <td>2768.35</td>\n",
       "    </tr>\n",
       "    <tr>\n",
       "      <th>5095</th>\n",
       "      <td>7269-JISCY</td>\n",
       "      <td>2015-07-01</td>\n",
       "      <td>No</td>\n",
       "      <td>One year</td>\n",
       "      <td>No</td>\n",
       "      <td>Bank transfer (automatic)</td>\n",
       "      <td>45.05</td>\n",
       "      <td>2462.6</td>\n",
       "    </tr>\n",
       "  </tbody>\n",
       "</table>\n",
       "</div>"
      ],
      "text/plain": [
       "      customerID   BeginDate              EndDate            Type  \\\n",
       "3931  8851-RAGOV  2018-01-01                   No  Month-to-month   \n",
       "2314  8197-BFWVU  2014-02-01                   No        Two year   \n",
       "5127  8199-ZLLSA  2014-03-01  2019-10-01 00:00:00        One year   \n",
       "2731  1110-KYLGQ  2014-11-01                   No  Month-to-month   \n",
       "4163  9253-VIFJQ  2014-09-01                   No        One year   \n",
       "3940  1559-DTODC  2018-07-01                   No  Month-to-month   \n",
       "6560  9801-NOSHQ  2018-03-01                   No        One year   \n",
       "5863  7969-AULMZ  2018-03-01  2019-12-01 00:00:00  Month-to-month   \n",
       "456   5149-CUZUJ  2017-10-01                   No        One year   \n",
       "5095  7269-JISCY  2015-07-01                   No        One year   \n",
       "\n",
       "     PaperlessBilling              PaymentMethod  MonthlyCharges TotalCharges  \n",
       "3931              Yes               Mailed check           71.05       1837.7  \n",
       "2314              Yes  Bank transfer (automatic)           93.25      6688.95  \n",
       "5127              Yes  Bank transfer (automatic)          118.35      7804.15  \n",
       "2731               No    Credit card (automatic)          108.25       6780.1  \n",
       "4163               No    Credit card (automatic)           67.05      4309.55  \n",
       "3940              Yes  Bank transfer (automatic)           25.15       468.35  \n",
       "6560               No               Mailed check           19.80       465.45  \n",
       "5863              Yes           Electronic check           97.35       2119.5  \n",
       "456                No  Bank transfer (automatic)           92.90      2768.35  \n",
       "5095               No  Bank transfer (automatic)           45.05       2462.6  "
      ]
     },
     "execution_count": 114,
     "metadata": {},
     "output_type": "execute_result"
    }
   ],
   "source": [
    "df_contract.sample(10)"
   ]
  },
  {
   "cell_type": "code",
   "execution_count": 115,
   "metadata": {},
   "outputs": [
    {
     "data": {
      "text/html": [
       "<div>\n",
       "<style scoped>\n",
       "    .dataframe tbody tr th:only-of-type {\n",
       "        vertical-align: middle;\n",
       "    }\n",
       "\n",
       "    .dataframe tbody tr th {\n",
       "        vertical-align: top;\n",
       "    }\n",
       "\n",
       "    .dataframe thead th {\n",
       "        text-align: right;\n",
       "    }\n",
       "</style>\n",
       "<table border=\"1\" class=\"dataframe\">\n",
       "  <thead>\n",
       "    <tr style=\"text-align: right;\">\n",
       "      <th></th>\n",
       "      <th>customerID</th>\n",
       "      <th>gender</th>\n",
       "      <th>SeniorCitizen</th>\n",
       "      <th>Partner</th>\n",
       "      <th>Dependents</th>\n",
       "    </tr>\n",
       "  </thead>\n",
       "  <tbody>\n",
       "    <tr>\n",
       "      <th>3625</th>\n",
       "      <td>1591-XWLGB</td>\n",
       "      <td>Female</td>\n",
       "      <td>0</td>\n",
       "      <td>Yes</td>\n",
       "      <td>No</td>\n",
       "    </tr>\n",
       "    <tr>\n",
       "      <th>4932</th>\n",
       "      <td>5566-SOEZD</td>\n",
       "      <td>Male</td>\n",
       "      <td>0</td>\n",
       "      <td>Yes</td>\n",
       "      <td>Yes</td>\n",
       "    </tr>\n",
       "    <tr>\n",
       "      <th>1447</th>\n",
       "      <td>2951-QOQTK</td>\n",
       "      <td>Male</td>\n",
       "      <td>0</td>\n",
       "      <td>No</td>\n",
       "      <td>Yes</td>\n",
       "    </tr>\n",
       "    <tr>\n",
       "      <th>4433</th>\n",
       "      <td>4749-OJKQU</td>\n",
       "      <td>Female</td>\n",
       "      <td>0</td>\n",
       "      <td>No</td>\n",
       "      <td>No</td>\n",
       "    </tr>\n",
       "    <tr>\n",
       "      <th>3758</th>\n",
       "      <td>8885-QSQBX</td>\n",
       "      <td>Female</td>\n",
       "      <td>0</td>\n",
       "      <td>No</td>\n",
       "      <td>No</td>\n",
       "    </tr>\n",
       "    <tr>\n",
       "      <th>5659</th>\n",
       "      <td>0674-GCDXG</td>\n",
       "      <td>Male</td>\n",
       "      <td>0</td>\n",
       "      <td>No</td>\n",
       "      <td>No</td>\n",
       "    </tr>\n",
       "    <tr>\n",
       "      <th>989</th>\n",
       "      <td>3280-NMUVX</td>\n",
       "      <td>Male</td>\n",
       "      <td>0</td>\n",
       "      <td>Yes</td>\n",
       "      <td>Yes</td>\n",
       "    </tr>\n",
       "    <tr>\n",
       "      <th>3083</th>\n",
       "      <td>1599-EAHXY</td>\n",
       "      <td>Male</td>\n",
       "      <td>0</td>\n",
       "      <td>Yes</td>\n",
       "      <td>Yes</td>\n",
       "    </tr>\n",
       "    <tr>\n",
       "      <th>3941</th>\n",
       "      <td>4797-MIWUM</td>\n",
       "      <td>Male</td>\n",
       "      <td>0</td>\n",
       "      <td>Yes</td>\n",
       "      <td>Yes</td>\n",
       "    </tr>\n",
       "    <tr>\n",
       "      <th>1005</th>\n",
       "      <td>2858-EIMXH</td>\n",
       "      <td>Female</td>\n",
       "      <td>1</td>\n",
       "      <td>Yes</td>\n",
       "      <td>No</td>\n",
       "    </tr>\n",
       "  </tbody>\n",
       "</table>\n",
       "</div>"
      ],
      "text/plain": [
       "      customerID  gender  SeniorCitizen Partner Dependents\n",
       "3625  1591-XWLGB  Female              0     Yes         No\n",
       "4932  5566-SOEZD    Male              0     Yes        Yes\n",
       "1447  2951-QOQTK    Male              0      No        Yes\n",
       "4433  4749-OJKQU  Female              0      No         No\n",
       "3758  8885-QSQBX  Female              0      No         No\n",
       "5659  0674-GCDXG    Male              0      No         No\n",
       "989   3280-NMUVX    Male              0     Yes        Yes\n",
       "3083  1599-EAHXY    Male              0     Yes        Yes\n",
       "3941  4797-MIWUM    Male              0     Yes        Yes\n",
       "1005  2858-EIMXH  Female              1     Yes         No"
      ]
     },
     "execution_count": 115,
     "metadata": {},
     "output_type": "execute_result"
    }
   ],
   "source": [
    "df_personal.sample(10)"
   ]
  },
  {
   "cell_type": "code",
   "execution_count": 116,
   "metadata": {},
   "outputs": [
    {
     "data": {
      "text/html": [
       "<div>\n",
       "<style scoped>\n",
       "    .dataframe tbody tr th:only-of-type {\n",
       "        vertical-align: middle;\n",
       "    }\n",
       "\n",
       "    .dataframe tbody tr th {\n",
       "        vertical-align: top;\n",
       "    }\n",
       "\n",
       "    .dataframe thead th {\n",
       "        text-align: right;\n",
       "    }\n",
       "</style>\n",
       "<table border=\"1\" class=\"dataframe\">\n",
       "  <thead>\n",
       "    <tr style=\"text-align: right;\">\n",
       "      <th></th>\n",
       "      <th>customerID</th>\n",
       "      <th>InternetService</th>\n",
       "      <th>OnlineSecurity</th>\n",
       "      <th>OnlineBackup</th>\n",
       "      <th>DeviceProtection</th>\n",
       "      <th>TechSupport</th>\n",
       "      <th>StreamingTV</th>\n",
       "      <th>StreamingMovies</th>\n",
       "    </tr>\n",
       "  </thead>\n",
       "  <tbody>\n",
       "    <tr>\n",
       "      <th>224</th>\n",
       "      <td>4130-MZLCC</td>\n",
       "      <td>DSL</td>\n",
       "      <td>No</td>\n",
       "      <td>Yes</td>\n",
       "      <td>No</td>\n",
       "      <td>No</td>\n",
       "      <td>No</td>\n",
       "      <td>No</td>\n",
       "    </tr>\n",
       "    <tr>\n",
       "      <th>1134</th>\n",
       "      <td>7077-XJMET</td>\n",
       "      <td>DSL</td>\n",
       "      <td>No</td>\n",
       "      <td>No</td>\n",
       "      <td>Yes</td>\n",
       "      <td>Yes</td>\n",
       "      <td>Yes</td>\n",
       "      <td>Yes</td>\n",
       "    </tr>\n",
       "    <tr>\n",
       "      <th>4312</th>\n",
       "      <td>7139-JZFVG</td>\n",
       "      <td>DSL</td>\n",
       "      <td>Yes</td>\n",
       "      <td>Yes</td>\n",
       "      <td>Yes</td>\n",
       "      <td>No</td>\n",
       "      <td>No</td>\n",
       "      <td>No</td>\n",
       "    </tr>\n",
       "    <tr>\n",
       "      <th>3140</th>\n",
       "      <td>3657-COGMW</td>\n",
       "      <td>Fiber optic</td>\n",
       "      <td>Yes</td>\n",
       "      <td>Yes</td>\n",
       "      <td>Yes</td>\n",
       "      <td>No</td>\n",
       "      <td>Yes</td>\n",
       "      <td>Yes</td>\n",
       "    </tr>\n",
       "    <tr>\n",
       "      <th>103</th>\n",
       "      <td>4622-YNKIJ</td>\n",
       "      <td>Fiber optic</td>\n",
       "      <td>Yes</td>\n",
       "      <td>No</td>\n",
       "      <td>No</td>\n",
       "      <td>Yes</td>\n",
       "      <td>Yes</td>\n",
       "      <td>No</td>\n",
       "    </tr>\n",
       "    <tr>\n",
       "      <th>2045</th>\n",
       "      <td>1550-EENBN</td>\n",
       "      <td>Fiber optic</td>\n",
       "      <td>Yes</td>\n",
       "      <td>Yes</td>\n",
       "      <td>No</td>\n",
       "      <td>No</td>\n",
       "      <td>Yes</td>\n",
       "      <td>Yes</td>\n",
       "    </tr>\n",
       "    <tr>\n",
       "      <th>331</th>\n",
       "      <td>0334-GDDSO</td>\n",
       "      <td>Fiber optic</td>\n",
       "      <td>No</td>\n",
       "      <td>Yes</td>\n",
       "      <td>No</td>\n",
       "      <td>No</td>\n",
       "      <td>No</td>\n",
       "      <td>No</td>\n",
       "    </tr>\n",
       "    <tr>\n",
       "      <th>2445</th>\n",
       "      <td>9754-CLVZW</td>\n",
       "      <td>DSL</td>\n",
       "      <td>Yes</td>\n",
       "      <td>Yes</td>\n",
       "      <td>No</td>\n",
       "      <td>Yes</td>\n",
       "      <td>No</td>\n",
       "      <td>No</td>\n",
       "    </tr>\n",
       "    <tr>\n",
       "      <th>61</th>\n",
       "      <td>7410-OIEDU</td>\n",
       "      <td>Fiber optic</td>\n",
       "      <td>Yes</td>\n",
       "      <td>No</td>\n",
       "      <td>Yes</td>\n",
       "      <td>No</td>\n",
       "      <td>No</td>\n",
       "      <td>No</td>\n",
       "    </tr>\n",
       "    <tr>\n",
       "      <th>642</th>\n",
       "      <td>3174-AKMAS</td>\n",
       "      <td>DSL</td>\n",
       "      <td>No</td>\n",
       "      <td>Yes</td>\n",
       "      <td>No</td>\n",
       "      <td>Yes</td>\n",
       "      <td>Yes</td>\n",
       "      <td>No</td>\n",
       "    </tr>\n",
       "  </tbody>\n",
       "</table>\n",
       "</div>"
      ],
      "text/plain": [
       "      customerID InternetService OnlineSecurity OnlineBackup DeviceProtection  \\\n",
       "224   4130-MZLCC             DSL             No          Yes               No   \n",
       "1134  7077-XJMET             DSL             No           No              Yes   \n",
       "4312  7139-JZFVG             DSL            Yes          Yes              Yes   \n",
       "3140  3657-COGMW     Fiber optic            Yes          Yes              Yes   \n",
       "103   4622-YNKIJ     Fiber optic            Yes           No               No   \n",
       "2045  1550-EENBN     Fiber optic            Yes          Yes               No   \n",
       "331   0334-GDDSO     Fiber optic             No          Yes               No   \n",
       "2445  9754-CLVZW             DSL            Yes          Yes               No   \n",
       "61    7410-OIEDU     Fiber optic            Yes           No              Yes   \n",
       "642   3174-AKMAS             DSL             No          Yes               No   \n",
       "\n",
       "     TechSupport StreamingTV StreamingMovies  \n",
       "224           No          No              No  \n",
       "1134         Yes         Yes             Yes  \n",
       "4312          No          No              No  \n",
       "3140          No         Yes             Yes  \n",
       "103          Yes         Yes              No  \n",
       "2045          No         Yes             Yes  \n",
       "331           No          No              No  \n",
       "2445         Yes          No              No  \n",
       "61            No          No              No  \n",
       "642          Yes         Yes              No  "
      ]
     },
     "execution_count": 116,
     "metadata": {},
     "output_type": "execute_result"
    }
   ],
   "source": [
    "df_internet.sample(10)"
   ]
  },
  {
   "cell_type": "code",
   "execution_count": 117,
   "metadata": {},
   "outputs": [
    {
     "data": {
      "text/html": [
       "<div>\n",
       "<style scoped>\n",
       "    .dataframe tbody tr th:only-of-type {\n",
       "        vertical-align: middle;\n",
       "    }\n",
       "\n",
       "    .dataframe tbody tr th {\n",
       "        vertical-align: top;\n",
       "    }\n",
       "\n",
       "    .dataframe thead th {\n",
       "        text-align: right;\n",
       "    }\n",
       "</style>\n",
       "<table border=\"1\" class=\"dataframe\">\n",
       "  <thead>\n",
       "    <tr style=\"text-align: right;\">\n",
       "      <th></th>\n",
       "      <th>customerID</th>\n",
       "      <th>MultipleLines</th>\n",
       "    </tr>\n",
       "  </thead>\n",
       "  <tbody>\n",
       "    <tr>\n",
       "      <th>1811</th>\n",
       "      <td>4373-MAVJG</td>\n",
       "      <td>Yes</td>\n",
       "    </tr>\n",
       "    <tr>\n",
       "      <th>5658</th>\n",
       "      <td>4759-PXTAN</td>\n",
       "      <td>Yes</td>\n",
       "    </tr>\n",
       "    <tr>\n",
       "      <th>3960</th>\n",
       "      <td>5018-GWURO</td>\n",
       "      <td>Yes</td>\n",
       "    </tr>\n",
       "    <tr>\n",
       "      <th>2611</th>\n",
       "      <td>2004-OCQXK</td>\n",
       "      <td>No</td>\n",
       "    </tr>\n",
       "    <tr>\n",
       "      <th>5234</th>\n",
       "      <td>1183-CANVH</td>\n",
       "      <td>No</td>\n",
       "    </tr>\n",
       "    <tr>\n",
       "      <th>3626</th>\n",
       "      <td>6242-FEGFD</td>\n",
       "      <td>Yes</td>\n",
       "    </tr>\n",
       "    <tr>\n",
       "      <th>2325</th>\n",
       "      <td>7175-NTIXE</td>\n",
       "      <td>No</td>\n",
       "    </tr>\n",
       "    <tr>\n",
       "      <th>2288</th>\n",
       "      <td>8735-SDUFN</td>\n",
       "      <td>Yes</td>\n",
       "    </tr>\n",
       "    <tr>\n",
       "      <th>3468</th>\n",
       "      <td>3620-MWJNE</td>\n",
       "      <td>No</td>\n",
       "    </tr>\n",
       "    <tr>\n",
       "      <th>3102</th>\n",
       "      <td>5294-DMSFH</td>\n",
       "      <td>No</td>\n",
       "    </tr>\n",
       "  </tbody>\n",
       "</table>\n",
       "</div>"
      ],
      "text/plain": [
       "      customerID MultipleLines\n",
       "1811  4373-MAVJG           Yes\n",
       "5658  4759-PXTAN           Yes\n",
       "3960  5018-GWURO           Yes\n",
       "2611  2004-OCQXK            No\n",
       "5234  1183-CANVH            No\n",
       "3626  6242-FEGFD           Yes\n",
       "2325  7175-NTIXE            No\n",
       "2288  8735-SDUFN           Yes\n",
       "3468  3620-MWJNE            No\n",
       "3102  5294-DMSFH            No"
      ]
     },
     "execution_count": 117,
     "metadata": {},
     "output_type": "execute_result"
    }
   ],
   "source": [
    "df_phone.sample(10)"
   ]
  },
  {
   "cell_type": "code",
   "execution_count": 118,
   "metadata": {},
   "outputs": [
    {
     "name": "stdout",
     "output_type": "stream",
     "text": [
      "customerID          0\n",
      "BeginDate           0\n",
      "EndDate             0\n",
      "Type                0\n",
      "PaperlessBilling    0\n",
      "PaymentMethod       0\n",
      "MonthlyCharges      0\n",
      "TotalCharges        0\n",
      "dtype: int64\n",
      "customerID       0\n",
      "gender           0\n",
      "SeniorCitizen    0\n",
      "Partner          0\n",
      "Dependents       0\n",
      "dtype: int64\n",
      "customerID          0\n",
      "InternetService     0\n",
      "OnlineSecurity      0\n",
      "OnlineBackup        0\n",
      "DeviceProtection    0\n",
      "TechSupport         0\n",
      "StreamingTV         0\n",
      "StreamingMovies     0\n",
      "dtype: int64\n",
      "customerID       0\n",
      "MultipleLines    0\n",
      "dtype: int64\n"
     ]
    }
   ],
   "source": [
    "# Check for missing values\n",
    "\n",
    "print(df_contract.isna().sum())\n",
    "print(df_personal.isna().sum())\n",
    "print(df_internet.isna().sum())\n",
    "print(df_phone.isna().sum())"
   ]
  },
  {
   "cell_type": "code",
   "execution_count": 119,
   "metadata": {},
   "outputs": [
    {
     "name": "stdout",
     "output_type": "stream",
     "text": [
      "0\n",
      "0\n",
      "0\n",
      "0\n"
     ]
    }
   ],
   "source": [
    "# Check for duplicate values\n",
    "\n",
    "print(df_contract.duplicated().sum())\n",
    "print(df_personal.duplicated().sum())\n",
    "print(df_internet.duplicated().sum())\n",
    "print(df_phone.duplicated().sum())"
   ]
  },
  {
   "cell_type": "code",
   "execution_count": 120,
   "metadata": {},
   "outputs": [
    {
     "data": {
      "text/html": [
       "<div>\n",
       "<style scoped>\n",
       "    .dataframe tbody tr th:only-of-type {\n",
       "        vertical-align: middle;\n",
       "    }\n",
       "\n",
       "    .dataframe tbody tr th {\n",
       "        vertical-align: top;\n",
       "    }\n",
       "\n",
       "    .dataframe thead th {\n",
       "        text-align: right;\n",
       "    }\n",
       "</style>\n",
       "<table border=\"1\" class=\"dataframe\">\n",
       "  <thead>\n",
       "    <tr style=\"text-align: right;\">\n",
       "      <th></th>\n",
       "      <th>customerID</th>\n",
       "      <th>BeginDate</th>\n",
       "      <th>EndDate</th>\n",
       "      <th>Type</th>\n",
       "      <th>PaperlessBilling</th>\n",
       "      <th>PaymentMethod</th>\n",
       "      <th>MonthlyCharges</th>\n",
       "      <th>TotalCharges</th>\n",
       "      <th>gender</th>\n",
       "      <th>SeniorCitizen</th>\n",
       "      <th>Partner</th>\n",
       "      <th>Dependents</th>\n",
       "      <th>InternetService</th>\n",
       "      <th>OnlineSecurity</th>\n",
       "      <th>OnlineBackup</th>\n",
       "      <th>DeviceProtection</th>\n",
       "      <th>TechSupport</th>\n",
       "      <th>StreamingTV</th>\n",
       "      <th>StreamingMovies</th>\n",
       "      <th>MultipleLines</th>\n",
       "    </tr>\n",
       "  </thead>\n",
       "  <tbody>\n",
       "    <tr>\n",
       "      <th>1487</th>\n",
       "      <td>5035-PGZXH</td>\n",
       "      <td>2015-06-01</td>\n",
       "      <td>No</td>\n",
       "      <td>One year</td>\n",
       "      <td>Yes</td>\n",
       "      <td>Electronic check</td>\n",
       "      <td>106.80</td>\n",
       "      <td>5914.4</td>\n",
       "      <td>Female</td>\n",
       "      <td>0</td>\n",
       "      <td>No</td>\n",
       "      <td>No</td>\n",
       "      <td>Fiber optic</td>\n",
       "      <td>No</td>\n",
       "      <td>Yes</td>\n",
       "      <td>Yes</td>\n",
       "      <td>No</td>\n",
       "      <td>Yes</td>\n",
       "      <td>Yes</td>\n",
       "      <td>Yes</td>\n",
       "    </tr>\n",
       "    <tr>\n",
       "      <th>3042</th>\n",
       "      <td>1322-AGOQM</td>\n",
       "      <td>2016-02-01</td>\n",
       "      <td>2019-12-01 00:00:00</td>\n",
       "      <td>Month-to-month</td>\n",
       "      <td>No</td>\n",
       "      <td>Bank transfer (automatic)</td>\n",
       "      <td>30.30</td>\n",
       "      <td>1380.1</td>\n",
       "      <td>Male</td>\n",
       "      <td>0</td>\n",
       "      <td>No</td>\n",
       "      <td>No</td>\n",
       "      <td>DSL</td>\n",
       "      <td>No</td>\n",
       "      <td>Yes</td>\n",
       "      <td>No</td>\n",
       "      <td>No</td>\n",
       "      <td>No</td>\n",
       "      <td>No</td>\n",
       "      <td>NotApplicable</td>\n",
       "    </tr>\n",
       "    <tr>\n",
       "      <th>5300</th>\n",
       "      <td>8821-XNHVZ</td>\n",
       "      <td>2019-12-01</td>\n",
       "      <td>2020-01-01 00:00:00</td>\n",
       "      <td>Month-to-month</td>\n",
       "      <td>Yes</td>\n",
       "      <td>Mailed check</td>\n",
       "      <td>80.05</td>\n",
       "      <td>80.05</td>\n",
       "      <td>Female</td>\n",
       "      <td>0</td>\n",
       "      <td>Yes</td>\n",
       "      <td>Yes</td>\n",
       "      <td>Fiber optic</td>\n",
       "      <td>No</td>\n",
       "      <td>No</td>\n",
       "      <td>No</td>\n",
       "      <td>No</td>\n",
       "      <td>Yes</td>\n",
       "      <td>No</td>\n",
       "      <td>No</td>\n",
       "    </tr>\n",
       "    <tr>\n",
       "      <th>1751</th>\n",
       "      <td>9436-ZBZCT</td>\n",
       "      <td>2018-08-01</td>\n",
       "      <td>2019-10-01 00:00:00</td>\n",
       "      <td>Month-to-month</td>\n",
       "      <td>Yes</td>\n",
       "      <td>Electronic check</td>\n",
       "      <td>89.95</td>\n",
       "      <td>1178.4</td>\n",
       "      <td>Male</td>\n",
       "      <td>0</td>\n",
       "      <td>No</td>\n",
       "      <td>No</td>\n",
       "      <td>Fiber optic</td>\n",
       "      <td>No</td>\n",
       "      <td>No</td>\n",
       "      <td>No</td>\n",
       "      <td>Yes</td>\n",
       "      <td>Yes</td>\n",
       "      <td>No</td>\n",
       "      <td>Yes</td>\n",
       "    </tr>\n",
       "    <tr>\n",
       "      <th>5675</th>\n",
       "      <td>4983-CCWMC</td>\n",
       "      <td>2019-11-01</td>\n",
       "      <td>No</td>\n",
       "      <td>Month-to-month</td>\n",
       "      <td>Yes</td>\n",
       "      <td>Mailed check</td>\n",
       "      <td>69.60</td>\n",
       "      <td>207.4</td>\n",
       "      <td>Male</td>\n",
       "      <td>0</td>\n",
       "      <td>No</td>\n",
       "      <td>No</td>\n",
       "      <td>Fiber optic</td>\n",
       "      <td>No</td>\n",
       "      <td>No</td>\n",
       "      <td>No</td>\n",
       "      <td>No</td>\n",
       "      <td>No</td>\n",
       "      <td>No</td>\n",
       "      <td>No</td>\n",
       "    </tr>\n",
       "    <tr>\n",
       "      <th>57</th>\n",
       "      <td>5067-XJQFU</td>\n",
       "      <td>2014-08-01</td>\n",
       "      <td>No</td>\n",
       "      <td>One year</td>\n",
       "      <td>Yes</td>\n",
       "      <td>Electronic check</td>\n",
       "      <td>108.45</td>\n",
       "      <td>7076.35</td>\n",
       "      <td>Male</td>\n",
       "      <td>1</td>\n",
       "      <td>Yes</td>\n",
       "      <td>Yes</td>\n",
       "      <td>Fiber optic</td>\n",
       "      <td>No</td>\n",
       "      <td>Yes</td>\n",
       "      <td>Yes</td>\n",
       "      <td>Yes</td>\n",
       "      <td>Yes</td>\n",
       "      <td>Yes</td>\n",
       "      <td>Yes</td>\n",
       "    </tr>\n",
       "    <tr>\n",
       "      <th>3381</th>\n",
       "      <td>8879-ZKJOF</td>\n",
       "      <td>2016-09-01</td>\n",
       "      <td>No</td>\n",
       "      <td>One year</td>\n",
       "      <td>Yes</td>\n",
       "      <td>Bank transfer (automatic)</td>\n",
       "      <td>79.85</td>\n",
       "      <td>3320.75</td>\n",
       "      <td>Female</td>\n",
       "      <td>0</td>\n",
       "      <td>No</td>\n",
       "      <td>No</td>\n",
       "      <td>DSL</td>\n",
       "      <td>Yes</td>\n",
       "      <td>No</td>\n",
       "      <td>Yes</td>\n",
       "      <td>Yes</td>\n",
       "      <td>Yes</td>\n",
       "      <td>Yes</td>\n",
       "      <td>No</td>\n",
       "    </tr>\n",
       "    <tr>\n",
       "      <th>6412</th>\n",
       "      <td>6519-ZHPXP</td>\n",
       "      <td>2014-02-01</td>\n",
       "      <td>No</td>\n",
       "      <td>Two year</td>\n",
       "      <td>Yes</td>\n",
       "      <td>Bank transfer (automatic)</td>\n",
       "      <td>108.30</td>\n",
       "      <td>7679.65</td>\n",
       "      <td>Female</td>\n",
       "      <td>0</td>\n",
       "      <td>Yes</td>\n",
       "      <td>Yes</td>\n",
       "      <td>Fiber optic</td>\n",
       "      <td>Yes</td>\n",
       "      <td>Yes</td>\n",
       "      <td>Yes</td>\n",
       "      <td>Yes</td>\n",
       "      <td>Yes</td>\n",
       "      <td>Yes</td>\n",
       "      <td>No</td>\n",
       "    </tr>\n",
       "    <tr>\n",
       "      <th>2114</th>\n",
       "      <td>7707-PYBBH</td>\n",
       "      <td>2016-10-01</td>\n",
       "      <td>No</td>\n",
       "      <td>Month-to-month</td>\n",
       "      <td>Yes</td>\n",
       "      <td>Mailed check</td>\n",
       "      <td>61.90</td>\n",
       "      <td>2647.1</td>\n",
       "      <td>Male</td>\n",
       "      <td>0</td>\n",
       "      <td>No</td>\n",
       "      <td>No</td>\n",
       "      <td>DSL</td>\n",
       "      <td>Yes</td>\n",
       "      <td>Yes</td>\n",
       "      <td>No</td>\n",
       "      <td>Yes</td>\n",
       "      <td>No</td>\n",
       "      <td>No</td>\n",
       "      <td>No</td>\n",
       "    </tr>\n",
       "    <tr>\n",
       "      <th>5529</th>\n",
       "      <td>5919-VCZYM</td>\n",
       "      <td>2019-12-01</td>\n",
       "      <td>No</td>\n",
       "      <td>Month-to-month</td>\n",
       "      <td>No</td>\n",
       "      <td>Mailed check</td>\n",
       "      <td>20.05</td>\n",
       "      <td>42.7</td>\n",
       "      <td>Male</td>\n",
       "      <td>0</td>\n",
       "      <td>No</td>\n",
       "      <td>No</td>\n",
       "      <td>NotApplicable</td>\n",
       "      <td>NotApplicable</td>\n",
       "      <td>NotApplicable</td>\n",
       "      <td>NotApplicable</td>\n",
       "      <td>NotApplicable</td>\n",
       "      <td>NotApplicable</td>\n",
       "      <td>NotApplicable</td>\n",
       "      <td>No</td>\n",
       "    </tr>\n",
       "  </tbody>\n",
       "</table>\n",
       "</div>"
      ],
      "text/plain": [
       "      customerID   BeginDate              EndDate            Type  \\\n",
       "1487  5035-PGZXH  2015-06-01                   No        One year   \n",
       "3042  1322-AGOQM  2016-02-01  2019-12-01 00:00:00  Month-to-month   \n",
       "5300  8821-XNHVZ  2019-12-01  2020-01-01 00:00:00  Month-to-month   \n",
       "1751  9436-ZBZCT  2018-08-01  2019-10-01 00:00:00  Month-to-month   \n",
       "5675  4983-CCWMC  2019-11-01                   No  Month-to-month   \n",
       "57    5067-XJQFU  2014-08-01                   No        One year   \n",
       "3381  8879-ZKJOF  2016-09-01                   No        One year   \n",
       "6412  6519-ZHPXP  2014-02-01                   No        Two year   \n",
       "2114  7707-PYBBH  2016-10-01                   No  Month-to-month   \n",
       "5529  5919-VCZYM  2019-12-01                   No  Month-to-month   \n",
       "\n",
       "     PaperlessBilling              PaymentMethod  MonthlyCharges TotalCharges  \\\n",
       "1487              Yes           Electronic check          106.80       5914.4   \n",
       "3042               No  Bank transfer (automatic)           30.30       1380.1   \n",
       "5300              Yes               Mailed check           80.05        80.05   \n",
       "1751              Yes           Electronic check           89.95       1178.4   \n",
       "5675              Yes               Mailed check           69.60        207.4   \n",
       "57                Yes           Electronic check          108.45      7076.35   \n",
       "3381              Yes  Bank transfer (automatic)           79.85      3320.75   \n",
       "6412              Yes  Bank transfer (automatic)          108.30      7679.65   \n",
       "2114              Yes               Mailed check           61.90       2647.1   \n",
       "5529               No               Mailed check           20.05         42.7   \n",
       "\n",
       "      gender  SeniorCitizen Partner Dependents InternetService OnlineSecurity  \\\n",
       "1487  Female              0      No         No     Fiber optic             No   \n",
       "3042    Male              0      No         No             DSL             No   \n",
       "5300  Female              0     Yes        Yes     Fiber optic             No   \n",
       "1751    Male              0      No         No     Fiber optic             No   \n",
       "5675    Male              0      No         No     Fiber optic             No   \n",
       "57      Male              1     Yes        Yes     Fiber optic             No   \n",
       "3381  Female              0      No         No             DSL            Yes   \n",
       "6412  Female              0     Yes        Yes     Fiber optic            Yes   \n",
       "2114    Male              0      No         No             DSL            Yes   \n",
       "5529    Male              0      No         No   NotApplicable  NotApplicable   \n",
       "\n",
       "       OnlineBackup DeviceProtection    TechSupport    StreamingTV  \\\n",
       "1487            Yes              Yes             No            Yes   \n",
       "3042            Yes               No             No             No   \n",
       "5300             No               No             No            Yes   \n",
       "1751             No               No            Yes            Yes   \n",
       "5675             No               No             No             No   \n",
       "57              Yes              Yes            Yes            Yes   \n",
       "3381             No              Yes            Yes            Yes   \n",
       "6412            Yes              Yes            Yes            Yes   \n",
       "2114            Yes               No            Yes             No   \n",
       "5529  NotApplicable    NotApplicable  NotApplicable  NotApplicable   \n",
       "\n",
       "     StreamingMovies  MultipleLines  \n",
       "1487             Yes            Yes  \n",
       "3042              No  NotApplicable  \n",
       "5300              No             No  \n",
       "1751              No            Yes  \n",
       "5675              No             No  \n",
       "57               Yes            Yes  \n",
       "3381             Yes             No  \n",
       "6412             Yes             No  \n",
       "2114              No             No  \n",
       "5529   NotApplicable             No  "
      ]
     },
     "execution_count": 120,
     "metadata": {},
     "output_type": "execute_result"
    }
   ],
   "source": [
    "# Merge all dataframes together\n",
    "\n",
    "df = df_contract.merge(df_personal, on='customerID')\n",
    "df = df.merge(df_internet, on='customerID', how='outer')\n",
    "df = df.merge(df_phone, on='customerID', how='outer')\n",
    "df = df.fillna('NotApplicable')\n",
    "df.sample(10)"
   ]
  },
  {
   "cell_type": "code",
   "execution_count": 121,
   "metadata": {},
   "outputs": [
    {
     "data": {
      "text/html": [
       "<div>\n",
       "<style scoped>\n",
       "    .dataframe tbody tr th:only-of-type {\n",
       "        vertical-align: middle;\n",
       "    }\n",
       "\n",
       "    .dataframe tbody tr th {\n",
       "        vertical-align: top;\n",
       "    }\n",
       "\n",
       "    .dataframe thead th {\n",
       "        text-align: right;\n",
       "    }\n",
       "</style>\n",
       "<table border=\"1\" class=\"dataframe\">\n",
       "  <thead>\n",
       "    <tr style=\"text-align: right;\">\n",
       "      <th></th>\n",
       "      <th>customerID</th>\n",
       "      <th>BeginDate</th>\n",
       "      <th>EndDate</th>\n",
       "      <th>Type</th>\n",
       "      <th>PaperlessBilling</th>\n",
       "      <th>PaymentMethod</th>\n",
       "      <th>MonthlyCharges</th>\n",
       "      <th>TotalCharges</th>\n",
       "      <th>gender</th>\n",
       "      <th>SeniorCitizen</th>\n",
       "      <th>...</th>\n",
       "      <th>Dependents</th>\n",
       "      <th>InternetService</th>\n",
       "      <th>OnlineSecurity</th>\n",
       "      <th>OnlineBackup</th>\n",
       "      <th>DeviceProtection</th>\n",
       "      <th>TechSupport</th>\n",
       "      <th>StreamingTV</th>\n",
       "      <th>StreamingMovies</th>\n",
       "      <th>MultipleLines</th>\n",
       "      <th>churn</th>\n",
       "    </tr>\n",
       "  </thead>\n",
       "  <tbody>\n",
       "    <tr>\n",
       "      <th>6086</th>\n",
       "      <td>0916-KNFAJ</td>\n",
       "      <td>2015-01-01</td>\n",
       "      <td>No</td>\n",
       "      <td>Two year</td>\n",
       "      <td>Yes</td>\n",
       "      <td>Mailed check</td>\n",
       "      <td>69.90</td>\n",
       "      <td>4226.7</td>\n",
       "      <td>Male</td>\n",
       "      <td>0</td>\n",
       "      <td>...</td>\n",
       "      <td>No</td>\n",
       "      <td>DSL</td>\n",
       "      <td>Yes</td>\n",
       "      <td>No</td>\n",
       "      <td>Yes</td>\n",
       "      <td>No</td>\n",
       "      <td>No</td>\n",
       "      <td>Yes</td>\n",
       "      <td>Yes</td>\n",
       "      <td>1</td>\n",
       "    </tr>\n",
       "    <tr>\n",
       "      <th>4145</th>\n",
       "      <td>8474-UMLNT</td>\n",
       "      <td>2019-01-01</td>\n",
       "      <td>No</td>\n",
       "      <td>Month-to-month</td>\n",
       "      <td>No</td>\n",
       "      <td>Bank transfer (automatic)</td>\n",
       "      <td>67.80</td>\n",
       "      <td>842.25</td>\n",
       "      <td>Female</td>\n",
       "      <td>0</td>\n",
       "      <td>...</td>\n",
       "      <td>No</td>\n",
       "      <td>DSL</td>\n",
       "      <td>Yes</td>\n",
       "      <td>Yes</td>\n",
       "      <td>No</td>\n",
       "      <td>Yes</td>\n",
       "      <td>No</td>\n",
       "      <td>Yes</td>\n",
       "      <td>No</td>\n",
       "      <td>1</td>\n",
       "    </tr>\n",
       "    <tr>\n",
       "      <th>1493</th>\n",
       "      <td>6416-YJTTB</td>\n",
       "      <td>2019-03-01</td>\n",
       "      <td>No</td>\n",
       "      <td>Month-to-month</td>\n",
       "      <td>Yes</td>\n",
       "      <td>Bank transfer (automatic)</td>\n",
       "      <td>79.50</td>\n",
       "      <td>795.65</td>\n",
       "      <td>Male</td>\n",
       "      <td>0</td>\n",
       "      <td>...</td>\n",
       "      <td>No</td>\n",
       "      <td>Fiber optic</td>\n",
       "      <td>Yes</td>\n",
       "      <td>No</td>\n",
       "      <td>Yes</td>\n",
       "      <td>No</td>\n",
       "      <td>No</td>\n",
       "      <td>No</td>\n",
       "      <td>No</td>\n",
       "      <td>1</td>\n",
       "    </tr>\n",
       "    <tr>\n",
       "      <th>3300</th>\n",
       "      <td>1403-LKLIK</td>\n",
       "      <td>2017-05-01</td>\n",
       "      <td>No</td>\n",
       "      <td>One year</td>\n",
       "      <td>No</td>\n",
       "      <td>Mailed check</td>\n",
       "      <td>20.10</td>\n",
       "      <td>579.4</td>\n",
       "      <td>Female</td>\n",
       "      <td>0</td>\n",
       "      <td>...</td>\n",
       "      <td>Yes</td>\n",
       "      <td>NotApplicable</td>\n",
       "      <td>NotApplicable</td>\n",
       "      <td>NotApplicable</td>\n",
       "      <td>NotApplicable</td>\n",
       "      <td>NotApplicable</td>\n",
       "      <td>NotApplicable</td>\n",
       "      <td>NotApplicable</td>\n",
       "      <td>No</td>\n",
       "      <td>1</td>\n",
       "    </tr>\n",
       "    <tr>\n",
       "      <th>1531</th>\n",
       "      <td>7107-UBYKY</td>\n",
       "      <td>2017-03-01</td>\n",
       "      <td>No</td>\n",
       "      <td>Month-to-month</td>\n",
       "      <td>Yes</td>\n",
       "      <td>Electronic check</td>\n",
       "      <td>25.75</td>\n",
       "      <td>882.55</td>\n",
       "      <td>Female</td>\n",
       "      <td>0</td>\n",
       "      <td>...</td>\n",
       "      <td>Yes</td>\n",
       "      <td>NotApplicable</td>\n",
       "      <td>NotApplicable</td>\n",
       "      <td>NotApplicable</td>\n",
       "      <td>NotApplicable</td>\n",
       "      <td>NotApplicable</td>\n",
       "      <td>NotApplicable</td>\n",
       "      <td>NotApplicable</td>\n",
       "      <td>Yes</td>\n",
       "      <td>1</td>\n",
       "    </tr>\n",
       "    <tr>\n",
       "      <th>3865</th>\n",
       "      <td>5701-SVCWR</td>\n",
       "      <td>2020-01-01</td>\n",
       "      <td>No</td>\n",
       "      <td>Month-to-month</td>\n",
       "      <td>No</td>\n",
       "      <td>Mailed check</td>\n",
       "      <td>24.00</td>\n",
       "      <td>24</td>\n",
       "      <td>Female</td>\n",
       "      <td>0</td>\n",
       "      <td>...</td>\n",
       "      <td>Yes</td>\n",
       "      <td>NotApplicable</td>\n",
       "      <td>NotApplicable</td>\n",
       "      <td>NotApplicable</td>\n",
       "      <td>NotApplicable</td>\n",
       "      <td>NotApplicable</td>\n",
       "      <td>NotApplicable</td>\n",
       "      <td>NotApplicable</td>\n",
       "      <td>Yes</td>\n",
       "      <td>1</td>\n",
       "    </tr>\n",
       "    <tr>\n",
       "      <th>1448</th>\n",
       "      <td>2958-NHPPS</td>\n",
       "      <td>2018-03-01</td>\n",
       "      <td>No</td>\n",
       "      <td>Month-to-month</td>\n",
       "      <td>No</td>\n",
       "      <td>Electronic check</td>\n",
       "      <td>20.85</td>\n",
       "      <td>473.9</td>\n",
       "      <td>Male</td>\n",
       "      <td>0</td>\n",
       "      <td>...</td>\n",
       "      <td>No</td>\n",
       "      <td>NotApplicable</td>\n",
       "      <td>NotApplicable</td>\n",
       "      <td>NotApplicable</td>\n",
       "      <td>NotApplicable</td>\n",
       "      <td>NotApplicable</td>\n",
       "      <td>NotApplicable</td>\n",
       "      <td>NotApplicable</td>\n",
       "      <td>No</td>\n",
       "      <td>1</td>\n",
       "    </tr>\n",
       "    <tr>\n",
       "      <th>2812</th>\n",
       "      <td>3763-GCZHZ</td>\n",
       "      <td>2014-07-01</td>\n",
       "      <td>2020-01-01 00:00:00</td>\n",
       "      <td>One year</td>\n",
       "      <td>Yes</td>\n",
       "      <td>Electronic check</td>\n",
       "      <td>104.05</td>\n",
       "      <td>6890</td>\n",
       "      <td>Male</td>\n",
       "      <td>0</td>\n",
       "      <td>...</td>\n",
       "      <td>No</td>\n",
       "      <td>Fiber optic</td>\n",
       "      <td>No</td>\n",
       "      <td>Yes</td>\n",
       "      <td>No</td>\n",
       "      <td>Yes</td>\n",
       "      <td>Yes</td>\n",
       "      <td>Yes</td>\n",
       "      <td>Yes</td>\n",
       "      <td>0</td>\n",
       "    </tr>\n",
       "    <tr>\n",
       "      <th>2117</th>\n",
       "      <td>4139-DETXS</td>\n",
       "      <td>2014-02-01</td>\n",
       "      <td>No</td>\n",
       "      <td>Two year</td>\n",
       "      <td>No</td>\n",
       "      <td>Bank transfer (automatic)</td>\n",
       "      <td>64.45</td>\n",
       "      <td>4528</td>\n",
       "      <td>Female</td>\n",
       "      <td>0</td>\n",
       "      <td>...</td>\n",
       "      <td>Yes</td>\n",
       "      <td>DSL</td>\n",
       "      <td>Yes</td>\n",
       "      <td>Yes</td>\n",
       "      <td>Yes</td>\n",
       "      <td>Yes</td>\n",
       "      <td>Yes</td>\n",
       "      <td>Yes</td>\n",
       "      <td>NotApplicable</td>\n",
       "      <td>1</td>\n",
       "    </tr>\n",
       "    <tr>\n",
       "      <th>3119</th>\n",
       "      <td>5307-DZCVC</td>\n",
       "      <td>2017-03-01</td>\n",
       "      <td>2019-11-01 00:00:00</td>\n",
       "      <td>Month-to-month</td>\n",
       "      <td>Yes</td>\n",
       "      <td>Credit card (automatic)</td>\n",
       "      <td>85.95</td>\n",
       "      <td>2628.6</td>\n",
       "      <td>Female</td>\n",
       "      <td>1</td>\n",
       "      <td>...</td>\n",
       "      <td>No</td>\n",
       "      <td>Fiber optic</td>\n",
       "      <td>No</td>\n",
       "      <td>No</td>\n",
       "      <td>No</td>\n",
       "      <td>No</td>\n",
       "      <td>Yes</td>\n",
       "      <td>No</td>\n",
       "      <td>Yes</td>\n",
       "      <td>0</td>\n",
       "    </tr>\n",
       "  </tbody>\n",
       "</table>\n",
       "<p>10 rows × 21 columns</p>\n",
       "</div>"
      ],
      "text/plain": [
       "      customerID   BeginDate              EndDate            Type  \\\n",
       "6086  0916-KNFAJ  2015-01-01                   No        Two year   \n",
       "4145  8474-UMLNT  2019-01-01                   No  Month-to-month   \n",
       "1493  6416-YJTTB  2019-03-01                   No  Month-to-month   \n",
       "3300  1403-LKLIK  2017-05-01                   No        One year   \n",
       "1531  7107-UBYKY  2017-03-01                   No  Month-to-month   \n",
       "3865  5701-SVCWR  2020-01-01                   No  Month-to-month   \n",
       "1448  2958-NHPPS  2018-03-01                   No  Month-to-month   \n",
       "2812  3763-GCZHZ  2014-07-01  2020-01-01 00:00:00        One year   \n",
       "2117  4139-DETXS  2014-02-01                   No        Two year   \n",
       "3119  5307-DZCVC  2017-03-01  2019-11-01 00:00:00  Month-to-month   \n",
       "\n",
       "     PaperlessBilling              PaymentMethod  MonthlyCharges TotalCharges  \\\n",
       "6086              Yes               Mailed check           69.90       4226.7   \n",
       "4145               No  Bank transfer (automatic)           67.80       842.25   \n",
       "1493              Yes  Bank transfer (automatic)           79.50       795.65   \n",
       "3300               No               Mailed check           20.10        579.4   \n",
       "1531              Yes           Electronic check           25.75       882.55   \n",
       "3865               No               Mailed check           24.00           24   \n",
       "1448               No           Electronic check           20.85        473.9   \n",
       "2812              Yes           Electronic check          104.05         6890   \n",
       "2117               No  Bank transfer (automatic)           64.45         4528   \n",
       "3119              Yes    Credit card (automatic)           85.95       2628.6   \n",
       "\n",
       "      gender  SeniorCitizen  ... Dependents InternetService OnlineSecurity  \\\n",
       "6086    Male              0  ...         No             DSL            Yes   \n",
       "4145  Female              0  ...         No             DSL            Yes   \n",
       "1493    Male              0  ...         No     Fiber optic            Yes   \n",
       "3300  Female              0  ...        Yes   NotApplicable  NotApplicable   \n",
       "1531  Female              0  ...        Yes   NotApplicable  NotApplicable   \n",
       "3865  Female              0  ...        Yes   NotApplicable  NotApplicable   \n",
       "1448    Male              0  ...         No   NotApplicable  NotApplicable   \n",
       "2812    Male              0  ...         No     Fiber optic             No   \n",
       "2117  Female              0  ...        Yes             DSL            Yes   \n",
       "3119  Female              1  ...         No     Fiber optic             No   \n",
       "\n",
       "       OnlineBackup DeviceProtection    TechSupport    StreamingTV  \\\n",
       "6086             No              Yes             No             No   \n",
       "4145            Yes               No            Yes             No   \n",
       "1493             No              Yes             No             No   \n",
       "3300  NotApplicable    NotApplicable  NotApplicable  NotApplicable   \n",
       "1531  NotApplicable    NotApplicable  NotApplicable  NotApplicable   \n",
       "3865  NotApplicable    NotApplicable  NotApplicable  NotApplicable   \n",
       "1448  NotApplicable    NotApplicable  NotApplicable  NotApplicable   \n",
       "2812            Yes               No            Yes            Yes   \n",
       "2117            Yes              Yes            Yes            Yes   \n",
       "3119             No               No             No            Yes   \n",
       "\n",
       "     StreamingMovies  MultipleLines churn  \n",
       "6086             Yes            Yes     1  \n",
       "4145             Yes             No     1  \n",
       "1493              No             No     1  \n",
       "3300   NotApplicable             No     1  \n",
       "1531   NotApplicable            Yes     1  \n",
       "3865   NotApplicable            Yes     1  \n",
       "1448   NotApplicable             No     1  \n",
       "2812             Yes            Yes     0  \n",
       "2117             Yes  NotApplicable     1  \n",
       "3119              No            Yes     0  \n",
       "\n",
       "[10 rows x 21 columns]"
      ]
     },
     "execution_count": 121,
     "metadata": {},
     "output_type": "execute_result"
    }
   ],
   "source": [
    "# Create a new classification variable for churn from the 'EndDate' - that will be the target variable\n",
    "\n",
    "df['churn'] = df.apply(lambda x: 1 if x['EndDate'] == 'No' else 0, axis=1)\n",
    "df.sample(10)"
   ]
  },
  {
   "cell_type": "code",
   "execution_count": 122,
   "metadata": {},
   "outputs": [
    {
     "name": "stdout",
     "output_type": "stream",
     "text": [
      "<class 'pandas.core.frame.DataFrame'>\n",
      "Int64Index: 7043 entries, 0 to 7042\n",
      "Data columns (total 21 columns):\n",
      " #   Column            Non-Null Count  Dtype  \n",
      "---  ------            --------------  -----  \n",
      " 0   customerID        7043 non-null   object \n",
      " 1   BeginDate         7043 non-null   object \n",
      " 2   EndDate           7043 non-null   object \n",
      " 3   Type              7043 non-null   object \n",
      " 4   PaperlessBilling  7043 non-null   object \n",
      " 5   PaymentMethod     7043 non-null   object \n",
      " 6   MonthlyCharges    7043 non-null   float64\n",
      " 7   TotalCharges      7043 non-null   object \n",
      " 8   gender            7043 non-null   object \n",
      " 9   SeniorCitizen     7043 non-null   int64  \n",
      " 10  Partner           7043 non-null   object \n",
      " 11  Dependents        7043 non-null   object \n",
      " 12  InternetService   7043 non-null   object \n",
      " 13  OnlineSecurity    7043 non-null   object \n",
      " 14  OnlineBackup      7043 non-null   object \n",
      " 15  DeviceProtection  7043 non-null   object \n",
      " 16  TechSupport       7043 non-null   object \n",
      " 17  StreamingTV       7043 non-null   object \n",
      " 18  StreamingMovies   7043 non-null   object \n",
      " 19  MultipleLines     7043 non-null   object \n",
      " 20  churn             7043 non-null   int64  \n",
      "dtypes: float64(1), int64(2), object(18)\n",
      "memory usage: 1.2+ MB\n",
      "None\n"
     ]
    }
   ],
   "source": [
    "# Check data types\n",
    "\n",
    "print (df.info())"
   ]
  },
  {
   "cell_type": "markdown",
   "metadata": {},
   "source": [
    "Total Charges should be a float, not an object data type."
   ]
  },
  {
   "cell_type": "code",
   "execution_count": 123,
   "metadata": {},
   "outputs": [
    {
     "name": "stdout",
     "output_type": "stream",
     "text": [
      "11\n"
     ]
    }
   ],
   "source": [
    "# Check for any empty strings in Total Charges and make it equal to MonthlyCharges if needed\n",
    "\n",
    "print(len(df[df['TotalCharges'] == ' ']))\n",
    "\n",
    "df['TotalCharges'] = df.apply(lambda x: x['MonthlyCharges']  if x['TotalCharges'] == ' ' else x['TotalCharges'], axis=1)\n"
   ]
  },
  {
   "cell_type": "code",
   "execution_count": 124,
   "metadata": {},
   "outputs": [],
   "source": [
    "# Fix data types - Total Charges should be a float\n",
    "\n",
    "df['TotalCharges'] = pd.to_numeric(df['TotalCharges'], errors='coerce')"
   ]
  },
  {
   "cell_type": "markdown",
   "metadata": {},
   "source": [
    "## Exploratory Data Analysis (EDA)"
   ]
  },
  {
   "cell_type": "code",
   "execution_count": 125,
   "metadata": {},
   "outputs": [
    {
     "data": {
      "image/png": "[encoded data removed]",
      "text/plain": [
       "<Figure size 800x200 with 1 Axes>"
      ]
     },
     "metadata": {},
     "output_type": "display_data"
    }
   ],
   "source": [
    "# Check for class imbalance - distribution of churn\n",
    "\n",
    "df['churn'].map({1: 'Will stay', 0: 'Will leave'}).value_counts().plot(kind='barh',\n",
    "                                                                      xlabel = 'Client Churn Status',\n",
    "                                                                      ylabel = 'Frequency',\n",
    "                                                                      title = 'Churn Distribution',\n",
    "                                                                      figsize = [8,2])\n",
    "plt.show()\n"
   ]
  },
  {
   "cell_type": "markdown",
   "metadata": {},
   "source": [
    "There seems to be a class imbalance, there is a lot more customers that will stay with Interconnect than those with an EndDate, so data will need to be scaled to get a better result."
   ]
  },
  {
   "cell_type": "code",
   "execution_count": 126,
   "metadata": {},
   "outputs": [
    {
     "data": {
      "image/png": "[encoded data removed]",
      "text/plain": [
       "<Figure size 640x480 with 1 Axes>"
      ]
     },
     "metadata": {},
     "output_type": "display_data"
    }
   ],
   "source": [
    "# Relationship between monthly charges and churn\n",
    "\n",
    "df['MonthlyCharges'][df['churn']==1].plot(kind = 'hist', bins = 50, alpha=0.3)\n",
    "df['MonthlyCharges'][df['churn']==0].plot(kind = 'hist', bins = 50, alpha=0.6)\n",
    "plt.title('Relationship between Monthly Charges and churn')\n",
    "plt.legend(['Customers with no end date', 'Customers that will leave'])\n",
    "plt.show()"
   ]
  },
  {
   "cell_type": "code",
   "execution_count": 127,
   "metadata": {},
   "outputs": [
    {
     "data": {
      "image/png": "[encoded data removed]",
      "text/plain": [
       "<Figure size 640x480 with 1 Axes>"
      ]
     },
     "metadata": {},
     "output_type": "display_data"
    }
   ],
   "source": [
    "# Relationship between total charges and churn\n",
    "\n",
    "df['TotalCharges'][df['churn']==1].plot(kind = 'hist', bins = 50, alpha=0.3)\n",
    "df['TotalCharges'][df['churn']==0].plot(kind = 'hist', bins = 50, alpha=0.6)\n",
    "plt.title('Relationship between Total Charges and churn')\n",
    "plt.legend(['Customers with no end date', 'Customers that will leave'])\n",
    "plt.show()"
   ]
  },
  {
   "cell_type": "markdown",
   "metadata": {},
   "source": [
    "Based on the above two graphs it seems like customers who spend more with the company end up staying, compared to the customers who spend lesser they have an end date and have left the company."
   ]
  },
  {
   "cell_type": "code",
   "execution_count": 128,
   "metadata": {},
   "outputs": [
    {
     "name": "stdout",
     "output_type": "stream",
     "text": [
      "   gender  CustomersLeft  ActiveCustomers\n",
      "0  Female            939             2549\n",
      "1    Male            930             2625\n"
     ]
    },
    {
     "data": {
      "image/png": "[encoded data removed]",
      "text/plain": [
       "<Figure size 640x480 with 1 Axes>"
      ]
     },
     "metadata": {},
     "output_type": "display_data"
    }
   ],
   "source": [
    "# Relationship between gender and churn\n",
    "\n",
    "gender_churn = df.pivot_table(index='gender', columns='churn', aggfunc='size', fill_value=0)\n",
    "gender_churn.columns = ['CustomersLeft', 'ActiveCustomers']\n",
    "gender_churn = gender_churn.reset_index()\n",
    "print(gender_churn)\n",
    "\n",
    "\n",
    "gender_churn.plot(kind = 'bar',\n",
    "                x = 'gender',\n",
    "                y = ['CustomersLeft', 'ActiveCustomers'],\n",
    "                title = 'Relationship of Gender with churn',\n",
    "                xlabel = 'Gender',\n",
    "                ylabel = 'No. of Customers')\n",
    "plt.legend(['Customers who Left', 'Active Customers'])\n",
    "plt.xticks(rotation=0)\n",
    "plt.show()\n"
   ]
  },
  {
   "cell_type": "markdown",
   "metadata": {},
   "source": [
    "There's hardly any difference between the churn rate between males and females. Gender does not seem to have much of an effect on whether the client would stay or leave."
   ]
  },
  {
   "cell_type": "code",
   "execution_count": 129,
   "metadata": {},
   "outputs": [
    {
     "name": "stdout",
     "output_type": "stream",
     "text": [
      "  InternetService  CustomersLeft  ActiveCustomers\n",
      "0             DSL            459             1962\n",
      "1     Fiber optic           1297             1799\n",
      "2   NotApplicable            113             1413\n"
     ]
    },
    {
     "data": {
      "image/png": "[encoded data removed]",
      "text/plain": [
       "<Figure size 640x480 with 1 Axes>"
      ]
     },
     "metadata": {},
     "output_type": "display_data"
    }
   ],
   "source": [
    "# Relationship between type of internet service and churn\n",
    "\n",
    "internetservice_churn = df.pivot_table(index='InternetService', columns='churn', aggfunc='size', fill_value=0)\n",
    "internetservice_churn.columns = ['CustomersLeft', 'ActiveCustomers']\n",
    "internetservice_churn = internetservice_churn.reset_index()\n",
    "print(internetservice_churn)\n",
    "\n",
    "internetservice_churn.plot(kind = 'bar',\n",
    "                x = 'InternetService',\n",
    "                y = ['CustomersLeft', 'ActiveCustomers'],\n",
    "                title = 'Relationship of Internet Serviice with churn',\n",
    "                xlabel = 'Internet Service',\n",
    "                ylabel = 'No. of Customers')\n",
    "plt.legend(['Customers who Left', 'Active Customers'])\n",
    "plt.xticks(rotation=0)\n",
    "plt.show()\n"
   ]
  },
  {
   "cell_type": "markdown",
   "metadata": {},
   "source": [
    "Its hard to see a direct relationship here, but it seems like more customers with DSL will stay with the company, whereas a good portion of customers who left had Fiber Optic as their Internet Service."
   ]
  },
  {
   "cell_type": "code",
   "execution_count": 167,
   "metadata": {},
   "outputs": [
    {
     "name": "stdout",
     "output_type": "stream",
     "text": [
      "               PaymentMethod  CustomersLeft  ActiveCustomers\n",
      "0  Bank transfer (automatic)            258             1286\n",
      "1    Credit card (automatic)            232             1290\n",
      "2           Electronic check           1071             1294\n",
      "3               Mailed check            308             1304\n"
     ]
    },
    {
     "data": {
      "image/png": "[encoded data removed]",
      "text/plain": [
       "<Figure size 640x480 with 1 Axes>"
      ]
     },
     "metadata": {},
     "output_type": "display_data"
    }
   ],
   "source": [
    "# Relationship between payment method and churn\n",
    "\n",
    "paymentmethod_churn = df.pivot_table(index='PaymentMethod', columns='churn', aggfunc='size', fill_value=0)\n",
    "paymentmethod_churn.columns = ['CustomersLeft', 'ActiveCustomers']\n",
    "paymentmethod_churn = paymentmethod_churn.reset_index()\n",
    "print(paymentmethod_churn)\n",
    "\n",
    "paymentmethod_churn.plot(kind = 'bar',\n",
    "                x = 'PaymentMethod',\n",
    "                y = ['CustomersLeft', 'ActiveCustomers'],\n",
    "                title = 'Relationship of Payment Method with churn',\n",
    "                xlabel = 'Payment Method',\n",
    "                ylabel = 'No. of Customers')\n",
    "plt.legend(['Customers who Left', 'Active Customers'])\n",
    "# plt.xticks(rotation=45)\n",
    "plt.show()"
   ]
  },
  {
   "cell_type": "markdown",
   "metadata": {},
   "source": [
    "This shows that there was a high percentage of clients who left that used to pay though Electronic checks. The ratios for the other payment methods seem similar."
   ]
  },
  {
   "cell_type": "markdown",
   "metadata": {},
   "source": [
    "## Train Models"
   ]
  },
  {
   "cell_type": "code",
   "execution_count": 130,
   "metadata": {},
   "outputs": [],
   "source": [
    "# Separate features and target\n",
    "\n",
    "features = df.drop(['customerID', 'BeginDate', 'EndDate', 'churn'], axis=1)\n",
    "target = df['churn']"
   ]
  },
  {
   "cell_type": "code",
   "execution_count": 131,
   "metadata": {},
   "outputs": [
    {
     "name": "stdout",
     "output_type": "stream",
     "text": [
      "Type                3\n",
      "PaperlessBilling    2\n",
      "PaymentMethod       4\n",
      "gender              2\n",
      "Partner             2\n",
      "Dependents          2\n",
      "InternetService     3\n",
      "OnlineSecurity      3\n",
      "OnlineBackup        3\n",
      "DeviceProtection    3\n",
      "TechSupport         3\n",
      "StreamingTV         3\n",
      "StreamingMovies     3\n",
      "MultipleLines       3\n",
      "dtype: int64\n"
     ]
    }
   ],
   "source": [
    "# Check cardinality of different categorical features\n",
    "\n",
    "print(features.select_dtypes(include='object').nunique())"
   ]
  },
  {
   "cell_type": "code",
   "execution_count": 132,
   "metadata": {},
   "outputs": [
    {
     "name": "stdout",
     "output_type": "stream",
     "text": [
      "<class 'pandas.core.frame.DataFrame'>\n",
      "Int64Index: 7043 entries, 0 to 7042\n",
      "Data columns (total 17 columns):\n",
      " #   Column            Non-Null Count  Dtype  \n",
      "---  ------            --------------  -----  \n",
      " 0   Type              7043 non-null   object \n",
      " 1   PaperlessBilling  7043 non-null   object \n",
      " 2   PaymentMethod     7043 non-null   object \n",
      " 3   MonthlyCharges    7043 non-null   float64\n",
      " 4   TotalCharges      7043 non-null   float64\n",
      " 5   gender            7043 non-null   object \n",
      " 6   SeniorCitizen     7043 non-null   int64  \n",
      " 7   Partner           7043 non-null   object \n",
      " 8   Dependents        7043 non-null   object \n",
      " 9   InternetService   7043 non-null   object \n",
      " 10  OnlineSecurity    7043 non-null   object \n",
      " 11  OnlineBackup      7043 non-null   object \n",
      " 12  DeviceProtection  7043 non-null   object \n",
      " 13  TechSupport       7043 non-null   object \n",
      " 14  StreamingTV       7043 non-null   object \n",
      " 15  StreamingMovies   7043 non-null   object \n",
      " 16  MultipleLines     7043 non-null   object \n",
      "dtypes: float64(2), int64(1), object(14)\n",
      "memory usage: 990.4+ KB\n",
      "None\n"
     ]
    },
    {
     "data": {
      "text/html": [
       "<div>\n",
       "<style scoped>\n",
       "    .dataframe tbody tr th:only-of-type {\n",
       "        vertical-align: middle;\n",
       "    }\n",
       "\n",
       "    .dataframe tbody tr th {\n",
       "        vertical-align: top;\n",
       "    }\n",
       "\n",
       "    .dataframe thead th {\n",
       "        text-align: right;\n",
       "    }\n",
       "</style>\n",
       "<table border=\"1\" class=\"dataframe\">\n",
       "  <thead>\n",
       "    <tr style=\"text-align: right;\">\n",
       "      <th></th>\n",
       "      <th>MonthlyCharges</th>\n",
       "      <th>TotalCharges</th>\n",
       "      <th>SeniorCitizen</th>\n",
       "      <th>Type_One year</th>\n",
       "      <th>Type_Two year</th>\n",
       "      <th>PaperlessBilling_Yes</th>\n",
       "      <th>PaymentMethod_Credit card (automatic)</th>\n",
       "      <th>PaymentMethod_Electronic check</th>\n",
       "      <th>PaymentMethod_Mailed check</th>\n",
       "      <th>gender_Male</th>\n",
       "      <th>...</th>\n",
       "      <th>DeviceProtection_NotApplicable</th>\n",
       "      <th>DeviceProtection_Yes</th>\n",
       "      <th>TechSupport_NotApplicable</th>\n",
       "      <th>TechSupport_Yes</th>\n",
       "      <th>StreamingTV_NotApplicable</th>\n",
       "      <th>StreamingTV_Yes</th>\n",
       "      <th>StreamingMovies_NotApplicable</th>\n",
       "      <th>StreamingMovies_Yes</th>\n",
       "      <th>MultipleLines_NotApplicable</th>\n",
       "      <th>MultipleLines_Yes</th>\n",
       "    </tr>\n",
       "  </thead>\n",
       "  <tbody>\n",
       "    <tr>\n",
       "      <th>4141</th>\n",
       "      <td>39.85</td>\n",
       "      <td>1434.60</td>\n",
       "      <td>1</td>\n",
       "      <td>0</td>\n",
       "      <td>0</td>\n",
       "      <td>1</td>\n",
       "      <td>0</td>\n",
       "      <td>1</td>\n",
       "      <td>0</td>\n",
       "      <td>0</td>\n",
       "      <td>...</td>\n",
       "      <td>0</td>\n",
       "      <td>1</td>\n",
       "      <td>0</td>\n",
       "      <td>0</td>\n",
       "      <td>0</td>\n",
       "      <td>1</td>\n",
       "      <td>0</td>\n",
       "      <td>0</td>\n",
       "      <td>1</td>\n",
       "      <td>0</td>\n",
       "    </tr>\n",
       "    <tr>\n",
       "      <th>4041</th>\n",
       "      <td>60.75</td>\n",
       "      <td>2893.40</td>\n",
       "      <td>0</td>\n",
       "      <td>0</td>\n",
       "      <td>1</td>\n",
       "      <td>1</td>\n",
       "      <td>0</td>\n",
       "      <td>0</td>\n",
       "      <td>0</td>\n",
       "      <td>1</td>\n",
       "      <td>...</td>\n",
       "      <td>0</td>\n",
       "      <td>1</td>\n",
       "      <td>0</td>\n",
       "      <td>1</td>\n",
       "      <td>0</td>\n",
       "      <td>1</td>\n",
       "      <td>0</td>\n",
       "      <td>1</td>\n",
       "      <td>1</td>\n",
       "      <td>0</td>\n",
       "    </tr>\n",
       "    <tr>\n",
       "      <th>1801</th>\n",
       "      <td>69.70</td>\n",
       "      <td>1490.40</td>\n",
       "      <td>0</td>\n",
       "      <td>0</td>\n",
       "      <td>0</td>\n",
       "      <td>1</td>\n",
       "      <td>0</td>\n",
       "      <td>0</td>\n",
       "      <td>1</td>\n",
       "      <td>1</td>\n",
       "      <td>...</td>\n",
       "      <td>0</td>\n",
       "      <td>0</td>\n",
       "      <td>0</td>\n",
       "      <td>0</td>\n",
       "      <td>0</td>\n",
       "      <td>0</td>\n",
       "      <td>0</td>\n",
       "      <td>0</td>\n",
       "      <td>0</td>\n",
       "      <td>0</td>\n",
       "    </tr>\n",
       "    <tr>\n",
       "      <th>6657</th>\n",
       "      <td>20.45</td>\n",
       "      <td>900.90</td>\n",
       "      <td>0</td>\n",
       "      <td>1</td>\n",
       "      <td>0</td>\n",
       "      <td>0</td>\n",
       "      <td>0</td>\n",
       "      <td>0</td>\n",
       "      <td>0</td>\n",
       "      <td>0</td>\n",
       "      <td>...</td>\n",
       "      <td>1</td>\n",
       "      <td>0</td>\n",
       "      <td>1</td>\n",
       "      <td>0</td>\n",
       "      <td>1</td>\n",
       "      <td>0</td>\n",
       "      <td>1</td>\n",
       "      <td>0</td>\n",
       "      <td>0</td>\n",
       "      <td>0</td>\n",
       "    </tr>\n",
       "    <tr>\n",
       "      <th>3490</th>\n",
       "      <td>51.05</td>\n",
       "      <td>415.05</td>\n",
       "      <td>0</td>\n",
       "      <td>0</td>\n",
       "      <td>0</td>\n",
       "      <td>1</td>\n",
       "      <td>0</td>\n",
       "      <td>1</td>\n",
       "      <td>0</td>\n",
       "      <td>1</td>\n",
       "      <td>...</td>\n",
       "      <td>0</td>\n",
       "      <td>1</td>\n",
       "      <td>0</td>\n",
       "      <td>0</td>\n",
       "      <td>0</td>\n",
       "      <td>0</td>\n",
       "      <td>0</td>\n",
       "      <td>0</td>\n",
       "      <td>0</td>\n",
       "      <td>0</td>\n",
       "    </tr>\n",
       "    <tr>\n",
       "      <th>1427</th>\n",
       "      <td>73.85</td>\n",
       "      <td>3122.40</td>\n",
       "      <td>1</td>\n",
       "      <td>0</td>\n",
       "      <td>0</td>\n",
       "      <td>0</td>\n",
       "      <td>0</td>\n",
       "      <td>1</td>\n",
       "      <td>0</td>\n",
       "      <td>1</td>\n",
       "      <td>...</td>\n",
       "      <td>0</td>\n",
       "      <td>1</td>\n",
       "      <td>0</td>\n",
       "      <td>0</td>\n",
       "      <td>0</td>\n",
       "      <td>0</td>\n",
       "      <td>0</td>\n",
       "      <td>0</td>\n",
       "      <td>0</td>\n",
       "      <td>0</td>\n",
       "    </tr>\n",
       "    <tr>\n",
       "      <th>4933</th>\n",
       "      <td>57.20</td>\n",
       "      <td>223.75</td>\n",
       "      <td>0</td>\n",
       "      <td>0</td>\n",
       "      <td>0</td>\n",
       "      <td>1</td>\n",
       "      <td>0</td>\n",
       "      <td>0</td>\n",
       "      <td>1</td>\n",
       "      <td>0</td>\n",
       "      <td>...</td>\n",
       "      <td>0</td>\n",
       "      <td>1</td>\n",
       "      <td>0</td>\n",
       "      <td>0</td>\n",
       "      <td>0</td>\n",
       "      <td>1</td>\n",
       "      <td>0</td>\n",
       "      <td>1</td>\n",
       "      <td>1</td>\n",
       "      <td>0</td>\n",
       "    </tr>\n",
       "    <tr>\n",
       "      <th>6973</th>\n",
       "      <td>94.00</td>\n",
       "      <td>4871.45</td>\n",
       "      <td>1</td>\n",
       "      <td>1</td>\n",
       "      <td>0</td>\n",
       "      <td>1</td>\n",
       "      <td>0</td>\n",
       "      <td>1</td>\n",
       "      <td>0</td>\n",
       "      <td>0</td>\n",
       "      <td>...</td>\n",
       "      <td>0</td>\n",
       "      <td>1</td>\n",
       "      <td>0</td>\n",
       "      <td>1</td>\n",
       "      <td>0</td>\n",
       "      <td>1</td>\n",
       "      <td>0</td>\n",
       "      <td>0</td>\n",
       "      <td>0</td>\n",
       "      <td>0</td>\n",
       "    </tr>\n",
       "    <tr>\n",
       "      <th>1884</th>\n",
       "      <td>55.45</td>\n",
       "      <td>1477.65</td>\n",
       "      <td>0</td>\n",
       "      <td>1</td>\n",
       "      <td>0</td>\n",
       "      <td>0</td>\n",
       "      <td>0</td>\n",
       "      <td>0</td>\n",
       "      <td>0</td>\n",
       "      <td>1</td>\n",
       "      <td>...</td>\n",
       "      <td>0</td>\n",
       "      <td>0</td>\n",
       "      <td>0</td>\n",
       "      <td>0</td>\n",
       "      <td>0</td>\n",
       "      <td>0</td>\n",
       "      <td>0</td>\n",
       "      <td>0</td>\n",
       "      <td>0</td>\n",
       "      <td>0</td>\n",
       "    </tr>\n",
       "    <tr>\n",
       "      <th>3872</th>\n",
       "      <td>103.10</td>\n",
       "      <td>970.45</td>\n",
       "      <td>0</td>\n",
       "      <td>0</td>\n",
       "      <td>0</td>\n",
       "      <td>0</td>\n",
       "      <td>0</td>\n",
       "      <td>1</td>\n",
       "      <td>0</td>\n",
       "      <td>1</td>\n",
       "      <td>...</td>\n",
       "      <td>0</td>\n",
       "      <td>1</td>\n",
       "      <td>0</td>\n",
       "      <td>1</td>\n",
       "      <td>0</td>\n",
       "      <td>1</td>\n",
       "      <td>0</td>\n",
       "      <td>1</td>\n",
       "      <td>0</td>\n",
       "      <td>0</td>\n",
       "    </tr>\n",
       "  </tbody>\n",
       "</table>\n",
       "<p>10 rows × 28 columns</p>\n",
       "</div>"
      ],
      "text/plain": [
       "      MonthlyCharges  TotalCharges  SeniorCitizen  Type_One year  \\\n",
       "4141           39.85       1434.60              1              0   \n",
       "4041           60.75       2893.40              0              0   \n",
       "1801           69.70       1490.40              0              0   \n",
       "6657           20.45        900.90              0              1   \n",
       "3490           51.05        415.05              0              0   \n",
       "1427           73.85       3122.40              1              0   \n",
       "4933           57.20        223.75              0              0   \n",
       "6973           94.00       4871.45              1              1   \n",
       "1884           55.45       1477.65              0              1   \n",
       "3872          103.10        970.45              0              0   \n",
       "\n",
       "      Type_Two year  PaperlessBilling_Yes  \\\n",
       "4141              0                     1   \n",
       "4041              1                     1   \n",
       "1801              0                     1   \n",
       "6657              0                     0   \n",
       "3490              0                     1   \n",
       "1427              0                     0   \n",
       "4933              0                     1   \n",
       "6973              0                     1   \n",
       "1884              0                     0   \n",
       "3872              0                     0   \n",
       "\n",
       "      PaymentMethod_Credit card (automatic)  PaymentMethod_Electronic check  \\\n",
       "4141                                      0                               1   \n",
       "4041                                      0                               0   \n",
       "1801                                      0                               0   \n",
       "6657                                      0                               0   \n",
       "3490                                      0                               1   \n",
       "1427                                      0                               1   \n",
       "4933                                      0                               0   \n",
       "6973                                      0                               1   \n",
       "1884                                      0                               0   \n",
       "3872                                      0                               1   \n",
       "\n",
       "      PaymentMethod_Mailed check  gender_Male  ...  \\\n",
       "4141                           0            0  ...   \n",
       "4041                           0            1  ...   \n",
       "1801                           1            1  ...   \n",
       "6657                           0            0  ...   \n",
       "3490                           0            1  ...   \n",
       "1427                           0            1  ...   \n",
       "4933                           1            0  ...   \n",
       "6973                           0            0  ...   \n",
       "1884                           0            1  ...   \n",
       "3872                           0            1  ...   \n",
       "\n",
       "      DeviceProtection_NotApplicable  DeviceProtection_Yes  \\\n",
       "4141                               0                     1   \n",
       "4041                               0                     1   \n",
       "1801                               0                     0   \n",
       "6657                               1                     0   \n",
       "3490                               0                     1   \n",
       "1427                               0                     1   \n",
       "4933                               0                     1   \n",
       "6973                               0                     1   \n",
       "1884                               0                     0   \n",
       "3872                               0                     1   \n",
       "\n",
       "      TechSupport_NotApplicable  TechSupport_Yes  StreamingTV_NotApplicable  \\\n",
       "4141                          0                0                          0   \n",
       "4041                          0                1                          0   \n",
       "1801                          0                0                          0   \n",
       "6657                          1                0                          1   \n",
       "3490                          0                0                          0   \n",
       "1427                          0                0                          0   \n",
       "4933                          0                0                          0   \n",
       "6973                          0                1                          0   \n",
       "1884                          0                0                          0   \n",
       "3872                          0                1                          0   \n",
       "\n",
       "      StreamingTV_Yes  StreamingMovies_NotApplicable  StreamingMovies_Yes  \\\n",
       "4141                1                              0                    0   \n",
       "4041                1                              0                    1   \n",
       "1801                0                              0                    0   \n",
       "6657                0                              1                    0   \n",
       "3490                0                              0                    0   \n",
       "1427                0                              0                    0   \n",
       "4933                1                              0                    1   \n",
       "6973                1                              0                    0   \n",
       "1884                0                              0                    0   \n",
       "3872                1                              0                    1   \n",
       "\n",
       "      MultipleLines_NotApplicable  MultipleLines_Yes  \n",
       "4141                            1                  0  \n",
       "4041                            1                  0  \n",
       "1801                            0                  0  \n",
       "6657                            0                  0  \n",
       "3490                            0                  0  \n",
       "1427                            0                  0  \n",
       "4933                            1                  0  \n",
       "6973                            0                  0  \n",
       "1884                            0                  0  \n",
       "3872                            0                  0  \n",
       "\n",
       "[10 rows x 28 columns]"
      ]
     },
     "execution_count": 132,
     "metadata": {},
     "output_type": "execute_result"
    }
   ],
   "source": [
    "# One Hot Encoding for all categorical features\n",
    "\n",
    "print(features.info())\n",
    "\n",
    "features_ohe = pd.get_dummies(features, drop_first=True)\n",
    "features_ohe.sample(10)\n",
    "\n",
    "\n",
    "# # Create the encoder\n",
    "# encoder = OneHotEncoder()\n",
    "\n",
    "# # Fit and transform the data\n",
    "# encoded_data = encoder.fit_transform(features)\n",
    "\n",
    "# # Create a new dataframe from the encoded data\n",
    "# encoded_df = pd.DataFrame(encoded_data.toarray(), columns=encoder.get_feature_names_out(['color']))\n",
    "\n",
    "# # Join the encoded dataframe with the original dataframe\n",
    "# df = df.join(encoded_df)\n",
    "\n",
    "# print(df)"
   ]
  },
  {
   "cell_type": "code",
   "execution_count": 133,
   "metadata": {},
   "outputs": [],
   "source": [
    "# Split Data into training (60%), validating (20%), and testing (20%) set\n",
    "\n",
    "features_train, features_validtest, target_train, target_validtest = train_test_split(\n",
    "    features_ohe, target, test_size=0.4, random_state=12345)\n",
    "\n",
    "features_valid, features_test, target_valid, target_test = train_test_split(\n",
    "    features_validtest, target_validtest, test_size=0.5, random_state=12345)"
   ]
  },
  {
   "cell_type": "code",
   "execution_count": 134,
   "metadata": {},
   "outputs": [],
   "source": [
    "# # Scale the features\n",
    "\n",
    "# scaler = StandardScaler()\n",
    "# scaler.fit(features_train)\n",
    "# features_train = scaler.transform(features_train)\n",
    "# features_valid = scaler.transform(features_valid)\n",
    "# features_test = scaler.transform(features_test)\n"
   ]
  },
  {
   "cell_type": "markdown",
   "metadata": {},
   "source": [
    "### Decision Tree Classifier"
   ]
  },
  {
   "cell_type": "code",
   "execution_count": 139,
   "metadata": {},
   "outputs": [
    {
     "data": {
      "text/plain": [
       "DecisionTreeClassifier(random_state=12345)"
      ]
     },
     "execution_count": 139,
     "metadata": {},
     "output_type": "execute_result"
    }
   ],
   "source": [
    "# Train Decision Tree Classifier\n",
    "\n",
    "model_dt = DecisionTreeClassifier(random_state=12345)\n",
    "model_dt.fit(features_train, target_train)\n"
   ]
  },
  {
   "cell_type": "code",
   "execution_count": 140,
   "metadata": {},
   "outputs": [
    {
     "name": "stdout",
     "output_type": "stream",
     "text": [
      "Decision Tree Classifier - ROC AUC: 0.66\n",
      "Accuracy: 0.74\n"
     ]
    },
    {
     "data": {
      "image/png": "[encoded data removed]",
      "text/plain": [
       "<Figure size 640x480 with 1 Axes>"
      ]
     },
     "metadata": {},
     "output_type": "display_data"
    }
   ],
   "source": [
    "# Calculate AUC-ROC score for Decision Tree Classifier on validation set\n",
    "\n",
    "predict_prob_dt = model_dt.predict_proba(features_valid)[:, 1]\n",
    "roc_auc_dt = roc_auc_score(target_valid, predict_prob_dt)\n",
    "print(\"Decision Tree Classifier - ROC AUC:\", round(roc_auc_dt, 2))\n",
    "\n",
    "# Calculate Accuracy on validation set\n",
    "prediction_dt = model_dt.predict(features_valid)\n",
    "accuracy_dt = accuracy_score(target_valid, prediction_dt)\n",
    "print(\"Accuracy:\", round(accuracy_dt, 2))\n",
    "\n",
    "# Plot the ROC curve\n",
    "fpr, tpr, thresholds = roc_curve(target_valid, predict_prob_dt)\n",
    "plt.plot(fpr, tpr, label=f'AUC = {roc_auc_dt:.2f}')\n",
    "plt.plot([0, 1], [0, 1], 'k--')  # Diagonal line representing random chance\n",
    "plt.xlabel('False Positive Rate')\n",
    "plt.ylabel('True Positive Rate')\n",
    "plt.title('ROC Curve - Decision Tree Classifier Model')\n",
    "plt.legend(loc='lower right')\n",
    "plt.show()\n",
    "\n"
   ]
  },
  {
   "cell_type": "markdown",
   "metadata": {},
   "source": [
    "### Random Forest Classifier"
   ]
  },
  {
   "cell_type": "code",
   "execution_count": 141,
   "metadata": {},
   "outputs": [
    {
     "data": {
      "text/plain": [
       "RandomForestClassifier(random_state=12345)"
      ]
     },
     "execution_count": 141,
     "metadata": {},
     "output_type": "execute_result"
    }
   ],
   "source": [
    "# Train Random Forest Classifier\n",
    "\n",
    "model_rf = RandomForestClassifier(random_state=12345)\n",
    "model_rf.fit(features_train, target_train)\n",
    "\n"
   ]
  },
  {
   "cell_type": "code",
   "execution_count": 142,
   "metadata": {},
   "outputs": [
    {
     "name": "stdout",
     "output_type": "stream",
     "text": [
      "Random Forest Classifier - ROC AUC: 0.83\n",
      "Accuracy: 0.8\n"
     ]
    },
    {
     "data": {
      "image/png": "[encoded data removed]",
      "text/plain": [
       "<Figure size 640x480 with 1 Axes>"
      ]
     },
     "metadata": {},
     "output_type": "display_data"
    }
   ],
   "source": [
    "# Calculate AUC-ROC score for Random Forest Classifier on validation set\n",
    "\n",
    "predict_prob_rf = model_rf.predict_proba(features_valid)[:, 1]\n",
    "roc_auc_rf = roc_auc_score(target_valid, predict_prob_rf)\n",
    "print(\"Random Forest Classifier - ROC AUC:\", round(roc_auc_rf, 2))\n",
    "\n",
    "# Calculate Accuracy on validation set\n",
    "prediction_rf = model_rf.predict(features_valid)\n",
    "accuracy_rf = accuracy_score(target_valid, prediction_rf)\n",
    "print(\"Accuracy:\", round(accuracy_rf, 2))\n",
    "\n",
    "# Plot the ROC curve\n",
    "fpr, tpr, thresholds = roc_curve(target_valid, predict_prob_rf)\n",
    "plt.plot(fpr, tpr, label=f'AUC = {roc_auc_rf:.2f}')\n",
    "plt.plot([0, 1], [0, 1], 'k--')  # Diagonal line representing random chance\n",
    "plt.xlabel('False Positive Rate')\n",
    "plt.ylabel('True Positive Rate')\n",
    "plt.title('ROC Curve - Random Forest Classifier Model')\n",
    "plt.legend(loc='lower right')\n",
    "plt.show()\n",
    "\n"
   ]
  },
  {
   "cell_type": "markdown",
   "metadata": {},
   "source": [
    "### CatBoost Classifier"
   ]
  },
  {
   "cell_type": "code",
   "execution_count": 143,
   "metadata": {},
   "outputs": [
    {
     "name": "stdout",
     "output_type": "stream",
     "text": [
      "0:\tlearn: 0.6263658\ttotal: 2.61ms\tremaining: 259ms\n",
      "10:\tlearn: 0.4335066\ttotal: 21.3ms\tremaining: 172ms\n",
      "20:\tlearn: 0.3959621\ttotal: 40.7ms\tremaining: 153ms\n",
      "30:\tlearn: 0.3827073\ttotal: 58.9ms\tremaining: 131ms\n",
      "40:\tlearn: 0.3721867\ttotal: 78.2ms\tremaining: 113ms\n",
      "50:\tlearn: 0.3657698\ttotal: 97.5ms\tremaining: 93.7ms\n",
      "60:\tlearn: 0.3591999\ttotal: 117ms\tremaining: 74.5ms\n",
      "70:\tlearn: 0.3531134\ttotal: 136ms\tremaining: 55.6ms\n",
      "80:\tlearn: 0.3465287\ttotal: 156ms\tremaining: 36.6ms\n",
      "90:\tlearn: 0.3410994\ttotal: 175ms\tremaining: 17.3ms\n",
      "99:\tlearn: 0.3340136\ttotal: 193ms\tremaining: 0us\n"
     ]
    },
    {
     "data": {
      "text/plain": [
       "<catboost.core.CatBoostClassifier at 0x7f16a73bbe20>"
      ]
     },
     "execution_count": 143,
     "metadata": {},
     "output_type": "execute_result"
    }
   ],
   "source": [
    "# Train CatBoost Classifier\n",
    "\n",
    "model_cb = CatBoostClassifier(iterations=100, learning_rate=0.1, depth=6, random_seed=12345)   \n",
    "model_cb.fit(features_train, target_train, verbose=10)"
   ]
  },
  {
   "cell_type": "code",
   "execution_count": 144,
   "metadata": {},
   "outputs": [
    {
     "name": "stdout",
     "output_type": "stream",
     "text": [
      "CatBoost Classifier - ROC AUC: 0.85\n",
      "Accuracy: 0.8\n"
     ]
    },
    {
     "data": {
      "image/png": "[encoded data removed]",
      "text/plain": [
       "<Figure size 640x480 with 1 Axes>"
      ]
     },
     "metadata": {},
     "output_type": "display_data"
    }
   ],
   "source": [
    "# Calculate AUC-ROC score for CatBoost Classifier on validation set\n",
    "\n",
    "predict_prob_cb = model_cb.predict_proba(features_valid)[:, 1]\n",
    "roc_auc_cb = roc_auc_score(target_valid, predict_prob_cb)\n",
    "print(\"CatBoost Classifier - ROC AUC:\", round(roc_auc_cb, 2))\n",
    "\n",
    "# Calculate Accuracy on validation set\n",
    "prediction_cb = model_cb.predict(features_valid)\n",
    "accuracy_cb = accuracy_score(target_valid, prediction_cb)\n",
    "print(\"Accuracy:\", round(accuracy_cb, 2))\n",
    "\n",
    "# Plot the ROC curve\n",
    "fpr, tpr, thresholds = roc_curve(target_valid, predict_prob_cb)\n",
    "plt.plot(fpr, tpr, label=f'AUC = {roc_auc_cb:.2f}')\n",
    "plt.plot([0, 1], [0, 1], 'k--')  # Diagonal line representing random chance\n",
    "plt.xlabel('False Positive Rate')\n",
    "plt.ylabel('True Positive Rate')\n",
    "plt.title('ROC Curve - CatBoost Classifier Model')\n",
    "plt.legend(loc='lower right')\n",
    "plt.show()\n"
   ]
  },
  {
   "cell_type": "markdown",
   "metadata": {},
   "source": [
    "### LightGBM Classifier"
   ]
  },
  {
   "cell_type": "code",
   "execution_count": 145,
   "metadata": {},
   "outputs": [
    {
     "data": {
      "text/plain": [
       "LGBMClassifier(random_state=12345)"
      ]
     },
     "execution_count": 145,
     "metadata": {},
     "output_type": "execute_result"
    }
   ],
   "source": [
    "# Train LightGBM Classifier model\n",
    "\n",
    "model_lgb = LGBMClassifier(random_state=12345)\n",
    "model_lgb.fit(features_train, target_train)"
   ]
  },
  {
   "cell_type": "code",
   "execution_count": 146,
   "metadata": {},
   "outputs": [
    {
     "name": "stdout",
     "output_type": "stream",
     "text": [
      "LightGBM Classifier - ROC AUC: 0.84\n",
      "Accuracy: 0.8\n"
     ]
    },
    {
     "data": {
      "image/png": "[encoded data removed]",
      "text/plain": [
       "<Figure size 640x480 with 1 Axes>"
      ]
     },
     "metadata": {},
     "output_type": "display_data"
    }
   ],
   "source": [
    "# Calculate AUC-ROC score for LightGBM Classifier on validation set\n",
    "predict_prob_lgb = model_lgb.predict_proba(features_valid)[:, 1]\n",
    "roc_auc_lgb = roc_auc_score(target_valid, predict_prob_lgb)\n",
    "print(\"LightGBM Classifier - ROC AUC:\", round(roc_auc_lgb, 2))\n",
    "\n",
    "# Calculate Accuracy on validation set\n",
    "prediction_lgb = model_lgb.predict(features_valid)\n",
    "accuracy_lgb = accuracy_score(target_valid, prediction_lgb)\n",
    "print(\"Accuracy:\", round(accuracy_lgb, 2))\n",
    "\n",
    "# Plot the ROC curve\n",
    "fpr, tpr, thresholds = roc_curve(target_valid, predict_prob_lgb)\n",
    "plt.plot(fpr, tpr, label=f'AUC = {roc_auc_lgb:.2f}')\n",
    "plt.plot([0, 1], [0, 1], 'k--')  # Diagonal line representing random chance\n",
    "plt.xlabel('False Positive Rate')\n",
    "plt.ylabel('True Positive Rate')\n",
    "plt.title('ROC Curve - LightGBM Classifier Model')\n",
    "plt.legend(loc='lower right')\n",
    "plt.show()"
   ]
  },
  {
   "cell_type": "markdown",
   "metadata": {},
   "source": [
    "### Gradient Boosting Classifier"
   ]
  },
  {
   "cell_type": "code",
   "execution_count": 147,
   "metadata": {},
   "outputs": [
    {
     "data": {
      "text/plain": [
       "GradientBoostingClassifier(random_state=12345)"
      ]
     },
     "execution_count": 147,
     "metadata": {},
     "output_type": "execute_result"
    }
   ],
   "source": [
    "# Train Gradient Boosting Classifier model\n",
    "\n",
    "from sklearn.ensemble import GradientBoostingClassifier\n",
    "\n",
    "model_gb = GradientBoostingClassifier(random_state=12345)\n",
    "model_gb.fit(features_train, target_train)"
   ]
  },
  {
   "cell_type": "code",
   "execution_count": 148,
   "metadata": {},
   "outputs": [
    {
     "name": "stdout",
     "output_type": "stream",
     "text": [
      "Gradient Boosting Classifier - ROC AUC: 0.85\n",
      "Accuracy: 0.79\n"
     ]
    },
    {
     "data": {
      "image/png": "[encoded data removed]",
      "text/plain": [
       "<Figure size 640x480 with 1 Axes>"
      ]
     },
     "metadata": {},
     "output_type": "display_data"
    }
   ],
   "source": [
    "# Calculate AUC-ROC score for Gradient Boosting Classifier on validation set\n",
    "predict_prob_gb = model_gb.predict_proba(features_valid)[:, 1]\n",
    "roc_auc_gb = roc_auc_score(target_valid, predict_prob_gb)\n",
    "print(\"Gradient Boosting Classifier - ROC AUC:\", round(roc_auc_gb, 2))\n",
    "\n",
    "# Calculate Accuracy on validation set\n",
    "prediction_gb = model_gb.predict(features_valid)\n",
    "accuracy_gb = accuracy_score(target_valid, prediction_gb)\n",
    "print(\"Accuracy:\", round(accuracy_gb, 2))\n",
    "\n",
    "# Plot the ROC curve\n",
    "fpr, tpr, thresholds = roc_curve(target_valid, predict_prob_gb)\n",
    "plt.plot(fpr, tpr, label=f'AUC = {roc_auc_gb:.2f}')\n",
    "plt.plot([0, 1], [0, 1], 'k--')  # Diagonal line representing random chance\n",
    "plt.xlabel('False Positive Rate')\n",
    "plt.ylabel('True Positive Rate')\n",
    "plt.title('ROC Curve - Gradient Boosting Classifier Model')\n",
    "plt.legend(loc='lower right')\n",
    "plt.show()"
   ]
  },
  {
   "cell_type": "markdown",
   "metadata": {},
   "source": [
    "## Finetuning Hyperparameters"
   ]
  },
  {
   "cell_type": "markdown",
   "metadata": {},
   "source": [
    "CatBoost Classifier and Gradient Boosting Classifier gave the best AUC-ROC score of 0.85, and then LightGBM Classifier and Random Forest Classifier gave the AUC-ROC score of 0.84 and 0.83 respectively. While all these (except the Decision Tree Classifier) pass the basic criteria of AUC-ROC score being above 0.75, we will try finetuning hyperparameters to see if this metric can be improved."
   ]
  },
  {
   "cell_type": "markdown",
   "metadata": {},
   "source": [
    "### Finetuning Random Forest Classifier"
   ]
  },
  {
   "cell_type": "code",
   "execution_count": 158,
   "metadata": {},
   "outputs": [
    {
     "name": "stdout",
     "output_type": "stream",
     "text": [
      "Fitting 3 folds for each of 5 candidates, totalling 15 fits\n"
     ]
    },
    {
     "data": {
      "text/plain": [
       "RandomizedSearchCV(cv=3, estimator=RandomForestClassifier(), n_iter=5,\n",
       "                   n_jobs=-1,\n",
       "                   param_distributions={'max_depth': [None, 10],\n",
       "                                        'min_samples_split': [2, 5],\n",
       "                                        'n_estimators': [50, 100]},\n",
       "                   random_state=42, scoring='roc_auc', verbose=1)"
      ]
     },
     "execution_count": 158,
     "metadata": {},
     "output_type": "execute_result"
    }
   ],
   "source": [
    "# Random Forest Classifier - Finetune Hyperparameters\n",
    "\n",
    "param_grid_rf = {\n",
    "    'n_estimators': [50, 100],\n",
    "    'max_depth': [None, 10],\n",
    "    'min_samples_split': [2, 5],\n",
    "}\n",
    "\n",
    "rf_model = RandomForestClassifier()\n",
    "\n",
    "random_search_rf = RandomizedSearchCV(estimator=rf_model, param_distributions=param_grid_rf, \n",
    "                                   scoring='roc_auc', n_iter=5, cv=3, verbose=1, random_state=42, n_jobs=-1)\n",
    "\n",
    "random_search_rf.fit(features_train, target_train)\n"
   ]
  },
  {
   "cell_type": "code",
   "execution_count": 159,
   "metadata": {},
   "outputs": [
    {
     "name": "stdout",
     "output_type": "stream",
     "text": [
      "Best Parameters: {'n_estimators': 100, 'min_samples_split': 5, 'max_depth': 10}\n",
      "\n",
      "Random Forest Classifier (after finetuning hyperparameters) - ROC AUC: 0.85\n"
     ]
    }
   ],
   "source": [
    "# Get the best parameters and model\n",
    "best_params_rf = random_search_rf.best_params_\n",
    "best_model_rf = random_search_rf.best_estimator_\n",
    "\n",
    "# Print the best parameters \n",
    "print(\"Best Parameters:\", best_params_rf)\n",
    "\n",
    "# Calculate AUC-ROC score for Random Forest Classifier after finetuning hyperparameters on validation set\n",
    "predict_prob_rf_finetuned = best_model_rf.predict_proba(features_valid)[:, 1]\n",
    "roc_auc_rf_finetuned = roc_auc_score(target_valid, predict_prob_rf_finetuned)\n",
    "print(\"\\nRandom Forest Classifier (after finetuning hyperparameters) - ROC AUC:\", round(roc_auc_rf_finetuned, 2))\n"
   ]
  },
  {
   "cell_type": "markdown",
   "metadata": {},
   "source": [
    "### Finetuning CatBoost Classifier Model"
   ]
  },
  {
   "cell_type": "code",
   "execution_count": 151,
   "metadata": {
    "scrolled": true
   },
   "outputs": [
    {
     "name": "stdout",
     "output_type": "stream",
     "text": [
      "Fitting 3 folds for each of 10 candidates, totalling 30 fits\n",
      "0:\tlearn: 0.6861998\ttotal: 1.92ms\tremaining: 190ms\n",
      "10:\tlearn: 0.6318376\ttotal: 11.9ms\tremaining: 96.5ms\n",
      "20:\tlearn: 0.5873232\ttotal: 22.4ms\tremaining: 84.3ms\n",
      "30:\tlearn: 0.5531344\ttotal: 33.4ms\tremaining: 74.4ms\n",
      "40:\tlearn: 0.5254429\ttotal: 44.6ms\tremaining: 64.2ms\n",
      "50:\tlearn: 0.5045997\ttotal: 56.1ms\tremaining: 53.9ms\n",
      "60:\tlearn: 0.4870319\ttotal: 67.4ms\tremaining: 43.1ms\n",
      "70:\tlearn: 0.4732682\ttotal: 78.5ms\tremaining: 32.1ms\n",
      "80:\tlearn: 0.4625521\ttotal: 89.7ms\tremaining: 21ms\n",
      "90:\tlearn: 0.4533562\ttotal: 100ms\tremaining: 9.93ms\n",
      "99:\tlearn: 0.4460714\ttotal: 111ms\tremaining: 0us\n",
      "0:\tlearn: 0.6864679\ttotal: 1.23ms\tremaining: 122ms\n",
      "10:\tlearn: 0.6309145\ttotal: 11.8ms\tremaining: 95.8ms\n",
      "20:\tlearn: 0.5899419\ttotal: 22.5ms\tremaining: 84.6ms\n",
      "30:\tlearn: 0.5536602\ttotal: 33.1ms\tremaining: 73.7ms\n",
      "40:\tlearn: 0.5277809\ttotal: 43.7ms\tremaining: 62.9ms\n",
      "50:\tlearn: 0.5084920\ttotal: 54.7ms\tremaining: 52.5ms\n",
      "60:\tlearn: 0.4920777\ttotal: 65.7ms\tremaining: 42ms\n",
      "70:\tlearn: 0.4776310\ttotal: 76.7ms\tremaining: 31.3ms\n",
      "80:\tlearn: 0.4664741\ttotal: 87.7ms\tremaining: 20.6ms\n",
      "90:\tlearn: 0.4564321\ttotal: 98.7ms\tremaining: 9.77ms\n",
      "99:\tlearn: 0.4500093\ttotal: 108ms\tremaining: 0us\n",
      "0:\tlearn: 0.6855976\ttotal: 1.63ms\tremaining: 161ms\n",
      "10:\tlearn: 0.6266443\ttotal: 12.7ms\tremaining: 103ms\n",
      "20:\tlearn: 0.5798750\ttotal: 23.5ms\tremaining: 88.4ms\n",
      "30:\tlearn: 0.5445262\ttotal: 34.4ms\tremaining: 76.6ms\n",
      "40:\tlearn: 0.5172000\ttotal: 45.1ms\tremaining: 64.9ms\n",
      "50:\tlearn: 0.4966824\ttotal: 56.1ms\tremaining: 53.9ms\n",
      "60:\tlearn: 0.4781600\ttotal: 67.1ms\tremaining: 42.9ms\n",
      "70:\tlearn: 0.4626886\ttotal: 78.4ms\tremaining: 32ms\n",
      "80:\tlearn: 0.4509856\ttotal: 89.5ms\tremaining: 21ms\n",
      "90:\tlearn: 0.4401080\ttotal: 100ms\tremaining: 9.92ms\n",
      "99:\tlearn: 0.4324843\ttotal: 110ms\tremaining: 0us\n",
      "0:\tlearn: 0.6597083\ttotal: 1.24ms\tremaining: 122ms\n",
      "10:\tlearn: 0.4963984\ttotal: 12.1ms\tremaining: 97.8ms\n",
      "20:\tlearn: 0.4390584\ttotal: 23.2ms\tremaining: 87.5ms\n",
      "30:\tlearn: 0.4162365\ttotal: 34.7ms\tremaining: 77.2ms\n",
      "40:\tlearn: 0.4053995\ttotal: 46.5ms\tremaining: 66.9ms\n",
      "50:\tlearn: 0.3955466\ttotal: 57.5ms\tremaining: 55.3ms\n",
      "60:\tlearn: 0.3888009\ttotal: 68.6ms\tremaining: 43.8ms\n",
      "70:\tlearn: 0.3832567\ttotal: 79.6ms\tremaining: 32.5ms\n",
      "80:\tlearn: 0.3791646\ttotal: 89.8ms\tremaining: 21.1ms\n",
      "90:\tlearn: 0.3745968\ttotal: 101ms\tremaining: 9.97ms\n",
      "99:\tlearn: 0.3714042\ttotal: 111ms\tremaining: 0us\n",
      "0:\tlearn: 0.6608634\ttotal: 1.33ms\tremaining: 132ms\n",
      "10:\tlearn: 0.4978211\ttotal: 12.6ms\tremaining: 102ms\n",
      "20:\tlearn: 0.4429922\ttotal: 23.7ms\tremaining: 89.1ms\n",
      "30:\tlearn: 0.4204111\ttotal: 34.8ms\tremaining: 77.5ms\n",
      "40:\tlearn: 0.4077984\ttotal: 45.8ms\tremaining: 65.9ms\n",
      "50:\tlearn: 0.3993044\ttotal: 56.8ms\tremaining: 54.6ms\n",
      "60:\tlearn: 0.3931765\ttotal: 67.8ms\tremaining: 43.3ms\n",
      "70:\tlearn: 0.3889018\ttotal: 78.1ms\tremaining: 31.9ms\n",
      "80:\tlearn: 0.3841322\ttotal: 89.1ms\tremaining: 20.9ms\n",
      "90:\tlearn: 0.3799376\ttotal: 100ms\tremaining: 9.9ms\n",
      "99:\tlearn: 0.3769274\ttotal: 110ms\tremaining: 0us\n",
      "0:\tlearn: 0.6567763\ttotal: 1.34ms\tremaining: 133ms\n",
      "10:\tlearn: 0.4844537\ttotal: 12.2ms\tremaining: 98.7ms\n",
      "20:\tlearn: 0.4267200\ttotal: 23.5ms\tremaining: 88.3ms\n",
      "30:\tlearn: 0.4035980\ttotal: 34.2ms\tremaining: 76ms\n",
      "40:\tlearn: 0.3905989\ttotal: 45.1ms\tremaining: 64.9ms\n",
      "50:\tlearn: 0.3807773\ttotal: 56.2ms\tremaining: 54ms\n",
      "60:\tlearn: 0.3748821\ttotal: 66.7ms\tremaining: 42.6ms\n",
      "70:\tlearn: 0.3700297\ttotal: 77.6ms\tremaining: 31.7ms\n",
      "80:\tlearn: 0.3656938\ttotal: 88.9ms\tremaining: 20.9ms\n",
      "90:\tlearn: 0.3611960\ttotal: 99.2ms\tremaining: 9.81ms\n",
      "99:\tlearn: 0.3576658\ttotal: 109ms\tremaining: 0us\n",
      "0:\tlearn: 0.6296039\ttotal: 1.44ms\tremaining: 286ms\n",
      "10:\tlearn: 0.4376944\ttotal: 12.4ms\tremaining: 212ms\n",
      "20:\tlearn: 0.4025663\ttotal: 23.7ms\tremaining: 202ms\n",
      "30:\tlearn: 0.3888399\ttotal: 34.7ms\tremaining: 189ms\n",
      "40:\tlearn: 0.3779785\ttotal: 45.2ms\tremaining: 175ms\n",
      "50:\tlearn: 0.3699148\ttotal: 56.4ms\tremaining: 165ms\n",
      "60:\tlearn: 0.3635980\ttotal: 66.9ms\tremaining: 152ms\n",
      "70:\tlearn: 0.3569464\ttotal: 78ms\tremaining: 142ms\n",
      "80:\tlearn: 0.3498117\ttotal: 89.2ms\tremaining: 131ms\n",
      "90:\tlearn: 0.3420048\ttotal: 100ms\tremaining: 120ms\n",
      "100:\tlearn: 0.3351464\ttotal: 113ms\tremaining: 111ms\n",
      "110:\tlearn: 0.3286520\ttotal: 124ms\tremaining: 99.5ms\n",
      "120:\tlearn: 0.3225962\ttotal: 135ms\tremaining: 88.4ms\n",
      "130:\tlearn: 0.3176812\ttotal: 147ms\tremaining: 77.2ms\n",
      "140:\tlearn: 0.3123236\ttotal: 158ms\tremaining: 66ms\n",
      "150:\tlearn: 0.3070597\ttotal: 169ms\tremaining: 54.8ms\n",
      "160:\tlearn: 0.3028969\ttotal: 180ms\tremaining: 43.6ms\n",
      "170:\tlearn: 0.2981265\ttotal: 191ms\tremaining: 32.4ms\n",
      "180:\tlearn: 0.2938726\ttotal: 203ms\tremaining: 21.3ms\n",
      "190:\tlearn: 0.2894072\ttotal: 214ms\tremaining: 10.1ms\n",
      "199:\tlearn: 0.2853955\ttotal: 224ms\tremaining: 0us\n",
      "0:\tlearn: 0.6314469\ttotal: 1.59ms\tremaining: 316ms\n",
      "10:\tlearn: 0.4434301\ttotal: 13.8ms\tremaining: 238ms\n",
      "20:\tlearn: 0.4086581\ttotal: 25.1ms\tremaining: 214ms\n",
      "30:\tlearn: 0.3950578\ttotal: 36.1ms\tremaining: 197ms\n",
      "40:\tlearn: 0.3839057\ttotal: 47.2ms\tremaining: 183ms\n",
      "50:\tlearn: 0.3761229\ttotal: 58.4ms\tremaining: 171ms\n",
      "60:\tlearn: 0.3693780\ttotal: 68.8ms\tremaining: 157ms\n",
      "70:\tlearn: 0.3623190\ttotal: 80ms\tremaining: 145ms\n",
      "80:\tlearn: 0.3558696\ttotal: 91.2ms\tremaining: 134ms\n",
      "90:\tlearn: 0.3480911\ttotal: 102ms\tremaining: 122ms\n",
      "100:\tlearn: 0.3420157\ttotal: 114ms\tremaining: 112ms\n",
      "110:\tlearn: 0.3355561\ttotal: 125ms\tremaining: 101ms\n",
      "120:\tlearn: 0.3299050\ttotal: 137ms\tremaining: 89.3ms\n",
      "130:\tlearn: 0.3224218\ttotal: 148ms\tremaining: 78.1ms\n",
      "140:\tlearn: 0.3167861\ttotal: 159ms\tremaining: 66.6ms\n",
      "150:\tlearn: 0.3112954\ttotal: 170ms\tremaining: 55.3ms\n",
      "160:\tlearn: 0.3067237\ttotal: 182ms\tremaining: 44ms\n",
      "170:\tlearn: 0.3013523\ttotal: 192ms\tremaining: 32.6ms\n",
      "180:\tlearn: 0.2961616\ttotal: 204ms\tremaining: 21.4ms\n",
      "190:\tlearn: 0.2923575\ttotal: 215ms\tremaining: 10.1ms\n",
      "199:\tlearn: 0.2884358\ttotal: 225ms\tremaining: 0us\n",
      "0:\tlearn: 0.6239593\ttotal: 1.56ms\tremaining: 310ms\n",
      "10:\tlearn: 0.4231798\ttotal: 12.7ms\tremaining: 219ms\n",
      "20:\tlearn: 0.3913072\ttotal: 23.7ms\tremaining: 202ms\n",
      "30:\tlearn: 0.3754706\ttotal: 34.9ms\tremaining: 190ms\n",
      "40:\tlearn: 0.3659006\ttotal: 46.2ms\tremaining: 179ms\n",
      "50:\tlearn: 0.3590196\ttotal: 57.5ms\tremaining: 168ms\n",
      "60:\tlearn: 0.3512866\ttotal: 68.6ms\tremaining: 156ms\n",
      "70:\tlearn: 0.3445731\ttotal: 79.8ms\tremaining: 145ms\n",
      "80:\tlearn: 0.3386363\ttotal: 90.9ms\tremaining: 134ms\n",
      "90:\tlearn: 0.3320275\ttotal: 102ms\tremaining: 122ms\n",
      "100:\tlearn: 0.3251619\ttotal: 114ms\tremaining: 111ms\n",
      "110:\tlearn: 0.3195970\ttotal: 125ms\tremaining: 100ms\n",
      "120:\tlearn: 0.3132596\ttotal: 136ms\tremaining: 88.9ms\n",
      "130:\tlearn: 0.3089607\ttotal: 147ms\tremaining: 77.6ms\n",
      "140:\tlearn: 0.3041841\ttotal: 159ms\tremaining: 66.4ms\n",
      "150:\tlearn: 0.2987706\ttotal: 170ms\tremaining: 55.1ms\n",
      "160:\tlearn: 0.2930808\ttotal: 181ms\tremaining: 43.9ms\n",
      "170:\tlearn: 0.2891740\ttotal: 192ms\tremaining: 32.6ms\n",
      "180:\tlearn: 0.2842137\ttotal: 204ms\tremaining: 21.4ms\n",
      "190:\tlearn: 0.2799418\ttotal: 220ms\tremaining: 10.4ms\n",
      "199:\tlearn: 0.2761035\ttotal: 230ms\tremaining: 0us\n",
      "0:\tlearn: 0.6296039\ttotal: 1.49ms\tremaining: 223ms\n",
      "10:\tlearn: 0.4376944\ttotal: 12.9ms\tremaining: 163ms\n",
      "20:\tlearn: 0.4025663\ttotal: 24ms\tremaining: 147ms\n",
      "30:\tlearn: 0.3888399\ttotal: 35ms\tremaining: 134ms\n",
      "40:\tlearn: 0.3779785\ttotal: 45.6ms\tremaining: 121ms\n",
      "50:\tlearn: 0.3699148\ttotal: 57.4ms\tremaining: 111ms\n",
      "60:\tlearn: 0.3635980\ttotal: 67.7ms\tremaining: 98.7ms\n",
      "70:\tlearn: 0.3569464\ttotal: 78.8ms\tremaining: 87.7ms\n",
      "80:\tlearn: 0.3498117\ttotal: 90.1ms\tremaining: 76.7ms\n",
      "90:\tlearn: 0.3420048\ttotal: 101ms\tremaining: 65.7ms\n",
      "100:\tlearn: 0.3351464\ttotal: 113ms\tremaining: 54.7ms\n",
      "110:\tlearn: 0.3286520\ttotal: 124ms\tremaining: 43.6ms\n",
      "120:\tlearn: 0.3225962\ttotal: 135ms\tremaining: 32.4ms\n",
      "130:\tlearn: 0.3176812\ttotal: 146ms\tremaining: 21.2ms\n",
      "140:\tlearn: 0.3123236\ttotal: 157ms\tremaining: 10.1ms\n",
      "149:\tlearn: 0.3076242\ttotal: 168ms\tremaining: 0us\n",
      "0:\tlearn: 0.6314469\ttotal: 1.4ms\tremaining: 209ms\n",
      "10:\tlearn: 0.4434301\ttotal: 12.8ms\tremaining: 161ms\n",
      "20:\tlearn: 0.4086581\ttotal: 24.3ms\tremaining: 149ms\n",
      "30:\tlearn: 0.3950578\ttotal: 35.4ms\tremaining: 136ms\n",
      "40:\tlearn: 0.3839057\ttotal: 47ms\tremaining: 125ms\n",
      "50:\tlearn: 0.3761229\ttotal: 58ms\tremaining: 113ms\n",
      "60:\tlearn: 0.3693780\ttotal: 68.5ms\tremaining: 99.9ms\n",
      "70:\tlearn: 0.3623190\ttotal: 79.7ms\tremaining: 88.7ms\n",
      "80:\tlearn: 0.3558696\ttotal: 91ms\tremaining: 77.5ms\n",
      "90:\tlearn: 0.3480911\ttotal: 102ms\tremaining: 66.2ms\n",
      "100:\tlearn: 0.3420157\ttotal: 114ms\tremaining: 55.1ms\n",
      "110:\tlearn: 0.3355561\ttotal: 125ms\tremaining: 44ms\n",
      "120:\tlearn: 0.3299050\ttotal: 137ms\tremaining: 32.7ms\n",
      "130:\tlearn: 0.3224218\ttotal: 148ms\tremaining: 21.5ms\n",
      "140:\tlearn: 0.3167861\ttotal: 159ms\tremaining: 10.2ms\n",
      "149:\tlearn: 0.3120664\ttotal: 170ms\tremaining: 0us\n"
     ]
    },
    {
     "name": "stdout",
     "output_type": "stream",
     "text": [
      "0:\tlearn: 0.6239593\ttotal: 1.24ms\tremaining: 185ms\n",
      "10:\tlearn: 0.4231798\ttotal: 12.4ms\tremaining: 156ms\n",
      "20:\tlearn: 0.3913072\ttotal: 23.5ms\tremaining: 144ms\n",
      "30:\tlearn: 0.3754706\ttotal: 34.8ms\tremaining: 134ms\n",
      "40:\tlearn: 0.3659006\ttotal: 45.8ms\tremaining: 122ms\n",
      "50:\tlearn: 0.3590196\ttotal: 56.8ms\tremaining: 110ms\n",
      "60:\tlearn: 0.3512866\ttotal: 67.8ms\tremaining: 98.9ms\n",
      "70:\tlearn: 0.3445731\ttotal: 78.9ms\tremaining: 87.8ms\n",
      "80:\tlearn: 0.3386363\ttotal: 90ms\tremaining: 76.6ms\n",
      "90:\tlearn: 0.3320275\ttotal: 101ms\tremaining: 65.5ms\n",
      "100:\tlearn: 0.3251619\ttotal: 112ms\tremaining: 54.4ms\n",
      "110:\tlearn: 0.3195970\ttotal: 123ms\tremaining: 43.3ms\n",
      "120:\tlearn: 0.3132596\ttotal: 134ms\tremaining: 32.2ms\n",
      "130:\tlearn: 0.3089607\ttotal: 146ms\tremaining: 21.1ms\n",
      "140:\tlearn: 0.3041841\ttotal: 157ms\tremaining: 10ms\n",
      "149:\tlearn: 0.2998813\ttotal: 167ms\tremaining: 0us\n",
      "0:\tlearn: 0.6861998\ttotal: 1.34ms\tremaining: 200ms\n",
      "10:\tlearn: 0.6318376\ttotal: 11.5ms\tremaining: 145ms\n",
      "20:\tlearn: 0.5873232\ttotal: 21.8ms\tremaining: 134ms\n",
      "30:\tlearn: 0.5531344\ttotal: 32.5ms\tremaining: 125ms\n",
      "40:\tlearn: 0.5254429\ttotal: 43.5ms\tremaining: 116ms\n",
      "50:\tlearn: 0.5045997\ttotal: 54.5ms\tremaining: 106ms\n",
      "60:\tlearn: 0.4870319\ttotal: 65.8ms\tremaining: 96ms\n",
      "70:\tlearn: 0.4732682\ttotal: 76.6ms\tremaining: 85.2ms\n",
      "80:\tlearn: 0.4625521\ttotal: 87.6ms\tremaining: 74.6ms\n",
      "90:\tlearn: 0.4533562\ttotal: 98.2ms\tremaining: 63.7ms\n",
      "100:\tlearn: 0.4454062\ttotal: 109ms\tremaining: 53ms\n",
      "110:\tlearn: 0.4383871\ttotal: 120ms\tremaining: 42.1ms\n",
      "120:\tlearn: 0.4324076\ttotal: 131ms\tremaining: 31.4ms\n",
      "130:\tlearn: 0.4276197\ttotal: 142ms\tremaining: 20.6ms\n",
      "140:\tlearn: 0.4232795\ttotal: 153ms\tremaining: 9.78ms\n",
      "149:\tlearn: 0.4193798\ttotal: 163ms\tremaining: 0us\n",
      "0:\tlearn: 0.6864679\ttotal: 1.32ms\tremaining: 196ms\n",
      "10:\tlearn: 0.6309145\ttotal: 12ms\tremaining: 152ms\n",
      "20:\tlearn: 0.5899419\ttotal: 22.6ms\tremaining: 139ms\n",
      "30:\tlearn: 0.5536602\ttotal: 33.2ms\tremaining: 128ms\n",
      "40:\tlearn: 0.5277809\ttotal: 43.9ms\tremaining: 117ms\n",
      "50:\tlearn: 0.5084920\ttotal: 55ms\tremaining: 107ms\n",
      "60:\tlearn: 0.4920777\ttotal: 66.9ms\tremaining: 97.6ms\n",
      "70:\tlearn: 0.4776310\ttotal: 78ms\tremaining: 86.7ms\n",
      "80:\tlearn: 0.4664741\ttotal: 89ms\tremaining: 75.8ms\n",
      "90:\tlearn: 0.4564321\ttotal: 100ms\tremaining: 65ms\n",
      "100:\tlearn: 0.4493169\ttotal: 111ms\tremaining: 53.9ms\n",
      "110:\tlearn: 0.4413507\ttotal: 122ms\tremaining: 42.9ms\n",
      "120:\tlearn: 0.4356483\ttotal: 133ms\tremaining: 32ms\n",
      "130:\tlearn: 0.4308696\ttotal: 145ms\tremaining: 21ms\n",
      "140:\tlearn: 0.4264992\ttotal: 156ms\tremaining: 9.93ms\n",
      "149:\tlearn: 0.4230469\ttotal: 166ms\tremaining: 0us\n",
      "0:\tlearn: 0.6855976\ttotal: 1.45ms\tremaining: 216ms\n",
      "10:\tlearn: 0.6266443\ttotal: 12.9ms\tremaining: 163ms\n",
      "20:\tlearn: 0.5798750\ttotal: 23.6ms\tremaining: 145ms\n",
      "30:\tlearn: 0.5445262\ttotal: 34.6ms\tremaining: 133ms\n",
      "40:\tlearn: 0.5172000\ttotal: 48.3ms\tremaining: 128ms\n",
      "50:\tlearn: 0.4966824\ttotal: 62.5ms\tremaining: 121ms\n",
      "60:\tlearn: 0.4781600\ttotal: 73.7ms\tremaining: 108ms\n",
      "70:\tlearn: 0.4626886\ttotal: 84.8ms\tremaining: 94.3ms\n",
      "80:\tlearn: 0.4509856\ttotal: 95.9ms\tremaining: 81.7ms\n",
      "90:\tlearn: 0.4401080\ttotal: 107ms\tremaining: 69.2ms\n",
      "100:\tlearn: 0.4314934\ttotal: 118ms\tremaining: 57.1ms\n",
      "110:\tlearn: 0.4245761\ttotal: 130ms\tremaining: 45.5ms\n",
      "120:\tlearn: 0.4190835\ttotal: 141ms\tremaining: 33.7ms\n",
      "130:\tlearn: 0.4138659\ttotal: 152ms\tremaining: 22ms\n",
      "140:\tlearn: 0.4095796\ttotal: 163ms\tremaining: 10.4ms\n",
      "149:\tlearn: 0.4060771\ttotal: 173ms\tremaining: 0us\n",
      "0:\tlearn: 0.6600001\ttotal: 20ms\tremaining: 2.99s\n",
      "10:\tlearn: 0.4658775\ttotal: 189ms\tremaining: 2.39s\n",
      "20:\tlearn: 0.3890038\ttotal: 376ms\tremaining: 2.31s\n",
      "30:\tlearn: 0.3526495\ttotal: 540ms\tremaining: 2.07s\n",
      "40:\tlearn: 0.3234241\ttotal: 722ms\tremaining: 1.92s\n",
      "50:\tlearn: 0.3007644\ttotal: 903ms\tremaining: 1.75s\n",
      "60:\tlearn: 0.2833661\ttotal: 1.08s\tremaining: 1.58s\n",
      "70:\tlearn: 0.2659550\ttotal: 1.26s\tremaining: 1.4s\n",
      "80:\tlearn: 0.2510861\ttotal: 1.45s\tremaining: 1.24s\n",
      "90:\tlearn: 0.2409943\ttotal: 1.61s\tremaining: 1.04s\n",
      "100:\tlearn: 0.2299288\ttotal: 1.79s\tremaining: 868ms\n",
      "110:\tlearn: 0.2198080\ttotal: 1.96s\tremaining: 690ms\n",
      "120:\tlearn: 0.2106017\ttotal: 2.15s\tremaining: 515ms\n",
      "130:\tlearn: 0.2021545\ttotal: 2.33s\tremaining: 337ms\n",
      "140:\tlearn: 0.1936076\ttotal: 2.52s\tremaining: 161ms\n",
      "149:\tlearn: 0.1875294\ttotal: 2.66s\tremaining: 0us\n",
      "0:\tlearn: 0.6605003\ttotal: 20.7ms\tremaining: 3.08s\n",
      "10:\tlearn: 0.4760766\ttotal: 158ms\tremaining: 2s\n",
      "20:\tlearn: 0.4052905\ttotal: 332ms\tremaining: 2.04s\n",
      "30:\tlearn: 0.3651430\ttotal: 499ms\tremaining: 1.92s\n",
      "40:\tlearn: 0.3410877\ttotal: 666ms\tremaining: 1.77s\n",
      "50:\tlearn: 0.3138698\ttotal: 844ms\tremaining: 1.64s\n",
      "60:\tlearn: 0.2958561\ttotal: 1.01s\tremaining: 1.47s\n",
      "70:\tlearn: 0.2792723\ttotal: 1.17s\tremaining: 1.31s\n",
      "80:\tlearn: 0.2686795\ttotal: 1.34s\tremaining: 1.14s\n",
      "90:\tlearn: 0.2537374\ttotal: 1.52s\tremaining: 984ms\n",
      "100:\tlearn: 0.2416933\ttotal: 1.71s\tremaining: 831ms\n",
      "110:\tlearn: 0.2334152\ttotal: 1.88s\tremaining: 661ms\n",
      "120:\tlearn: 0.2236230\ttotal: 2.05s\tremaining: 491ms\n",
      "130:\tlearn: 0.2137790\ttotal: 2.23s\tremaining: 324ms\n",
      "140:\tlearn: 0.2050753\ttotal: 2.43s\tremaining: 155ms\n",
      "149:\tlearn: 0.1993849\ttotal: 2.57s\tremaining: 0us\n",
      "0:\tlearn: 0.6564524\ttotal: 19.9ms\tremaining: 2.96s\n",
      "10:\tlearn: 0.4628377\ttotal: 165ms\tremaining: 2.09s\n",
      "20:\tlearn: 0.3914694\ttotal: 312ms\tremaining: 1.91s\n",
      "30:\tlearn: 0.3479269\ttotal: 509ms\tremaining: 1.95s\n",
      "40:\tlearn: 0.3243143\ttotal: 654ms\tremaining: 1.74s\n",
      "50:\tlearn: 0.2972381\ttotal: 835ms\tremaining: 1.62s\n",
      "60:\tlearn: 0.2820635\ttotal: 978ms\tremaining: 1.43s\n",
      "70:\tlearn: 0.2686506\ttotal: 1.14s\tremaining: 1.27s\n",
      "80:\tlearn: 0.2545951\ttotal: 1.32s\tremaining: 1.13s\n",
      "90:\tlearn: 0.2413437\ttotal: 1.52s\tremaining: 988ms\n",
      "100:\tlearn: 0.2326895\ttotal: 1.68s\tremaining: 815ms\n",
      "110:\tlearn: 0.2215875\ttotal: 1.86s\tremaining: 655ms\n",
      "120:\tlearn: 0.2127830\ttotal: 2.06s\tremaining: 494ms\n",
      "130:\tlearn: 0.2032497\ttotal: 2.24s\tremaining: 325ms\n",
      "140:\tlearn: 0.1949416\ttotal: 2.44s\tremaining: 156ms\n",
      "149:\tlearn: 0.1878856\ttotal: 2.61s\tremaining: 0us\n",
      "0:\tlearn: 0.6600001\ttotal: 20.4ms\tremaining: 4.06s\n",
      "10:\tlearn: 0.4658775\ttotal: 185ms\tremaining: 3.18s\n",
      "20:\tlearn: 0.3890038\ttotal: 363ms\tremaining: 3.1s\n",
      "30:\tlearn: 0.3526495\ttotal: 526ms\tremaining: 2.87s\n",
      "40:\tlearn: 0.3234241\ttotal: 703ms\tremaining: 2.73s\n",
      "50:\tlearn: 0.3007644\ttotal: 886ms\tremaining: 2.59s\n",
      "60:\tlearn: 0.2833661\ttotal: 1.06s\tremaining: 2.42s\n",
      "70:\tlearn: 0.2659550\ttotal: 1.25s\tremaining: 2.26s\n",
      "80:\tlearn: 0.2510861\ttotal: 1.43s\tremaining: 2.1s\n",
      "90:\tlearn: 0.2409943\ttotal: 1.6s\tremaining: 1.91s\n",
      "100:\tlearn: 0.2299288\ttotal: 1.78s\tremaining: 1.75s\n",
      "110:\tlearn: 0.2198080\ttotal: 1.97s\tremaining: 1.58s\n",
      "120:\tlearn: 0.2106017\ttotal: 2.15s\tremaining: 1.41s\n",
      "130:\tlearn: 0.2021545\ttotal: 2.34s\tremaining: 1.23s\n",
      "140:\tlearn: 0.1936076\ttotal: 2.53s\tremaining: 1.06s\n",
      "150:\tlearn: 0.1861330\ttotal: 2.69s\tremaining: 874ms\n",
      "160:\tlearn: 0.1789660\ttotal: 2.89s\tremaining: 700ms\n",
      "170:\tlearn: 0.1736618\ttotal: 3.09s\tremaining: 524ms\n",
      "180:\tlearn: 0.1682557\ttotal: 3.29s\tremaining: 345ms\n",
      "190:\tlearn: 0.1630123\ttotal: 3.48s\tremaining: 164ms\n",
      "199:\tlearn: 0.1588867\ttotal: 3.66s\tremaining: 0us\n",
      "0:\tlearn: 0.6605003\ttotal: 20ms\tremaining: 3.98s\n",
      "10:\tlearn: 0.4760766\ttotal: 161ms\tremaining: 2.76s\n",
      "20:\tlearn: 0.4052905\ttotal: 329ms\tremaining: 2.81s\n",
      "30:\tlearn: 0.3651430\ttotal: 500ms\tremaining: 2.73s\n",
      "40:\tlearn: 0.3410877\ttotal: 659ms\tremaining: 2.55s\n",
      "50:\tlearn: 0.3138698\ttotal: 840ms\tremaining: 2.45s\n",
      "60:\tlearn: 0.2958561\ttotal: 1s\tremaining: 2.28s\n",
      "70:\tlearn: 0.2792723\ttotal: 1.16s\tremaining: 2.11s\n",
      "80:\tlearn: 0.2686795\ttotal: 1.32s\tremaining: 1.94s\n",
      "90:\tlearn: 0.2537374\ttotal: 1.5s\tremaining: 1.8s\n",
      "100:\tlearn: 0.2416933\ttotal: 1.7s\tremaining: 1.67s\n",
      "110:\tlearn: 0.2334152\ttotal: 1.87s\tremaining: 1.5s\n",
      "120:\tlearn: 0.2236230\ttotal: 2.04s\tremaining: 1.33s\n",
      "130:\tlearn: 0.2137790\ttotal: 2.22s\tremaining: 1.17s\n",
      "140:\tlearn: 0.2050753\ttotal: 2.41s\tremaining: 1.01s\n",
      "150:\tlearn: 0.1986880\ttotal: 2.57s\tremaining: 835ms\n",
      "160:\tlearn: 0.1940135\ttotal: 2.68s\tremaining: 649ms\n",
      "170:\tlearn: 0.1871332\ttotal: 2.88s\tremaining: 489ms\n",
      "180:\tlearn: 0.1814788\ttotal: 3.07s\tremaining: 322ms\n",
      "190:\tlearn: 0.1755660\ttotal: 3.28s\tremaining: 155ms\n",
      "199:\tlearn: 0.1704105\ttotal: 3.46s\tremaining: 0us\n",
      "0:\tlearn: 0.6564524\ttotal: 20.2ms\tremaining: 4.02s\n",
      "10:\tlearn: 0.4628377\ttotal: 169ms\tremaining: 2.9s\n",
      "20:\tlearn: 0.3914694\ttotal: 316ms\tremaining: 2.69s\n",
      "30:\tlearn: 0.3479269\ttotal: 512ms\tremaining: 2.79s\n",
      "40:\tlearn: 0.3243143\ttotal: 657ms\tremaining: 2.55s\n",
      "50:\tlearn: 0.2972381\ttotal: 833ms\tremaining: 2.43s\n"
     ]
    },
    {
     "name": "stdout",
     "output_type": "stream",
     "text": [
      "60:\tlearn: 0.2820635\ttotal: 980ms\tremaining: 2.23s\n",
      "70:\tlearn: 0.2686506\ttotal: 1.14s\tremaining: 2.08s\n",
      "80:\tlearn: 0.2545951\ttotal: 1.32s\tremaining: 1.94s\n",
      "90:\tlearn: 0.2413437\ttotal: 1.51s\tremaining: 1.81s\n",
      "100:\tlearn: 0.2326895\ttotal: 1.68s\tremaining: 1.64s\n",
      "110:\tlearn: 0.2215875\ttotal: 1.85s\tremaining: 1.49s\n",
      "120:\tlearn: 0.2127830\ttotal: 2.05s\tremaining: 1.34s\n",
      "130:\tlearn: 0.2032497\ttotal: 2.23s\tremaining: 1.17s\n",
      "140:\tlearn: 0.1949416\ttotal: 2.42s\tremaining: 1.01s\n",
      "150:\tlearn: 0.1869289\ttotal: 2.62s\tremaining: 851ms\n",
      "160:\tlearn: 0.1788857\ttotal: 2.82s\tremaining: 683ms\n",
      "170:\tlearn: 0.1728469\ttotal: 3.02s\tremaining: 511ms\n",
      "180:\tlearn: 0.1670266\ttotal: 3.22s\tremaining: 338ms\n",
      "190:\tlearn: 0.1630857\ttotal: 3.42s\tremaining: 161ms\n",
      "199:\tlearn: 0.1585388\ttotal: 3.59s\tremaining: 0us\n",
      "0:\tlearn: 0.6862841\ttotal: 20ms\tremaining: 3.98s\n",
      "10:\tlearn: 0.6227578\ttotal: 167ms\tremaining: 2.87s\n",
      "20:\tlearn: 0.5715508\ttotal: 343ms\tremaining: 2.92s\n",
      "30:\tlearn: 0.5335017\ttotal: 513ms\tremaining: 2.8s\n",
      "40:\tlearn: 0.5006566\ttotal: 685ms\tremaining: 2.66s\n",
      "50:\tlearn: 0.4727301\ttotal: 886ms\tremaining: 2.59s\n",
      "60:\tlearn: 0.4513129\ttotal: 1.03s\tremaining: 2.35s\n",
      "70:\tlearn: 0.4328682\ttotal: 1.24s\tremaining: 2.25s\n",
      "80:\tlearn: 0.4175103\ttotal: 1.41s\tremaining: 2.06s\n",
      "90:\tlearn: 0.4057478\ttotal: 1.55s\tremaining: 1.86s\n",
      "100:\tlearn: 0.3942991\ttotal: 1.74s\tremaining: 1.7s\n",
      "110:\tlearn: 0.3832626\ttotal: 1.93s\tremaining: 1.55s\n",
      "120:\tlearn: 0.3737420\ttotal: 2.13s\tremaining: 1.39s\n",
      "130:\tlearn: 0.3647553\ttotal: 2.31s\tremaining: 1.22s\n",
      "140:\tlearn: 0.3572554\ttotal: 2.49s\tremaining: 1.04s\n",
      "150:\tlearn: 0.3504718\ttotal: 2.66s\tremaining: 865ms\n",
      "160:\tlearn: 0.3444089\ttotal: 2.85s\tremaining: 689ms\n",
      "170:\tlearn: 0.3379369\ttotal: 3.04s\tremaining: 515ms\n",
      "180:\tlearn: 0.3321898\ttotal: 3.2s\tremaining: 336ms\n",
      "190:\tlearn: 0.3261589\ttotal: 3.4s\tremaining: 160ms\n",
      "199:\tlearn: 0.3211871\ttotal: 3.56s\tremaining: 0us\n",
      "0:\tlearn: 0.6864048\ttotal: 19.8ms\tremaining: 3.94s\n",
      "10:\tlearn: 0.6268548\ttotal: 135ms\tremaining: 2.32s\n",
      "20:\tlearn: 0.5781032\ttotal: 283ms\tremaining: 2.41s\n",
      "30:\tlearn: 0.5388266\ttotal: 427ms\tremaining: 2.33s\n",
      "40:\tlearn: 0.5078571\ttotal: 606ms\tremaining: 2.35s\n",
      "50:\tlearn: 0.4837975\ttotal: 729ms\tremaining: 2.13s\n",
      "60:\tlearn: 0.4645263\ttotal: 871ms\tremaining: 1.98s\n",
      "70:\tlearn: 0.4478035\ttotal: 1.04s\tremaining: 1.89s\n",
      "80:\tlearn: 0.4340907\ttotal: 1.21s\tremaining: 1.77s\n",
      "90:\tlearn: 0.4216909\ttotal: 1.37s\tremaining: 1.64s\n",
      "100:\tlearn: 0.4104803\ttotal: 1.53s\tremaining: 1.5s\n",
      "110:\tlearn: 0.4006279\ttotal: 1.7s\tremaining: 1.36s\n",
      "120:\tlearn: 0.3918397\ttotal: 1.86s\tremaining: 1.22s\n",
      "130:\tlearn: 0.3833318\ttotal: 2.04s\tremaining: 1.08s\n",
      "140:\tlearn: 0.3757136\ttotal: 2.24s\tremaining: 939ms\n",
      "150:\tlearn: 0.3690954\ttotal: 2.38s\tremaining: 774ms\n",
      "160:\tlearn: 0.3651800\ttotal: 2.48s\tremaining: 600ms\n",
      "170:\tlearn: 0.3590399\ttotal: 2.66s\tremaining: 451ms\n",
      "180:\tlearn: 0.3542881\ttotal: 2.82s\tremaining: 296ms\n",
      "190:\tlearn: 0.3490862\ttotal: 2.98s\tremaining: 141ms\n",
      "199:\tlearn: 0.3452774\ttotal: 3.14s\tremaining: 0us\n",
      "0:\tlearn: 0.6855366\ttotal: 20.1ms\tremaining: 4s\n",
      "10:\tlearn: 0.6205224\ttotal: 140ms\tremaining: 2.41s\n",
      "20:\tlearn: 0.5683785\ttotal: 335ms\tremaining: 2.85s\n",
      "30:\tlearn: 0.5287491\ttotal: 466ms\tremaining: 2.54s\n",
      "40:\tlearn: 0.4998784\ttotal: 563ms\tremaining: 2.18s\n",
      "50:\tlearn: 0.4709638\ttotal: 761ms\tremaining: 2.22s\n",
      "60:\tlearn: 0.4491018\ttotal: 939ms\tremaining: 2.14s\n",
      "70:\tlearn: 0.4308711\ttotal: 1.12s\tremaining: 2.03s\n",
      "80:\tlearn: 0.4157753\ttotal: 1.3s\tremaining: 1.9s\n",
      "90:\tlearn: 0.4020131\ttotal: 1.49s\tremaining: 1.78s\n",
      "100:\tlearn: 0.3902812\ttotal: 1.66s\tremaining: 1.63s\n",
      "110:\tlearn: 0.3819247\ttotal: 1.81s\tremaining: 1.45s\n",
      "120:\tlearn: 0.3728269\ttotal: 1.97s\tremaining: 1.29s\n",
      "130:\tlearn: 0.3632590\ttotal: 2.17s\tremaining: 1.14s\n",
      "140:\tlearn: 0.3561228\ttotal: 2.33s\tremaining: 974ms\n",
      "150:\tlearn: 0.3481959\ttotal: 2.53s\tremaining: 821ms\n",
      "160:\tlearn: 0.3417343\ttotal: 2.72s\tremaining: 660ms\n",
      "170:\tlearn: 0.3356010\ttotal: 2.89s\tremaining: 489ms\n",
      "180:\tlearn: 0.3297725\ttotal: 3.07s\tremaining: 322ms\n",
      "190:\tlearn: 0.3254333\ttotal: 3.23s\tremaining: 152ms\n",
      "199:\tlearn: 0.3220870\ttotal: 3.37s\tremaining: 0us\n",
      "0:\tlearn: 0.6298802\ttotal: 22.3ms\tremaining: 2.21s\n",
      "10:\tlearn: 0.3846980\ttotal: 204ms\tremaining: 1.65s\n",
      "20:\tlearn: 0.3150051\ttotal: 410ms\tremaining: 1.54s\n",
      "30:\tlearn: 0.2704167\ttotal: 611ms\tremaining: 1.36s\n",
      "40:\tlearn: 0.2471698\ttotal: 775ms\tremaining: 1.11s\n",
      "50:\tlearn: 0.2270950\ttotal: 938ms\tremaining: 901ms\n",
      "60:\tlearn: 0.2080118\ttotal: 1.14s\tremaining: 726ms\n",
      "70:\tlearn: 0.1913645\ttotal: 1.31s\tremaining: 536ms\n",
      "80:\tlearn: 0.1757303\ttotal: 1.49s\tremaining: 350ms\n",
      "90:\tlearn: 0.1648622\ttotal: 1.69s\tremaining: 168ms\n",
      "99:\tlearn: 0.1561132\ttotal: 1.87s\tremaining: 0us\n",
      "0:\tlearn: 0.6306161\ttotal: 20.2ms\tremaining: 2s\n",
      "10:\tlearn: 0.4046054\ttotal: 167ms\tremaining: 1.35s\n",
      "20:\tlearn: 0.3464326\ttotal: 332ms\tremaining: 1.25s\n",
      "30:\tlearn: 0.3028008\ttotal: 509ms\tremaining: 1.13s\n",
      "40:\tlearn: 0.2675682\ttotal: 688ms\tremaining: 990ms\n",
      "50:\tlearn: 0.2409672\ttotal: 884ms\tremaining: 849ms\n",
      "60:\tlearn: 0.2227658\ttotal: 1.05s\tremaining: 670ms\n",
      "70:\tlearn: 0.2117887\ttotal: 1.21s\tremaining: 493ms\n",
      "80:\tlearn: 0.1966916\ttotal: 1.4s\tremaining: 329ms\n",
      "90:\tlearn: 0.1823514\ttotal: 1.6s\tremaining: 158ms\n",
      "99:\tlearn: 0.1702122\ttotal: 1.78s\tremaining: 0us\n",
      "0:\tlearn: 0.6232637\ttotal: 20.7ms\tremaining: 2.05s\n",
      "10:\tlearn: 0.3963209\ttotal: 124ms\tremaining: 1s\n",
      "20:\tlearn: 0.3311378\ttotal: 286ms\tremaining: 1.07s\n",
      "30:\tlearn: 0.2919444\ttotal: 471ms\tremaining: 1.05s\n",
      "40:\tlearn: 0.2590600\ttotal: 655ms\tremaining: 943ms\n",
      "50:\tlearn: 0.2309734\ttotal: 854ms\tremaining: 820ms\n",
      "60:\tlearn: 0.2143824\ttotal: 1s\tremaining: 643ms\n",
      "70:\tlearn: 0.2000815\ttotal: 1.21s\tremaining: 493ms\n",
      "80:\tlearn: 0.1821557\ttotal: 1.4s\tremaining: 329ms\n",
      "90:\tlearn: 0.1718499\ttotal: 1.6s\tremaining: 158ms\n",
      "99:\tlearn: 0.1605784\ttotal: 1.78s\tremaining: 0us\n",
      "0:\tlearn: 0.6296039\ttotal: 1.49ms\tremaining: 148ms\n",
      "10:\tlearn: 0.4376944\ttotal: 12.6ms\tremaining: 102ms\n",
      "20:\tlearn: 0.4025663\ttotal: 23.7ms\tremaining: 89.2ms\n",
      "30:\tlearn: 0.3888399\ttotal: 34.7ms\tremaining: 77.2ms\n",
      "40:\tlearn: 0.3779785\ttotal: 45.6ms\tremaining: 65.7ms\n",
      "50:\tlearn: 0.3699148\ttotal: 57ms\tremaining: 54.7ms\n",
      "60:\tlearn: 0.3635980\ttotal: 67.2ms\tremaining: 43ms\n",
      "70:\tlearn: 0.3569464\ttotal: 78.2ms\tremaining: 31.9ms\n",
      "80:\tlearn: 0.3498117\ttotal: 91.9ms\tremaining: 21.6ms\n",
      "90:\tlearn: 0.3420048\ttotal: 103ms\tremaining: 10.2ms\n",
      "99:\tlearn: 0.3358895\ttotal: 113ms\tremaining: 0us\n",
      "0:\tlearn: 0.6314469\ttotal: 1.46ms\tremaining: 144ms\n",
      "10:\tlearn: 0.4434301\ttotal: 12.5ms\tremaining: 101ms\n",
      "20:\tlearn: 0.4086581\ttotal: 23.6ms\tremaining: 88.9ms\n",
      "30:\tlearn: 0.3950578\ttotal: 34.7ms\tremaining: 77.2ms\n",
      "40:\tlearn: 0.3839057\ttotal: 45.8ms\tremaining: 65.9ms\n",
      "50:\tlearn: 0.3761229\ttotal: 56.5ms\tremaining: 54.3ms\n",
      "60:\tlearn: 0.3693780\ttotal: 66.8ms\tremaining: 42.7ms\n",
      "70:\tlearn: 0.3623190\ttotal: 77.9ms\tremaining: 31.8ms\n",
      "80:\tlearn: 0.3558696\ttotal: 88.9ms\tremaining: 20.9ms\n",
      "90:\tlearn: 0.3480911\ttotal: 100ms\tremaining: 9.89ms\n",
      "99:\tlearn: 0.3425110\ttotal: 110ms\tremaining: 0us\n",
      "0:\tlearn: 0.6239593\ttotal: 1.25ms\tremaining: 123ms\n",
      "10:\tlearn: 0.4231798\ttotal: 12.4ms\tremaining: 101ms\n",
      "20:\tlearn: 0.3913072\ttotal: 23.8ms\tremaining: 89.4ms\n",
      "30:\tlearn: 0.3754706\ttotal: 35.3ms\tremaining: 78.6ms\n",
      "40:\tlearn: 0.3659006\ttotal: 46.4ms\tremaining: 66.8ms\n",
      "50:\tlearn: 0.3590196\ttotal: 57.5ms\tremaining: 55.3ms\n",
      "60:\tlearn: 0.3512866\ttotal: 68.7ms\tremaining: 43.9ms\n",
      "70:\tlearn: 0.3445731\ttotal: 79.8ms\tremaining: 32.6ms\n",
      "80:\tlearn: 0.3386363\ttotal: 90.8ms\tremaining: 21.3ms\n",
      "90:\tlearn: 0.3320275\ttotal: 102ms\tremaining: 10.1ms\n",
      "99:\tlearn: 0.3258987\ttotal: 112ms\tremaining: 0us\n",
      "0:\tlearn: 0.6630028\ttotal: 1.56ms\tremaining: 154ms\n",
      "10:\tlearn: 0.4947286\ttotal: 14.2ms\tremaining: 115ms\n",
      "20:\tlearn: 0.4394311\ttotal: 27.2ms\tremaining: 102ms\n",
      "30:\tlearn: 0.4172619\ttotal: 39.6ms\tremaining: 88.2ms\n",
      "40:\tlearn: 0.4056751\ttotal: 52ms\tremaining: 74.8ms\n",
      "50:\tlearn: 0.3980861\ttotal: 64.8ms\tremaining: 62.3ms\n",
      "60:\tlearn: 0.3929297\ttotal: 77.6ms\tremaining: 49.6ms\n",
      "70:\tlearn: 0.3885295\ttotal: 90.3ms\tremaining: 36.9ms\n",
      "80:\tlearn: 0.3848900\ttotal: 103ms\tremaining: 24.2ms\n",
      "90:\tlearn: 0.3809698\ttotal: 116ms\tremaining: 11.5ms\n",
      "99:\tlearn: 0.3778167\ttotal: 127ms\tremaining: 0us\n"
     ]
    },
    {
     "data": {
      "text/plain": [
       "RandomizedSearchCV(cv=3,\n",
       "                   estimator=<catboost.core.CatBoostClassifier object at 0x7f16a76d7b20>,\n",
       "                   n_jobs=-1,\n",
       "                   param_distributions={'depth': array([ 5, 10]),\n",
       "                                        'iterations': [100, 150, 200],\n",
       "                                        'learning_rate': [0.01, 0.05, 0.1]},\n",
       "                   random_state=42, scoring='roc_auc', verbose=1)"
      ]
     },
     "execution_count": 151,
     "metadata": {},
     "output_type": "execute_result"
    }
   ],
   "source": [
    "# CatBoost Classifier - Finetune Hyperparameters\n",
    "\n",
    "# Define a smaller and more focused parameter grid\n",
    "param_distributions = {\n",
    "    'iterations': [100, 150, 200],\n",
    "    'learning_rate': [0.01, 0.05, 0.1],\n",
    "    'depth': np.arange(5, 15, 5)\n",
    "}\n",
    "\n",
    "# Initialize the model\n",
    "model_cb = CatBoostClassifier()\n",
    "\n",
    "# Perform random search with fewer iterations\n",
    "random_search_cb = RandomizedSearchCV(estimator=model_cb, param_distributions=param_distributions, \n",
    "                                   scoring='roc_auc', n_iter=10, cv=3, verbose=1, random_state=42, n_jobs=-1)\n",
    "\n",
    "random_search_cb.fit(features_train, target_train, verbose=10)\n",
    "\n",
    "\n"
   ]
  },
  {
   "cell_type": "code",
   "execution_count": 153,
   "metadata": {},
   "outputs": [
    {
     "name": "stdout",
     "output_type": "stream",
     "text": [
      "Best parameters found for CatBoost Classifier:  {'learning_rate': 0.05, 'iterations': 100, 'depth': 5}\n",
      "\n",
      "CatBoost Classifier (after finetuning hyperparameters) - ROC AUC: 0.85\n"
     ]
    }
   ],
   "source": [
    "# Get the best parameters and model for CatBoost Classifier model\n",
    "best_params_cb = random_search_cb.best_params_\n",
    "best_model_cb = random_search_cb.best_estimator_\n",
    "\n",
    "# Print the best parameters\n",
    "print(\"Best parameters found for CatBoost Classifier: \", best_params_cb)\n",
    "\n",
    "# Calculate AUC-ROC score for CatBoost Classifier after finetuning hyperparameters on validation set\n",
    "predict_prob_cb_finetuned = best_model_cb.predict_proba(features_valid)[:, 1]\n",
    "roc_auc_cb_finetuned = roc_auc_score(target_valid, predict_prob_cb_finetuned)\n",
    "print(\"\\nCatBoost Classifier (after finetuning hyperparameters) - ROC AUC:\", round(roc_auc_cb_finetuned, 2))\n"
   ]
  },
  {
   "cell_type": "markdown",
   "metadata": {},
   "source": [
    "### Finetuning LightGBM Classifier Model"
   ]
  },
  {
   "cell_type": "code",
   "execution_count": 154,
   "metadata": {},
   "outputs": [
    {
     "name": "stdout",
     "output_type": "stream",
     "text": [
      "Fitting 3 folds for each of 10 candidates, totalling 30 fits\n"
     ]
    },
    {
     "data": {
      "text/plain": [
       "RandomizedSearchCV(cv=3, estimator=LGBMClassifier(), n_jobs=-1,\n",
       "                   param_distributions={'colsample_bytree': [0.7, 0.8, 0.9],\n",
       "                                        'learning_rate': [0.01, 0.05, 0.1],\n",
       "                                        'max_depth': array([ 5, 10]),\n",
       "                                        'n_estimators': [100, 200, 300],\n",
       "                                        'num_leaves': array([20, 30, 40, 50]),\n",
       "                                        'subsample': [0.7, 0.8, 0.9]},\n",
       "                   random_state=42, scoring='roc_auc', verbose=1)"
      ]
     },
     "execution_count": 154,
     "metadata": {},
     "output_type": "execute_result"
    }
   ],
   "source": [
    "# Light GBM Classifier (LGBMClassifier) - Finetune Hyperparameters\n",
    "\n",
    "# Define a smaller and more focused parameter grid\n",
    "param_distributions = {\n",
    "    'num_leaves': np.arange(20, 60, 10),\n",
    "    'max_depth': np.arange(5, 15, 5),\n",
    "    'learning_rate': [0.01, 0.05, 0.1],\n",
    "    'n_estimators': [100, 200, 300],\n",
    "    'subsample': [0.7, 0.8, 0.9],\n",
    "    'colsample_bytree': [0.7, 0.8, 0.9],\n",
    "}\n",
    "\n",
    "# Initialize the model\n",
    "model_lgb = LGBMClassifier()\n",
    "\n",
    "# Perform random search with fewer iterations\n",
    "random_search_lgbm = RandomizedSearchCV(estimator=model_lgb, param_distributions=param_distributions, \n",
    "                                   scoring='roc_auc', n_iter=10, cv=3, verbose=1, random_state=42, n_jobs=-1)\n",
    "\n",
    "random_search_lgbm.fit(features_train, target_train)\n"
   ]
  },
  {
   "cell_type": "code",
   "execution_count": 155,
   "metadata": {},
   "outputs": [
    {
     "name": "stdout",
     "output_type": "stream",
     "text": [
      "Best parameters found for LightGBM Classifier:  {'subsample': 0.7, 'num_leaves': 30, 'n_estimators': 200, 'max_depth': 5, 'learning_rate': 0.01, 'colsample_bytree': 0.8}\n",
      "\n",
      "LightGBM Classifier (after finetuning hyperparameters) - ROC AUC: 0.85\n"
     ]
    }
   ],
   "source": [
    "# Get the best parameters and model\n",
    "\n",
    "best_params_lgbm = random_search_lgbm.best_params_\n",
    "best_model_lgbm = random_search_lgbm.best_estimator_\n",
    "\n",
    "# Print the best parameters \n",
    "print(\"Best parameters found for LightGBM Classifier: \", best_params_lgbm)\n",
    "\n",
    "# Calculate AUC-ROC score for LightGBM Classifier after finetuning hyperparameters on validation set\n",
    "\n",
    "predict_prob_lgb_finetuned = best_model_lgbm.predict_proba(features_valid)[:, 1]\n",
    "roc_auc_lgb_finetuned = roc_auc_score(target_valid, predict_prob_lgb_finetuned)\n",
    "print(\"\\nLightGBM Classifier (after finetuning hyperparameters) - ROC AUC:\", round(roc_auc_lgb_finetuned, 2))\n"
   ]
  },
  {
   "cell_type": "markdown",
   "metadata": {},
   "source": [
    "### Finetuning Gradient Boosting Classifier Model"
   ]
  },
  {
   "cell_type": "code",
   "execution_count": 156,
   "metadata": {},
   "outputs": [
    {
     "name": "stdout",
     "output_type": "stream",
     "text": [
      "Fitting 3 folds for each of 10 candidates, totalling 30 fits\n"
     ]
    },
    {
     "data": {
      "text/plain": [
       "RandomizedSearchCV(cv=3, estimator=GradientBoostingClassifier(), n_jobs=-1,\n",
       "                   param_distributions={'learning_rate': [0.01, 0.05, 0.1],\n",
       "                                        'max_depth': [None, 10],\n",
       "                                        'min_samples_split': [2, 5],\n",
       "                                        'n_estimators': [50, 100, 150]},\n",
       "                   random_state=42, scoring='roc_auc', verbose=1)"
      ]
     },
     "execution_count": 156,
     "metadata": {},
     "output_type": "execute_result"
    }
   ],
   "source": [
    "# Gradient Boosting Classifier - Finetune Hyperparameters\n",
    "\n",
    "param_grid_gb = {\n",
    "    'n_estimators': [50, 100, 150],\n",
    "    'max_depth': [None, 10],\n",
    "    'min_samples_split': [2, 5],\n",
    "    'learning_rate': [0.01, 0.05, 0.1],\n",
    "}\n",
    "\n",
    "\n",
    "model_gb_clf = GradientBoostingClassifier()\n",
    "\n",
    "random_search_gb = RandomizedSearchCV(estimator=model_gb_clf, param_distributions=param_grid_gb, \n",
    "                                   scoring='roc_auc', n_iter=10, cv=3, verbose=1, random_state=42, n_jobs=-1)\n",
    "\n",
    "random_search_gb.fit(features_train, target_train)\n"
   ]
  },
  {
   "cell_type": "code",
   "execution_count": 157,
   "metadata": {},
   "outputs": [
    {
     "name": "stdout",
     "output_type": "stream",
     "text": [
      "Best Parameters: {'n_estimators': 100, 'min_samples_split': 2, 'max_depth': 10, 'learning_rate': 0.1}\n",
      "\n",
      "Gradient Boosting Classifier (after finetuning hyperparameters) - ROC AUC: 0.83\n"
     ]
    }
   ],
   "source": [
    "# Get the best parameters and model\n",
    "best_params_gb = random_search_gb.best_params_\n",
    "best_model_gb = random_search_gb.best_estimator_\n",
    "\n",
    "# Print the best parameters \n",
    "print(\"Best Parameters:\", best_params_gb)\n",
    "\n",
    "# Calculate AUC-ROC score for Gradient Boosting Classifier after finetuning hyperparameters on validation set\n",
    "predict_prob_gb_finetuned = best_model_gb.predict_proba(features_valid)[:, 1]\n",
    "roc_auc_gb_finetuned = roc_auc_score(target_valid, predict_prob_gb_finetuned)\n",
    "print(\"\\nGradient Boosting Classifier (after finetuning hyperparameters) - ROC AUC:\", round(roc_auc_gb_finetuned, 2))\n"
   ]
  },
  {
   "cell_type": "markdown",
   "metadata": {},
   "source": [
    "## Final Model - LightGBM Classifier"
   ]
  },
  {
   "cell_type": "markdown",
   "metadata": {},
   "source": [
    "Random Forest Classifier, CatBoost Classifier and LightGBM Classifier all gave an exact ROC-AUC score of 0.85 on the validation set. LightGBM Classifier was chosen only because it was the fastest to finetune the hyperparameters on it."
   ]
  },
  {
   "cell_type": "code",
   "execution_count": 163,
   "metadata": {},
   "outputs": [
    {
     "name": "stdout",
     "output_type": "stream",
     "text": [
      "LightGBM Classifier (after finetuning hyperparameters) - ROC AUC on Test set: 0.83\n",
      "Accuracy: 0.79\n"
     ]
    },
    {
     "data": {
      "image/png": "[encoded data removed]",
      "text/plain": [
       "<Figure size 640x480 with 1 Axes>"
      ]
     },
     "metadata": {},
     "output_type": "display_data"
    }
   ],
   "source": [
    "# LightGBM Classifier on Test Set\n",
    "\n",
    "# Calculate AUC-ROC score for LightGBM Classifier after finetuning hyperparameters on test set\n",
    "predict_prob_lgb_finetuned_test = best_model_lgbm.predict_proba(features_test)[:, 1]\n",
    "roc_auc_lgb_finetuned_test = roc_auc_score(target_test, predict_prob_lgb_finetuned_test)\n",
    "print(\"LightGBM Classifier (after finetuning hyperparameters) - ROC AUC on Test set:\", round(roc_auc_lgb_finetuned_test, 2))\n",
    "\n",
    "# Calculate Accuracy on test set\n",
    "prediction_lgb_finetuned_test = best_model_lgbm.predict(features_test)\n",
    "accuracy_lgb_finetuned_test = accuracy_score(target_test, prediction_lgb_finetuned_test)\n",
    "print(\"Accuracy:\", round(accuracy_lgb_finetuned_test, 2))\n",
    "\n",
    "# Plot the ROC curve\n",
    "fpr, tpr, thresholds = roc_curve(target_test, predict_prob_lgb_finetuned_test)\n",
    "plt.plot(fpr, tpr, label=f'AUC = {roc_auc_lgb_finetuned_test:.2f}')\n",
    "plt.plot([0, 1], [0, 1], 'k--')  # Diagonal line representing random chance\n",
    "plt.xlabel('False Positive Rate')\n",
    "plt.ylabel('True Positive Rate')\n",
    "plt.title('ROC Curve - LightGBM Classifier Model (on Test set)')\n",
    "plt.legend(loc='lower right')\n",
    "plt.show()"
   ]
  },
  {
   "cell_type": "markdown",
   "metadata": {},
   "source": [
    "## Conclusion - Report"
   ]
  },
  {
   "cell_type": "markdown",
   "metadata": {},
   "source": [
    "Interconnect's client data was analyzed and then models were trained based on that to determine if a client is planning to leave. To do this, first all data including clientele’s personal data, information about their plans and contracts were combined and preprocessed. Exploratory Data Analysis was done on this data, which showed that the clients who were active were paying more monthly compared to those who left. There was no direct relation noticed for male vs. female clients in terms of their churn rate, or any relationship to which type of Internet Service they had signed up for.\n",
    "\n",
    "Various classification algorithms such as Decision Tree Classifier, Random Forest Classifier, CatBoost Classifier, LightGBM Classifier and Gradient Boosting Classifier were used to train models to pick the best one. Initially, CatBoost classifier and Gradient Boosting Classifier gave the best AUC-ROC at 0.85 for the validation set, but upon finetuning hyperparameters, LightGBM also gave a AUC-ROC score of 0.85 on validation set. \n",
    "\n",
    "The final model selected was a LightGBM Classifier, testing was done on the test set which gave a AUC-ROC score of 0.83, and an accuracy score of 0.79. It passes our threshold of AUC-ROC score of 0.75.\n",
    "\n",
    "All the project plan steps were carried out. The only one that was skipped was scaling the data as most of the featurs were categorical and not numerical, so One Hot Encoding was used which does not require scaling the data. One of the difficulties encountered during this project were figuring out data leakage when changing the data type of Total Charges to float, as there were some single space strings there. This was solved by going back and checking for all the single space strings in TotalCharges and updating it with the Monthly Charges. Another difficulty was finetuning hyperparameters of models to get a better AUC-ROC score while also spending only a reasonable time to train those models. RandomizedSearchCV was used to do this efficiently.\n",
    "\n",
    "Interconnect can now use this data to forecast if a client is planning to leave, then the marketing team can offer them promotional codes and special plan options to entice them to stay."
   ]
  }
 ],
 "metadata": {
  "ExecuteTimeLog": [
   {
    "duration": 160,
    "start_time": "2025-01-23T18:20:10.617Z"
   },
   {
    "duration": 10,
    "start_time": "2025-01-23T18:20:10.813Z"
   },
   {
    "duration": 13,
    "start_time": "2025-01-23T18:20:10.997Z"
   },
   {
    "duration": 2706,
    "start_time": "2025-01-23T18:20:14.106Z"
   },
   {
    "duration": 66,
    "start_time": "2025-01-23T18:20:16.815Z"
   },
   {
    "duration": 13,
    "start_time": "2025-01-23T18:20:16.883Z"
   },
   {
    "duration": 7,
    "start_time": "2025-01-23T18:20:16.898Z"
   },
   {
    "duration": 9,
    "start_time": "2025-01-23T18:20:16.907Z"
   },
   {
    "duration": 5,
    "start_time": "2025-01-23T18:20:16.918Z"
   },
   {
    "duration": 11,
    "start_time": "2025-01-23T18:20:30.734Z"
   },
   {
    "duration": 16,
    "start_time": "2025-01-23T18:20:43.304Z"
   },
   {
    "duration": 36,
    "start_time": "2025-01-23T18:20:53.716Z"
   },
   {
    "duration": 50,
    "start_time": "2025-01-23T18:21:06.216Z"
   },
   {
    "duration": 13,
    "start_time": "2025-01-23T18:21:14.990Z"
   },
   {
    "duration": 5,
    "start_time": "2025-01-23T18:21:32.564Z"
   },
   {
    "duration": 90,
    "start_time": "2025-01-23T18:21:51.261Z"
   },
   {
    "duration": 249,
    "start_time": "2025-01-23T18:22:13.208Z"
   },
   {
    "duration": 233,
    "start_time": "2025-01-23T18:22:23.519Z"
   },
   {
    "duration": 140,
    "start_time": "2025-01-23T18:22:49.613Z"
   },
   {
    "duration": 184,
    "start_time": "2025-01-23T18:23:21.236Z"
   },
   {
    "duration": 4,
    "start_time": "2025-01-23T18:24:02.237Z"
   },
   {
    "duration": 16,
    "start_time": "2025-01-23T18:24:11.260Z"
   },
   {
    "duration": 28,
    "start_time": "2025-01-23T18:24:26.580Z"
   },
   {
    "duration": 2,
    "start_time": "2025-01-23T18:25:11.387Z"
   },
   {
    "duration": 118,
    "start_time": "2025-01-23T18:32:47.253Z"
   },
   {
    "duration": 38,
    "start_time": "2025-01-23T18:32:47.958Z"
   },
   {
    "duration": 10,
    "start_time": "2025-01-23T18:34:39.339Z"
   },
   {
    "duration": 8,
    "start_time": "2025-01-23T18:34:43.520Z"
   },
   {
    "duration": 10,
    "start_time": "2025-01-23T18:34:43.709Z"
   },
   {
    "duration": 6,
    "start_time": "2025-01-23T18:34:43.881Z"
   },
   {
    "duration": 10,
    "start_time": "2025-01-23T18:34:44.045Z"
   },
   {
    "duration": 16,
    "start_time": "2025-01-23T18:34:44.226Z"
   },
   {
    "duration": 36,
    "start_time": "2025-01-23T18:34:44.561Z"
   },
   {
    "duration": 49,
    "start_time": "2025-01-23T18:34:44.745Z"
   },
   {
    "duration": 13,
    "start_time": "2025-01-23T18:34:45.089Z"
   },
   {
    "duration": 5,
    "start_time": "2025-01-23T18:34:45.308Z"
   },
   {
    "duration": 80,
    "start_time": "2025-01-23T18:34:45.734Z"
   },
   {
    "duration": 233,
    "start_time": "2025-01-23T18:34:46.979Z"
   },
   {
    "duration": 231,
    "start_time": "2025-01-23T18:34:47.274Z"
   },
   {
    "duration": 79,
    "start_time": "2025-01-23T18:34:48.161Z"
   },
   {
    "duration": 251,
    "start_time": "2025-01-23T18:34:48.662Z"
   },
   {
    "duration": 4,
    "start_time": "2025-01-23T18:34:50.894Z"
   },
   {
    "duration": 16,
    "start_time": "2025-01-23T18:34:51.258Z"
   },
   {
    "duration": 29,
    "start_time": "2025-01-23T18:34:52.106Z"
   },
   {
    "duration": 7,
    "start_time": "2025-01-23T18:37:10.636Z"
   },
   {
    "duration": 4,
    "start_time": "2025-01-23T18:40:30.323Z"
   },
   {
    "duration": 33,
    "start_time": "2025-01-23T18:40:31.128Z"
   },
   {
    "duration": 9,
    "start_time": "2025-01-23T18:40:31.499Z"
   },
   {
    "duration": 8,
    "start_time": "2025-01-23T18:40:31.690Z"
   },
   {
    "duration": 10,
    "start_time": "2025-01-23T18:40:31.840Z"
   },
   {
    "duration": 7,
    "start_time": "2025-01-23T18:40:32.153Z"
   },
   {
    "duration": 11,
    "start_time": "2025-01-23T18:40:32.332Z"
   },
   {
    "duration": 18,
    "start_time": "2025-01-23T18:40:32.645Z"
   },
   {
    "duration": 37,
    "start_time": "2025-01-23T18:40:32.808Z"
   },
   {
    "duration": 49,
    "start_time": "2025-01-23T18:40:32.969Z"
   },
   {
    "duration": 15,
    "start_time": "2025-01-23T18:40:33.143Z"
   },
   {
    "duration": 5,
    "start_time": "2025-01-23T18:40:33.304Z"
   },
   {
    "duration": 80,
    "start_time": "2025-01-23T18:40:33.628Z"
   },
   {
    "duration": 231,
    "start_time": "2025-01-23T18:40:34.216Z"
   },
   {
    "duration": 231,
    "start_time": "2025-01-23T18:40:34.449Z"
   },
   {
    "duration": 77,
    "start_time": "2025-01-23T18:40:34.753Z"
   },
   {
    "duration": 184,
    "start_time": "2025-01-23T18:40:35.115Z"
   },
   {
    "duration": 4,
    "start_time": "2025-01-23T18:40:35.964Z"
   },
   {
    "duration": 15,
    "start_time": "2025-01-23T18:40:36.381Z"
   },
   {
    "duration": 27,
    "start_time": "2025-01-23T18:40:37.120Z"
   },
   {
    "duration": 7,
    "start_time": "2025-01-23T18:40:38.965Z"
   },
   {
    "duration": 7,
    "start_time": "2025-01-23T18:40:42.075Z"
   },
   {
    "duration": 363,
    "start_time": "2025-01-23T18:43:31.464Z"
   },
   {
    "duration": 10,
    "start_time": "2025-01-23T18:45:58.915Z"
   },
   {
    "duration": 72,
    "start_time": "2025-01-23T18:46:00.904Z"
   },
   {
    "duration": 109,
    "start_time": "2025-01-23T18:48:02.418Z"
   },
   {
    "duration": 2711,
    "start_time": "2025-01-24T00:54:32.332Z"
   },
   {
    "duration": 66,
    "start_time": "2025-01-24T00:54:35.046Z"
   },
   {
    "duration": 16,
    "start_time": "2025-01-24T00:54:35.114Z"
   },
   {
    "duration": 7,
    "start_time": "2025-01-24T00:54:35.132Z"
   },
   {
    "duration": 10,
    "start_time": "2025-01-24T00:54:35.140Z"
   },
   {
    "duration": 7,
    "start_time": "2025-01-24T00:54:35.167Z"
   },
   {
    "duration": 11,
    "start_time": "2025-01-24T00:54:43.767Z"
   },
   {
    "duration": 17,
    "start_time": "2025-01-24T00:54:44.231Z"
   },
   {
    "duration": 37,
    "start_time": "2025-01-24T00:54:45.054Z"
   },
   {
    "duration": 48,
    "start_time": "2025-01-24T00:54:45.737Z"
   },
   {
    "duration": 13,
    "start_time": "2025-01-24T00:54:46.501Z"
   },
   {
    "duration": 5,
    "start_time": "2025-01-24T00:54:47.320Z"
   },
   {
    "duration": 88,
    "start_time": "2025-01-24T00:54:49.093Z"
   },
   {
    "duration": 239,
    "start_time": "2025-01-24T00:54:50.482Z"
   },
   {
    "duration": 274,
    "start_time": "2025-01-24T00:54:51.257Z"
   },
   {
    "duration": 80,
    "start_time": "2025-01-24T00:54:53.295Z"
   },
   {
    "duration": 203,
    "start_time": "2025-01-24T00:54:54.760Z"
   },
   {
    "duration": 4,
    "start_time": "2025-01-24T00:54:57.497Z"
   },
   {
    "duration": 19,
    "start_time": "2025-01-24T00:54:58.032Z"
   },
   {
    "duration": 30,
    "start_time": "2025-01-24T00:54:59.092Z"
   },
   {
    "duration": 8,
    "start_time": "2025-01-24T00:54:59.829Z"
   },
   {
    "duration": 10,
    "start_time": "2025-01-24T00:55:02.399Z"
   },
   {
    "duration": 270,
    "start_time": "2025-01-24T00:55:50.984Z"
   },
   {
    "duration": 3,
    "start_time": "2025-01-24T00:56:03.115Z"
   },
   {
    "duration": 40,
    "start_time": "2025-01-24T00:56:03.545Z"
   },
   {
    "duration": 16,
    "start_time": "2025-01-24T00:56:03.902Z"
   },
   {
    "duration": 10,
    "start_time": "2025-01-24T00:56:04.282Z"
   },
   {
    "duration": 10,
    "start_time": "2025-01-24T00:56:04.549Z"
   },
   {
    "duration": 7,
    "start_time": "2025-01-24T00:56:04.810Z"
   },
   {
    "duration": 12,
    "start_time": "2025-01-24T00:56:05.069Z"
   },
   {
    "duration": 16,
    "start_time": "2025-01-24T00:56:05.334Z"
   },
   {
    "duration": 37,
    "start_time": "2025-01-24T00:56:05.582Z"
   },
   {
    "duration": 49,
    "start_time": "2025-01-24T00:56:05.837Z"
   },
   {
    "duration": 12,
    "start_time": "2025-01-24T00:56:06.103Z"
   },
   {
    "duration": 5,
    "start_time": "2025-01-24T00:56:06.556Z"
   },
   {
    "duration": 77,
    "start_time": "2025-01-24T00:56:07.582Z"
   },
   {
    "duration": 230,
    "start_time": "2025-01-24T00:56:08.986Z"
   },
   {
    "duration": 219,
    "start_time": "2025-01-24T00:56:09.492Z"
   },
   {
    "duration": 181,
    "start_time": "2025-01-24T00:56:11.278Z"
   },
   {
    "duration": 174,
    "start_time": "2025-01-24T00:56:12.743Z"
   },
   {
    "duration": 4,
    "start_time": "2025-01-24T00:56:15.139Z"
   },
   {
    "duration": 15,
    "start_time": "2025-01-24T00:56:15.879Z"
   },
   {
    "duration": 27,
    "start_time": "2025-01-24T00:56:23.813Z"
   },
   {
    "duration": 8,
    "start_time": "2025-01-24T00:56:24.220Z"
   },
   {
    "duration": 22,
    "start_time": "2025-01-24T00:56:24.805Z"
   },
   {
    "duration": 6,
    "start_time": "2025-01-24T01:33:41.679Z"
   },
   {
    "duration": 10,
    "start_time": "2025-01-24T01:33:42.361Z"
   },
   {
    "duration": 167,
    "start_time": "2025-01-24T01:33:48.926Z"
   },
   {
    "duration": 37,
    "start_time": "2025-01-24T01:35:09.554Z"
   },
   {
    "duration": 8,
    "start_time": "2025-01-24T01:38:13.843Z"
   },
   {
    "duration": 14,
    "start_time": "2025-01-24T01:38:49.351Z"
   },
   {
    "duration": 16,
    "start_time": "2025-01-24T01:39:47.809Z"
   },
   {
    "duration": 15,
    "start_time": "2025-01-24T01:40:18.891Z"
   },
   {
    "duration": 5,
    "start_time": "2025-01-24T01:40:28.101Z"
   },
   {
    "duration": 4,
    "start_time": "2025-01-24T01:40:45.131Z"
   },
   {
    "duration": 4,
    "start_time": "2025-01-24T01:41:10.474Z"
   },
   {
    "duration": 3,
    "start_time": "2025-01-24T01:41:56.140Z"
   },
   {
    "duration": 38,
    "start_time": "2025-01-24T01:41:56.897Z"
   },
   {
    "duration": 10,
    "start_time": "2025-01-24T01:41:57.387Z"
   },
   {
    "duration": 8,
    "start_time": "2025-01-24T01:41:58.027Z"
   },
   {
    "duration": 10,
    "start_time": "2025-01-24T01:41:58.706Z"
   },
   {
    "duration": 6,
    "start_time": "2025-01-24T01:41:59.475Z"
   },
   {
    "duration": 11,
    "start_time": "2025-01-24T01:42:00.677Z"
   },
   {
    "duration": 16,
    "start_time": "2025-01-24T01:42:01.335Z"
   },
   {
    "duration": 36,
    "start_time": "2025-01-24T01:42:02.050Z"
   },
   {
    "duration": 49,
    "start_time": "2025-01-24T01:42:02.944Z"
   },
   {
    "duration": 11,
    "start_time": "2025-01-24T01:42:03.959Z"
   },
   {
    "duration": 10,
    "start_time": "2025-01-24T01:42:57.834Z"
   },
   {
    "duration": 17,
    "start_time": "2025-01-24T01:44:02.302Z"
   },
   {
    "duration": 11,
    "start_time": "2025-01-24T01:49:30.602Z"
   },
   {
    "duration": 6,
    "start_time": "2025-01-24T01:49:40.623Z"
   },
   {
    "duration": 11,
    "start_time": "2025-01-24T01:50:16.562Z"
   },
   {
    "duration": 18,
    "start_time": "2025-01-24T01:50:21.320Z"
   },
   {
    "duration": 5,
    "start_time": "2025-01-24T01:52:20.179Z"
   },
   {
    "duration": 4,
    "start_time": "2025-01-24T01:52:36.098Z"
   },
   {
    "duration": 55,
    "start_time": "2025-01-24T01:57:12.468Z"
   },
   {
    "duration": 51,
    "start_time": "2025-01-24T01:57:19.699Z"
   },
   {
    "duration": 53,
    "start_time": "2025-01-24T01:58:08.665Z"
   },
   {
    "duration": 6,
    "start_time": "2025-01-24T01:58:15.271Z"
   },
   {
    "duration": 12,
    "start_time": "2025-01-24T01:58:24.397Z"
   },
   {
    "duration": 4,
    "start_time": "2025-01-24T01:58:29.513Z"
   },
   {
    "duration": 82,
    "start_time": "2025-01-24T01:58:31.071Z"
   },
   {
    "duration": 225,
    "start_time": "2025-01-24T01:58:31.453Z"
   },
   {
    "duration": 225,
    "start_time": "2025-01-24T01:58:31.681Z"
   },
   {
    "duration": 150,
    "start_time": "2025-01-24T01:58:31.938Z"
   },
   {
    "duration": 180,
    "start_time": "2025-01-24T01:58:32.239Z"
   },
   {
    "duration": 4,
    "start_time": "2025-01-24T01:58:32.717Z"
   },
   {
    "duration": 15,
    "start_time": "2025-01-24T01:58:32.874Z"
   },
   {
    "duration": 35,
    "start_time": "2025-01-24T01:58:33.209Z"
   },
   {
    "duration": 7,
    "start_time": "2025-01-24T01:58:33.480Z"
   },
   {
    "duration": 11,
    "start_time": "2025-01-24T01:58:33.645Z"
   },
   {
    "duration": 19,
    "start_time": "2025-01-24T01:58:34.511Z"
   },
   {
    "duration": 112,
    "start_time": "2025-01-24T01:59:03.897Z"
   },
   {
    "duration": 110,
    "start_time": "2025-01-24T01:59:22.055Z"
   },
   {
    "duration": 111,
    "start_time": "2025-01-24T01:59:50.553Z"
   },
   {
    "duration": 299,
    "start_time": "2025-01-24T01:59:56.435Z"
   },
   {
    "duration": 110,
    "start_time": "2025-01-24T02:00:51.629Z"
   },
   {
    "duration": 157,
    "start_time": "2025-01-24T02:01:03.557Z"
   },
   {
    "duration": 20,
    "start_time": "2025-01-24T02:02:29.494Z"
   },
   {
    "duration": 3,
    "start_time": "2025-01-24T02:02:42.939Z"
   },
   {
    "duration": 37,
    "start_time": "2025-01-24T02:02:43.371Z"
   },
   {
    "duration": 10,
    "start_time": "2025-01-24T02:02:43.557Z"
   },
   {
    "duration": 7,
    "start_time": "2025-01-24T02:02:43.732Z"
   },
   {
    "duration": 9,
    "start_time": "2025-01-24T02:02:44.053Z"
   },
   {
    "duration": 6,
    "start_time": "2025-01-24T02:02:44.225Z"
   },
   {
    "duration": 11,
    "start_time": "2025-01-24T02:02:44.413Z"
   },
   {
    "duration": 15,
    "start_time": "2025-01-24T02:02:44.567Z"
   },
   {
    "duration": 40,
    "start_time": "2025-01-24T02:02:44.714Z"
   },
   {
    "duration": 48,
    "start_time": "2025-01-24T02:02:45.044Z"
   },
   {
    "duration": 12,
    "start_time": "2025-01-24T02:02:45.251Z"
   },
   {
    "duration": 53,
    "start_time": "2025-01-24T02:02:45.579Z"
   },
   {
    "duration": 11,
    "start_time": "2025-01-24T02:03:09.296Z"
   },
   {
    "duration": 7,
    "start_time": "2025-01-24T02:03:16.160Z"
   },
   {
    "duration": 94,
    "start_time": "2025-01-24T02:03:17.301Z"
   },
   {
    "duration": 246,
    "start_time": "2025-01-24T02:03:17.890Z"
   },
   {
    "duration": 247,
    "start_time": "2025-01-24T02:03:18.151Z"
   },
   {
    "duration": 77,
    "start_time": "2025-01-24T02:03:18.596Z"
   },
   {
    "duration": 196,
    "start_time": "2025-01-24T02:03:18.919Z"
   },
   {
    "duration": 5,
    "start_time": "2025-01-24T02:03:19.445Z"
   },
   {
    "duration": 20,
    "start_time": "2025-01-24T02:03:19.624Z"
   },
   {
    "duration": 122,
    "start_time": "2025-01-24T02:03:19.798Z"
   },
   {
    "duration": 7,
    "start_time": "2025-01-24T02:03:19.979Z"
   },
   {
    "duration": 10,
    "start_time": "2025-01-24T02:03:20.186Z"
   },
   {
    "duration": 21,
    "start_time": "2025-01-24T02:03:20.725Z"
   },
   {
    "duration": 111,
    "start_time": "2025-01-24T02:03:21.131Z"
   },
   {
    "duration": 328,
    "start_time": "2025-01-24T02:03:22.684Z"
   },
   {
    "duration": 163,
    "start_time": "2025-01-24T02:03:23.976Z"
   },
   {
    "duration": 414,
    "start_time": "2025-01-24T02:03:29.095Z"
   },
   {
    "duration": 119,
    "start_time": "2025-01-24T02:04:55.675Z"
   },
   {
    "duration": 16,
    "start_time": "2025-01-24T02:06:25.872Z"
   },
   {
    "duration": 7138,
    "start_time": "2025-01-24T02:06:31.075Z"
   },
   {
    "duration": 216,
    "start_time": "2025-01-24T02:07:35.063Z"
   },
   {
    "duration": 22,
    "start_time": "2025-01-24T02:09:18.516Z"
   },
   {
    "duration": 116,
    "start_time": "2025-01-24T02:09:18.726Z"
   },
   {
    "duration": 327,
    "start_time": "2025-01-24T02:09:19.098Z"
   },
   {
    "duration": 166,
    "start_time": "2025-01-24T02:09:19.427Z"
   },
   {
    "duration": 310,
    "start_time": "2025-01-24T02:09:19.894Z"
   },
   {
    "duration": 164,
    "start_time": "2025-01-24T02:09:20.206Z"
   },
   {
    "duration": 5563,
    "start_time": "2025-01-24T02:09:20.666Z"
   },
   {
    "duration": 315,
    "start_time": "2025-01-24T02:09:26.230Z"
   },
   {
    "duration": 0,
    "start_time": "2025-01-24T02:20:17.825Z"
   },
   {
    "duration": 0,
    "start_time": "2025-01-24T02:20:17.828Z"
   },
   {
    "duration": 0,
    "start_time": "2025-01-24T02:20:17.830Z"
   },
   {
    "duration": 0,
    "start_time": "2025-01-24T02:20:17.833Z"
   },
   {
    "duration": 0,
    "start_time": "2025-01-24T02:20:17.835Z"
   },
   {
    "duration": 2976,
    "start_time": "2025-01-24T04:18:40.401Z"
   },
   {
    "duration": 67,
    "start_time": "2025-01-24T04:18:43.379Z"
   },
   {
    "duration": 89,
    "start_time": "2025-01-24T04:18:43.448Z"
   },
   {
    "duration": 10,
    "start_time": "2025-01-24T04:18:45.638Z"
   },
   {
    "duration": 10,
    "start_time": "2025-01-24T04:18:45.959Z"
   },
   {
    "duration": 6,
    "start_time": "2025-01-24T04:18:46.634Z"
   },
   {
    "duration": 11,
    "start_time": "2025-01-24T04:18:46.816Z"
   },
   {
    "duration": 16,
    "start_time": "2025-01-24T04:18:47.145Z"
   },
   {
    "duration": 38,
    "start_time": "2025-01-24T04:18:47.336Z"
   },
   {
    "duration": 71,
    "start_time": "2025-01-24T04:18:47.504Z"
   },
   {
    "duration": 18,
    "start_time": "2025-01-24T04:18:47.689Z"
   },
   {
    "duration": 63,
    "start_time": "2025-01-24T04:18:48.123Z"
   },
   {
    "duration": 4,
    "start_time": "2025-01-24T04:18:48.288Z"
   },
   {
    "duration": 113,
    "start_time": "2025-01-24T04:18:56.051Z"
   },
   {
    "duration": 265,
    "start_time": "2025-01-24T04:18:56.489Z"
   },
   {
    "duration": 246,
    "start_time": "2025-01-24T04:18:56.757Z"
   },
   {
    "duration": 86,
    "start_time": "2025-01-24T04:18:57.095Z"
   },
   {
    "duration": 211,
    "start_time": "2025-01-24T04:18:57.510Z"
   },
   {
    "duration": 4,
    "start_time": "2025-01-24T04:18:58.093Z"
   },
   {
    "duration": 16,
    "start_time": "2025-01-24T04:18:58.279Z"
   },
   {
    "duration": 42,
    "start_time": "2025-01-24T04:18:58.490Z"
   },
   {
    "duration": 9,
    "start_time": "2025-01-24T04:18:58.690Z"
   },
   {
    "duration": 13,
    "start_time": "2025-01-24T04:18:58.905Z"
   },
   {
    "duration": 23,
    "start_time": "2025-01-24T04:18:59.603Z"
   },
   {
    "duration": 161,
    "start_time": "2025-01-24T04:18:59.840Z"
   },
   {
    "duration": 380,
    "start_time": "2025-01-24T04:19:00.269Z"
   },
   {
    "duration": 193,
    "start_time": "2025-01-24T04:19:00.652Z"
   },
   {
    "duration": 368,
    "start_time": "2025-01-24T04:19:01.160Z"
   },
   {
    "duration": 134,
    "start_time": "2025-01-24T04:19:01.531Z"
   },
   {
    "duration": 48193,
    "start_time": "2025-01-24T04:19:02.360Z"
   },
   {
    "duration": 414,
    "start_time": "2025-01-24T04:19:50.555Z"
   },
   {
    "duration": 709021,
    "start_time": "2025-01-24T04:19:50.972Z"
   },
   {
    "duration": 0,
    "start_time": "2025-01-24T04:31:39.994Z"
   },
   {
    "duration": 4,
    "start_time": "2025-01-24T04:32:08.547Z"
   },
   {
    "duration": 24,
    "start_time": "2025-01-24T04:32:10.235Z"
   },
   {
    "duration": 41735,
    "start_time": "2025-01-24T04:41:53.000Z"
   },
   {
    "duration": 7,
    "start_time": "2025-01-24T04:42:34.737Z"
   },
   {
    "duration": 2899,
    "start_time": "2025-01-24T04:50:25.469Z"
   },
   {
    "duration": 3,
    "start_time": "2025-01-24T04:50:33.431Z"
   },
   {
    "duration": 44,
    "start_time": "2025-01-24T04:50:35.715Z"
   },
   {
    "duration": 40978,
    "start_time": "2025-01-24T04:52:32.975Z"
   },
   {
    "duration": 3,
    "start_time": "2025-01-24T04:53:13.955Z"
   },
   {
    "duration": 6,
    "start_time": "2025-01-24T04:53:13.960Z"
   },
   {
    "duration": 6,
    "start_time": "2025-01-24T04:57:10.430Z"
   },
   {
    "duration": 27,
    "start_time": "2025-01-24T04:59:07.844Z"
   },
   {
    "duration": 462,
    "start_time": "2025-01-24T05:05:04.169Z"
   },
   {
    "duration": 118,
    "start_time": "2025-01-24T05:05:05.784Z"
   },
   {
    "duration": 32690,
    "start_time": "2025-01-24T05:13:08.417Z"
   },
   {
    "duration": 2,
    "start_time": "2025-01-24T05:13:41.110Z"
   },
   {
    "duration": 32,
    "start_time": "2025-01-24T05:13:41.114Z"
   },
   {
    "duration": 22,
    "start_time": "2025-01-24T05:16:40.089Z"
   },
   {
    "duration": 138,
    "start_time": "2025-01-24T05:16:57.673Z"
   },
   {
    "duration": 32087,
    "start_time": "2025-01-24T05:17:47.228Z"
   },
   {
    "duration": 4,
    "start_time": "2025-01-24T05:18:19.317Z"
   },
   {
    "duration": 22,
    "start_time": "2025-01-24T05:18:19.331Z"
   },
   {
    "duration": 44,
    "start_time": "2025-01-24T05:20:06.376Z"
   },
   {
    "duration": 456,
    "start_time": "2025-01-24T05:20:22.840Z"
   },
   {
    "duration": 116,
    "start_time": "2025-01-24T05:20:23.576Z"
   },
   {
    "duration": 10,
    "start_time": "2025-01-24T05:20:42.428Z"
   },
   {
    "duration": 19,
    "start_time": "2025-01-24T05:22:47.740Z"
   },
   {
    "duration": 181,
    "start_time": "2025-01-24T05:25:25.180Z"
   },
   {
    "duration": 113,
    "start_time": "2025-01-24T05:25:44.495Z"
   },
   {
    "duration": 116,
    "start_time": "2025-01-24T05:26:08.261Z"
   },
   {
    "duration": 16,
    "start_time": "2025-01-24T05:28:28.769Z"
   },
   {
    "duration": 58774,
    "start_time": "2025-01-24T05:29:06.591Z"
   },
   {
    "duration": 3,
    "start_time": "2025-01-24T05:30:05.367Z"
   },
   {
    "duration": 22,
    "start_time": "2025-01-24T05:30:05.371Z"
   },
   {
    "duration": 4200,
    "start_time": "2025-01-24T05:31:25.729Z"
   },
   {
    "duration": 3,
    "start_time": "2025-01-24T05:31:37.134Z"
   },
   {
    "duration": 45,
    "start_time": "2025-01-24T05:31:38.393Z"
   },
   {
    "duration": 2879,
    "start_time": "2025-01-24T05:31:50.270Z"
   },
   {
    "duration": 9,
    "start_time": "2025-01-24T05:31:53.182Z"
   },
   {
    "duration": 41,
    "start_time": "2025-01-24T05:31:55.114Z"
   },
   {
    "duration": 14536,
    "start_time": "2025-01-24T05:32:07.915Z"
   },
   {
    "duration": 3,
    "start_time": "2025-01-24T05:32:22.453Z"
   },
   {
    "duration": 99,
    "start_time": "2025-01-24T05:32:22.532Z"
   },
   {
    "duration": 7,
    "start_time": "2025-01-24T05:34:29.463Z"
   },
   {
    "duration": 16,
    "start_time": "2025-01-24T05:34:31.318Z"
   },
   {
    "duration": 3,
    "start_time": "2025-01-24T05:41:03.415Z"
   },
   {
    "duration": 23,
    "start_time": "2025-01-24T05:41:50.526Z"
   },
   {
    "duration": 23,
    "start_time": "2025-01-24T05:42:01.629Z"
   },
   {
    "duration": 6,
    "start_time": "2025-01-24T05:42:31.826Z"
   },
   {
    "duration": 32,
    "start_time": "2025-01-24T05:42:52.942Z"
   },
   {
    "duration": 13,
    "start_time": "2025-01-24T05:43:31.360Z"
   },
   {
    "duration": 16,
    "start_time": "2025-01-24T05:46:31.333Z"
   },
   {
    "duration": 40,
    "start_time": "2025-01-24T05:46:51.117Z"
   },
   {
    "duration": 91,
    "start_time": "2025-01-24T05:49:23.074Z"
   },
   {
    "duration": 85,
    "start_time": "2025-01-24T05:51:55.703Z"
   },
   {
    "duration": 85,
    "start_time": "2025-01-24T05:53:58.305Z"
   },
   {
    "duration": 82,
    "start_time": "2025-01-24T05:54:07.518Z"
   },
   {
    "duration": 82,
    "start_time": "2025-01-24T05:54:34.284Z"
   },
   {
    "duration": 12,
    "start_time": "2025-01-24T05:57:02.687Z"
   },
   {
    "duration": 10,
    "start_time": "2025-01-24T05:58:51.698Z"
   },
   {
    "duration": 94,
    "start_time": "2025-01-24T06:00:57.618Z"
   },
   {
    "duration": 94,
    "start_time": "2025-01-24T06:01:04.066Z"
   },
   {
    "duration": 95,
    "start_time": "2025-01-24T06:01:21.109Z"
   },
   {
    "duration": 121,
    "start_time": "2025-01-24T06:03:16.222Z"
   },
   {
    "duration": 117,
    "start_time": "2025-01-24T06:03:40.847Z"
   },
   {
    "duration": 113,
    "start_time": "2025-01-24T06:03:47.165Z"
   },
   {
    "duration": 117,
    "start_time": "2025-01-24T06:03:52.396Z"
   },
   {
    "duration": 116,
    "start_time": "2025-01-24T06:04:05.260Z"
   },
   {
    "duration": 9,
    "start_time": "2025-01-24T06:05:14.742Z"
   },
   {
    "duration": 116,
    "start_time": "2025-01-24T06:06:06.553Z"
   },
   {
    "duration": 126,
    "start_time": "2025-01-24T06:06:16.605Z"
   },
   {
    "duration": 220,
    "start_time": "2025-01-24T06:06:45.841Z"
   },
   {
    "duration": 64,
    "start_time": "2025-01-24T06:14:54.899Z"
   },
   {
    "duration": 58,
    "start_time": "2025-01-24T06:15:03.150Z"
   },
   {
    "duration": 21,
    "start_time": "2025-01-24T06:15:40.321Z"
   },
   {
    "duration": 67,
    "start_time": "2025-01-24T06:15:45.995Z"
   },
   {
    "duration": 18,
    "start_time": "2025-01-24T06:16:01.897Z"
   },
   {
    "duration": 56,
    "start_time": "2025-01-24T06:16:28.944Z"
   },
   {
    "duration": 49,
    "start_time": "2025-01-24T06:16:52.252Z"
   },
   {
    "duration": 3,
    "start_time": "2025-01-24T06:22:06.610Z"
   },
   {
    "duration": 36,
    "start_time": "2025-01-24T06:22:07.120Z"
   },
   {
    "duration": 10,
    "start_time": "2025-01-24T06:22:07.830Z"
   },
   {
    "duration": 8,
    "start_time": "2025-01-24T06:22:08.799Z"
   },
   {
    "duration": 9,
    "start_time": "2025-01-24T06:22:09.406Z"
   },
   {
    "duration": 7,
    "start_time": "2025-01-24T06:22:09.839Z"
   },
   {
    "duration": 11,
    "start_time": "2025-01-24T06:22:11.053Z"
   },
   {
    "duration": 16,
    "start_time": "2025-01-24T06:22:11.707Z"
   },
   {
    "duration": 36,
    "start_time": "2025-01-24T06:22:13.058Z"
   },
   {
    "duration": 48,
    "start_time": "2025-01-24T06:22:13.968Z"
   },
   {
    "duration": 12,
    "start_time": "2025-01-24T06:22:18.959Z"
   },
   {
    "duration": 49,
    "start_time": "2025-01-24T06:22:31.498Z"
   },
   {
    "duration": 6,
    "start_time": "2025-01-24T06:22:42.562Z"
   },
   {
    "duration": 79,
    "start_time": "2025-01-24T06:22:50.730Z"
   },
   {
    "duration": 229,
    "start_time": "2025-01-24T06:22:52.057Z"
   },
   {
    "duration": 225,
    "start_time": "2025-01-24T06:22:52.819Z"
   },
   {
    "duration": 113,
    "start_time": "2025-01-24T06:23:16.455Z"
   },
   {
    "duration": 126,
    "start_time": "2025-01-24T06:23:18.444Z"
   },
   {
    "duration": 5,
    "start_time": "2025-01-24T06:23:27.540Z"
   },
   {
    "duration": 16,
    "start_time": "2025-01-24T06:23:28.167Z"
   },
   {
    "duration": 39,
    "start_time": "2025-01-24T06:23:59.284Z"
   },
   {
    "duration": 7,
    "start_time": "2025-01-24T06:23:59.977Z"
   },
   {
    "duration": 9,
    "start_time": "2025-01-24T06:24:01.066Z"
   },
   {
    "duration": 18,
    "start_time": "2025-01-24T06:24:02.359Z"
   },
   {
    "duration": 113,
    "start_time": "2025-01-24T06:24:03.128Z"
   },
   {
    "duration": 294,
    "start_time": "2025-01-24T06:25:04.035Z"
   },
   {
    "duration": 159,
    "start_time": "2025-01-24T06:25:04.657Z"
   },
   {
    "duration": 19,
    "start_time": "2025-01-24T06:25:15.536Z"
   },
   {
    "duration": 112,
    "start_time": "2025-01-24T06:25:16.174Z"
   },
   {
    "duration": 303,
    "start_time": "2025-01-24T06:25:18.294Z"
   },
   {
    "duration": 157,
    "start_time": "2025-01-24T06:25:19.977Z"
   },
   {
    "duration": 300,
    "start_time": "2025-01-24T06:25:23.962Z"
   },
   {
    "duration": 113,
    "start_time": "2025-01-24T06:25:25.258Z"
   },
   {
    "duration": 184,
    "start_time": "2025-01-24T06:25:43.568Z"
   },
   {
    "duration": 228,
    "start_time": "2025-01-24T06:25:44.458Z"
   },
   {
    "duration": 464,
    "start_time": "2025-01-24T06:26:00.443Z"
   },
   {
    "duration": 117,
    "start_time": "2025-01-24T06:26:01.076Z"
   },
   {
    "duration": 2900,
    "start_time": "2025-01-24T06:27:46.335Z"
   },
   {
    "duration": 23,
    "start_time": "2025-01-24T06:27:50.623Z"
   },
   {
    "duration": 40734,
    "start_time": "2025-01-24T06:27:53.673Z"
   },
   {
    "duration": 6,
    "start_time": "2025-01-24T06:28:34.409Z"
   },
   {
    "duration": 7,
    "start_time": "2025-01-24T06:28:40.570Z"
   },
   {
    "duration": 14545,
    "start_time": "2025-01-24T06:28:42.204Z"
   },
   {
    "duration": 88,
    "start_time": "2025-01-24T06:28:56.751Z"
   },
   {
    "duration": 58241,
    "start_time": "2025-01-24T06:28:56.841Z"
   },
   {
    "duration": 11,
    "start_time": "2025-01-24T06:29:55.085Z"
   },
   {
    "duration": 2872,
    "start_time": "2025-01-24T06:31:32.937Z"
   },
   {
    "duration": 32,
    "start_time": "2025-01-24T06:31:35.811Z"
   },
   {
    "duration": 41,
    "start_time": "2025-01-24T06:31:56.391Z"
   },
   {
    "duration": 7,
    "start_time": "2025-01-24T06:31:58.177Z"
   },
   {
    "duration": 17,
    "start_time": "2025-01-24T06:31:59.772Z"
   },
   {
    "duration": 119,
    "start_time": "2025-01-24T06:32:01.880Z"
   },
   {
    "duration": 132,
    "start_time": "2025-01-24T06:42:09.063Z"
   },
   {
    "duration": 145,
    "start_time": "2025-01-24T06:42:20.990Z"
   },
   {
    "duration": 141,
    "start_time": "2025-01-24T06:42:30.605Z"
   },
   {
    "duration": 144,
    "start_time": "2025-01-24T06:42:38.042Z"
   },
   {
    "duration": 14,
    "start_time": "2025-01-25T16:51:21.274Z"
   }
  ],
  "kernelspec": {
   "display_name": "Python 3 (ipykernel)",
   "language": "python",
   "name": "python3"
  },
  "language_info": {
   "codemirror_mode": {
    "name": "ipython",
    "version": 3
   },
   "file_extension": ".py",
   "mimetype": "text/x-python",
   "name": "python",
   "nbconvert_exporter": "python",
   "pygments_lexer": "ipython3",
   "version": "3.9.19"
  },
  "toc": {
   "base_numbering": 1,
   "nav_menu": {},
   "number_sections": true,
   "sideBar": true,
   "skip_h1_title": true,
   "title_cell": "Table of Contents",
   "title_sidebar": "Contents",
   "toc_cell": false,
   "toc_position": {},
   "toc_section_display": true,
   "toc_window_display": false
  }
 },
 "nbformat": 4,
 "nbformat_minor": 2
}
